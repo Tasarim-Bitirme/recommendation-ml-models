{
 "cells": [
  {
   "cell_type": "markdown",
   "metadata": {},
   "source": [
    "## Content-Based Fitering Recommendation System"
   ]
  },
  {
   "cell_type": "markdown",
   "metadata": {},
   "source": [
    "\n",
    "#### In this type of recommendation system I'll be merging 2 datasets and forming a new one that's suitable for the required algorithms"
   ]
  },
  {
   "cell_type": "code",
   "execution_count": 2,
   "metadata": {},
   "outputs": [],
   "source": [
    "#import pandas and numpy libraries\n",
    "import pandas as pd\n",
    "import numpy as np\n",
    "from ast import literal_eval\n"
   ]
  },
  {
   "cell_type": "code",
   "execution_count": 3,
   "metadata": {},
   "outputs": [
    {
     "name": "stderr",
     "output_type": "stream",
     "text": [
      "C:\\Users\\almud\\AppData\\Local\\Temp\\ipykernel_2400\\177235090.py:2: FutureWarning: The error_bad_lines argument has been deprecated and will be removed in a future version. Use on_bad_lines in the future.\n",
      "\n",
      "\n",
      "  books_original = pd.read_csv('dataset/bx_271380_books.csv', sep=';', error_bad_lines=False, encoding=\"latin-1\")\n",
      "b'Skipping line 6452: expected 8 fields, saw 9\\nSkipping line 43667: expected 8 fields, saw 10\\nSkipping line 51751: expected 8 fields, saw 9\\n'\n",
      "b'Skipping line 92038: expected 8 fields, saw 9\\nSkipping line 104319: expected 8 fields, saw 9\\nSkipping line 121768: expected 8 fields, saw 9\\n'\n",
      "b'Skipping line 144058: expected 8 fields, saw 9\\nSkipping line 150789: expected 8 fields, saw 9\\nSkipping line 157128: expected 8 fields, saw 9\\nSkipping line 180189: expected 8 fields, saw 9\\nSkipping line 185738: expected 8 fields, saw 9\\n'\n",
      "b'Skipping line 209388: expected 8 fields, saw 9\\nSkipping line 220626: expected 8 fields, saw 9\\nSkipping line 227933: expected 8 fields, saw 11\\nSkipping line 228957: expected 8 fields, saw 10\\nSkipping line 245933: expected 8 fields, saw 9\\nSkipping line 251296: expected 8 fields, saw 9\\nSkipping line 259941: expected 8 fields, saw 9\\nSkipping line 261529: expected 8 fields, saw 9\\n'\n",
      "C:\\Users\\almud\\AppData\\Local\\Temp\\ipykernel_2400\\177235090.py:2: DtypeWarning: Columns (3) have mixed types. Specify dtype option on import or set low_memory=False.\n",
      "  books_original = pd.read_csv('dataset/bx_271380_books.csv', sep=';', error_bad_lines=False, encoding=\"latin-1\")\n"
     ]
    }
   ],
   "source": [
    "# Read the csv file\n",
    "books_original = pd.read_csv('dataset/bx_271380_books.csv', sep=';', error_bad_lines=False, encoding=\"latin-1\")"
   ]
  },
  {
   "cell_type": "code",
   "execution_count": 4,
   "metadata": {},
   "outputs": [
    {
     "data": {
      "text/html": [
       "<div>\n",
       "<style scoped>\n",
       "    .dataframe tbody tr th:only-of-type {\n",
       "        vertical-align: middle;\n",
       "    }\n",
       "\n",
       "    .dataframe tbody tr th {\n",
       "        vertical-align: top;\n",
       "    }\n",
       "\n",
       "    .dataframe thead th {\n",
       "        text-align: right;\n",
       "    }\n",
       "</style>\n",
       "<table border=\"1\" class=\"dataframe\">\n",
       "  <thead>\n",
       "    <tr style=\"text-align: right;\">\n",
       "      <th></th>\n",
       "      <th>ISBN</th>\n",
       "      <th>Book-Title</th>\n",
       "      <th>Book-Author</th>\n",
       "      <th>Year-Of-Publication</th>\n",
       "      <th>Publisher</th>\n",
       "      <th>Image-URL-S</th>\n",
       "      <th>Image-URL-M</th>\n",
       "      <th>Image-URL-L</th>\n",
       "    </tr>\n",
       "  </thead>\n",
       "  <tbody>\n",
       "    <tr>\n",
       "      <th>0</th>\n",
       "      <td>0195153448</td>\n",
       "      <td>Classical Mythology</td>\n",
       "      <td>Mark P. O. Morford</td>\n",
       "      <td>2002</td>\n",
       "      <td>Oxford University Press</td>\n",
       "      <td>http://images.amazon.com/images/P/0195153448.0...</td>\n",
       "      <td>http://images.amazon.com/images/P/0195153448.0...</td>\n",
       "      <td>http://images.amazon.com/images/P/0195153448.0...</td>\n",
       "    </tr>\n",
       "    <tr>\n",
       "      <th>1</th>\n",
       "      <td>0002005018</td>\n",
       "      <td>Clara Callan</td>\n",
       "      <td>Richard Bruce Wright</td>\n",
       "      <td>2001</td>\n",
       "      <td>HarperFlamingo Canada</td>\n",
       "      <td>http://images.amazon.com/images/P/0002005018.0...</td>\n",
       "      <td>http://images.amazon.com/images/P/0002005018.0...</td>\n",
       "      <td>http://images.amazon.com/images/P/0002005018.0...</td>\n",
       "    </tr>\n",
       "  </tbody>\n",
       "</table>\n",
       "</div>"
      ],
      "text/plain": [
       "         ISBN           Book-Title           Book-Author Year-Of-Publication  \\\n",
       "0  0195153448  Classical Mythology    Mark P. O. Morford                2002   \n",
       "1  0002005018         Clara Callan  Richard Bruce Wright                2001   \n",
       "\n",
       "                 Publisher                                        Image-URL-S  \\\n",
       "0  Oxford University Press  http://images.amazon.com/images/P/0195153448.0...   \n",
       "1    HarperFlamingo Canada  http://images.amazon.com/images/P/0002005018.0...   \n",
       "\n",
       "                                         Image-URL-M  \\\n",
       "0  http://images.amazon.com/images/P/0195153448.0...   \n",
       "1  http://images.amazon.com/images/P/0002005018.0...   \n",
       "\n",
       "                                         Image-URL-L  \n",
       "0  http://images.amazon.com/images/P/0195153448.0...  \n",
       "1  http://images.amazon.com/images/P/0002005018.0...  "
      ]
     },
     "execution_count": 4,
     "metadata": {},
     "output_type": "execute_result"
    }
   ],
   "source": [
    "#display the first 5 rows of the dataframe\n",
    "books_original.head(2)"
   ]
  },
  {
   "cell_type": "code",
   "execution_count": 5,
   "metadata": {},
   "outputs": [],
   "source": [
    "#extract data from csv file\n",
    "books_df = pd.read_csv('https://raw.githubusercontent.com/malcolmosh/goodbooks-10k/master/books_enriched.csv', index_col=[0], converters={\"genres\": literal_eval})"
   ]
  },
  {
   "cell_type": "code",
   "execution_count": 6,
   "metadata": {},
   "outputs": [
    {
     "data": {
      "text/html": [
       "<div>\n",
       "<style scoped>\n",
       "    .dataframe tbody tr th:only-of-type {\n",
       "        vertical-align: middle;\n",
       "    }\n",
       "\n",
       "    .dataframe tbody tr th {\n",
       "        vertical-align: top;\n",
       "    }\n",
       "\n",
       "    .dataframe thead th {\n",
       "        text-align: right;\n",
       "    }\n",
       "</style>\n",
       "<table border=\"1\" class=\"dataframe\">\n",
       "  <thead>\n",
       "    <tr style=\"text-align: right;\">\n",
       "      <th></th>\n",
       "      <th>index</th>\n",
       "      <th>authors</th>\n",
       "      <th>average_rating</th>\n",
       "      <th>best_book_id</th>\n",
       "      <th>book_id</th>\n",
       "      <th>books_count</th>\n",
       "      <th>description</th>\n",
       "      <th>genres</th>\n",
       "      <th>goodreads_book_id</th>\n",
       "      <th>image_url</th>\n",
       "      <th>...</th>\n",
       "      <th>ratings_3</th>\n",
       "      <th>ratings_4</th>\n",
       "      <th>ratings_5</th>\n",
       "      <th>ratings_count</th>\n",
       "      <th>small_image_url</th>\n",
       "      <th>title</th>\n",
       "      <th>work_id</th>\n",
       "      <th>work_ratings_count</th>\n",
       "      <th>work_text_reviews_count</th>\n",
       "      <th>authors_2</th>\n",
       "    </tr>\n",
       "  </thead>\n",
       "  <tbody>\n",
       "    <tr>\n",
       "      <th>0</th>\n",
       "      <td>0</td>\n",
       "      <td>['Suzanne Collins']</td>\n",
       "      <td>4.34</td>\n",
       "      <td>2767052</td>\n",
       "      <td>1</td>\n",
       "      <td>272</td>\n",
       "      <td>WINNING MEANS FAME AND FORTUNE.LOSING MEANS CE...</td>\n",
       "      <td>[young-adult, fiction, fantasy, science-fictio...</td>\n",
       "      <td>2767052</td>\n",
       "      <td>https://images.gr-assets.com/books/1447303603m...</td>\n",
       "      <td>...</td>\n",
       "      <td>560092</td>\n",
       "      <td>1481305</td>\n",
       "      <td>2706317</td>\n",
       "      <td>4780653</td>\n",
       "      <td>https://images.gr-assets.com/books/1447303603s...</td>\n",
       "      <td>The Hunger Games (The Hunger Games, #1)</td>\n",
       "      <td>2792775</td>\n",
       "      <td>4942365</td>\n",
       "      <td>155254</td>\n",
       "      <td>['Suzanne Collins']</td>\n",
       "    </tr>\n",
       "  </tbody>\n",
       "</table>\n",
       "<p>1 rows × 29 columns</p>\n",
       "</div>"
      ],
      "text/plain": [
       "   index              authors  average_rating  best_book_id  book_id  \\\n",
       "0      0  ['Suzanne Collins']            4.34       2767052        1   \n",
       "\n",
       "   books_count                                        description  \\\n",
       "0          272  WINNING MEANS FAME AND FORTUNE.LOSING MEANS CE...   \n",
       "\n",
       "                                              genres  goodreads_book_id  \\\n",
       "0  [young-adult, fiction, fantasy, science-fictio...            2767052   \n",
       "\n",
       "                                           image_url  ... ratings_3  \\\n",
       "0  https://images.gr-assets.com/books/1447303603m...  ...    560092   \n",
       "\n",
       "   ratings_4 ratings_5  ratings_count  \\\n",
       "0    1481305   2706317        4780653   \n",
       "\n",
       "                                     small_image_url  \\\n",
       "0  https://images.gr-assets.com/books/1447303603s...   \n",
       "\n",
       "                                     title  work_id  work_ratings_count  \\\n",
       "0  The Hunger Games (The Hunger Games, #1)  2792775             4942365   \n",
       "\n",
       "   work_text_reviews_count            authors_2  \n",
       "0                   155254  ['Suzanne Collins']  \n",
       "\n",
       "[1 rows x 29 columns]"
      ]
     },
     "execution_count": 6,
     "metadata": {},
     "output_type": "execute_result"
    }
   ],
   "source": [
    "books_df.head(1)"
   ]
  },
  {
   "cell_type": "code",
   "execution_count": 7,
   "metadata": {},
   "outputs": [
    {
     "data": {
      "text/plain": [
       "\"WINNING MEANS FAME AND FORTUNE.LOSING MEANS CERTAIN DEATH.THE HUNGER GAMES HAVE BEGUN. . . .In the ruins of a place once known as North America lies the nation of Panem, a shining Capitol surrounded by twelve outlying districts. The Capitol is harsh and cruel and keeps the districts in line by forcing them all to send one boy and once girl between the ages of twelve and eighteen to participate in the annual Hunger Games, a fight to the death on live TV.Sixteen-year-old Katniss Everdeen regards it as a death sentence when she steps forward to take her sister's place in the Games. But Katniss has been close to dead before—and survival, for her, is second nature. Without really meaning to, she becomes a contender. But if she is to win, she will have to start making choices that weight survival against humanity and life against love.\""
      ]
     },
     "execution_count": 7,
     "metadata": {},
     "output_type": "execute_result"
    }
   ],
   "source": [
    "#Display the first book's description of the first book\n",
    "books_df['description'][0]"
   ]
  },
  {
   "cell_type": "code",
   "execution_count": 8,
   "metadata": {},
   "outputs": [
    {
     "data": {
      "text/plain": [
       "['young-adult', 'fiction', 'fantasy', 'science-fiction', 'romance']"
      ]
     },
     "execution_count": 8,
     "metadata": {},
     "output_type": "execute_result"
    }
   ],
   "source": [
    "#Display the first book's genres\n",
    "books_df['genres'][0]"
   ]
  },
  {
   "cell_type": "code",
   "execution_count": 9,
   "metadata": {},
   "outputs": [
    {
     "data": {
      "text/plain": [
       "False    265124\n",
       "True       6236\n",
       "Name: Book-Title, dtype: int64"
      ]
     },
     "execution_count": 9,
     "metadata": {},
     "output_type": "execute_result"
    }
   ],
   "source": [
    "#Compare the 2 dataframes by Book-Title from the \"books_original\" dataframe and  title from the \"books_df\" dataframe\n",
    "books_original['Book-Title'].isin(books_df['title']).value_counts()"
   ]
  },
  {
   "cell_type": "code",
   "execution_count": 10,
   "metadata": {},
   "outputs": [
    {
     "data": {
      "text/plain": [
       "(0, 29)"
      ]
     },
     "execution_count": 10,
     "metadata": {},
     "output_type": "execute_result"
    }
   ],
   "source": [
    "#Display rows count with null genres\n",
    "books_df[books_df['genres'].isnull()].shape"
   ]
  },
  {
   "cell_type": "code",
   "execution_count": 11,
   "metadata": {},
   "outputs": [
    {
     "data": {
      "text/plain": [
       "(57, 29)"
      ]
     },
     "execution_count": 11,
     "metadata": {},
     "output_type": "execute_result"
    }
   ],
   "source": [
    "#Display rows count with null description\n",
    "books_df[books_df['description'].isnull()].shape"
   ]
  },
  {
   "cell_type": "code",
   "execution_count": 12,
   "metadata": {},
   "outputs": [],
   "source": [
    "#Drop all rows with null genres or description\n",
    "books_df.dropna(subset=['genres', 'description'], inplace=True)"
   ]
  },
  {
   "cell_type": "code",
   "execution_count": 13,
   "metadata": {},
   "outputs": [
    {
     "data": {
      "text/plain": [
       "(9943, 29)"
      ]
     },
     "execution_count": 13,
     "metadata": {},
     "output_type": "execute_result"
    }
   ],
   "source": [
    "#Shape of the dataframe after dropping rows with null genres or description\n",
    "books_df.shape"
   ]
  },
  {
   "cell_type": "code",
   "execution_count": 14,
   "metadata": {},
   "outputs": [],
   "source": [
    "#drop the rows that are not in the \"books_df\" dataframe\n",
    "books = books_original[books_original['Book-Title'].isin(books_df['title'])]"
   ]
  },
  {
   "cell_type": "code",
   "execution_count": 15,
   "metadata": {},
   "outputs": [
    {
     "data": {
      "text/plain": [
       "6196"
      ]
     },
     "execution_count": 15,
     "metadata": {},
     "output_type": "execute_result"
    }
   ],
   "source": [
    "#display the length of the dataframe\n",
    "len(books)"
   ]
  },
  {
   "cell_type": "code",
   "execution_count": 16,
   "metadata": {},
   "outputs": [
    {
     "name": "stderr",
     "output_type": "stream",
     "text": [
      "C:\\Users\\almud\\AppData\\Local\\Temp\\ipykernel_2400\\629608149.py:3: SettingWithCopyWarning: \n",
      "A value is trying to be set on a copy of a slice from a DataFrame.\n",
      "Try using .loc[row_indexer,col_indexer] = value instead\n",
      "\n",
      "See the caveats in the documentation: https://pandas.pydata.org/pandas-docs/stable/user_guide/indexing.html#returning-a-view-versus-a-copy\n",
      "  books['description'] = books.apply(lambda row: books_df[books_df['title'] == row['Book-Title']]['description'].values[0], axis=1)\n",
      "C:\\Users\\almud\\AppData\\Local\\Temp\\ipykernel_2400\\629608149.py:5: SettingWithCopyWarning: \n",
      "A value is trying to be set on a copy of a slice from a DataFrame.\n",
      "Try using .loc[row_indexer,col_indexer] = value instead\n",
      "\n",
      "See the caveats in the documentation: https://pandas.pydata.org/pandas-docs/stable/user_guide/indexing.html#returning-a-view-versus-a-copy\n",
      "  books['genres'] = books.apply(lambda row: books_df[books_df['title'] == row['Book-Title']]['genres'].values[0], axis=1)\n"
     ]
    }
   ],
   "source": [
    "#Add the columns \"description\" and \"genres\" from the \"books_df\" dataframe to the \"books\" dataframe \n",
    "#if the \"Book-Title\" from the \"books\" dataframe is equal to the \"title\" from the \"books_df\" dataframe\n",
    "books['description'] = books.apply(lambda row: books_df[books_df['title'] == row['Book-Title']]['description'].values[0], axis=1)\n",
    "#Do the same for the \"genres\" column\n",
    "books['genres'] = books.apply(lambda row: books_df[books_df['title'] == row['Book-Title']]['genres'].values[0], axis=1)"
   ]
  },
  {
   "cell_type": "code",
   "execution_count": 17,
   "metadata": {},
   "outputs": [
    {
     "data": {
      "text/plain": [
       "6196"
      ]
     },
     "execution_count": 17,
     "metadata": {},
     "output_type": "execute_result"
    }
   ],
   "source": [
    "len(books)"
   ]
  },
  {
   "cell_type": "code",
   "execution_count": 18,
   "metadata": {},
   "outputs": [
    {
     "data": {
      "text/html": [
       "<div>\n",
       "<style scoped>\n",
       "    .dataframe tbody tr th:only-of-type {\n",
       "        vertical-align: middle;\n",
       "    }\n",
       "\n",
       "    .dataframe tbody tr th {\n",
       "        vertical-align: top;\n",
       "    }\n",
       "\n",
       "    .dataframe thead th {\n",
       "        text-align: right;\n",
       "    }\n",
       "</style>\n",
       "<table border=\"1\" class=\"dataframe\">\n",
       "  <thead>\n",
       "    <tr style=\"text-align: right;\">\n",
       "      <th></th>\n",
       "      <th>ISBN</th>\n",
       "      <th>Book-Title</th>\n",
       "      <th>Book-Author</th>\n",
       "      <th>Year-Of-Publication</th>\n",
       "      <th>Publisher</th>\n",
       "      <th>Image-URL-S</th>\n",
       "      <th>Image-URL-M</th>\n",
       "      <th>Image-URL-L</th>\n",
       "      <th>description</th>\n",
       "      <th>genres</th>\n",
       "    </tr>\n",
       "  </thead>\n",
       "  <tbody>\n",
       "    <tr>\n",
       "      <th>5</th>\n",
       "      <td>0399135782</td>\n",
       "      <td>The Kitchen God's Wife</td>\n",
       "      <td>Amy Tan</td>\n",
       "      <td>1991</td>\n",
       "      <td>Putnam Pub Group</td>\n",
       "      <td>http://images.amazon.com/images/P/0399135782.0...</td>\n",
       "      <td>http://images.amazon.com/images/P/0399135782.0...</td>\n",
       "      <td>http://images.amazon.com/images/P/0399135782.0...</td>\n",
       "      <td>Winnie and Helen have kept each other's worst ...</td>\n",
       "      <td>[fiction, historical-fiction, contemporary]</td>\n",
       "    </tr>\n",
       "    <tr>\n",
       "      <th>18</th>\n",
       "      <td>0440234743</td>\n",
       "      <td>The Testament</td>\n",
       "      <td>John Grisham</td>\n",
       "      <td>1999</td>\n",
       "      <td>Dell</td>\n",
       "      <td>http://images.amazon.com/images/P/0440234743.0...</td>\n",
       "      <td>http://images.amazon.com/images/P/0440234743.0...</td>\n",
       "      <td>http://images.amazon.com/images/P/0440234743.0...</td>\n",
       "      <td>In a plush Virginia office, a rich, angry old ...</td>\n",
       "      <td>[fiction, thriller, mystery, suspense, crime]</td>\n",
       "    </tr>\n",
       "    <tr>\n",
       "      <th>20</th>\n",
       "      <td>0609804618</td>\n",
       "      <td>Our Dumb Century: The Onion Presents 100 Years...</td>\n",
       "      <td>The Onion</td>\n",
       "      <td>1999</td>\n",
       "      <td>Three Rivers Press</td>\n",
       "      <td>http://images.amazon.com/images/P/0609804618.0...</td>\n",
       "      <td>http://images.amazon.com/images/P/0609804618.0...</td>\n",
       "      <td>http://images.amazon.com/images/P/0609804618.0...</td>\n",
       "      <td>The Onion has quickly become the world's most ...</td>\n",
       "      <td>[history, nonfiction]</td>\n",
       "    </tr>\n",
       "    <tr>\n",
       "      <th>27</th>\n",
       "      <td>0345402871</td>\n",
       "      <td>Airframe</td>\n",
       "      <td>Michael Crichton</td>\n",
       "      <td>1997</td>\n",
       "      <td>Ballantine Books</td>\n",
       "      <td>http://images.amazon.com/images/P/0345402871.0...</td>\n",
       "      <td>http://images.amazon.com/images/P/0345402871.0...</td>\n",
       "      <td>http://images.amazon.com/images/P/0345402871.0...</td>\n",
       "      <td>The twin jet plane en route to Denver from Hon...</td>\n",
       "      <td>[fiction, thriller, mystery, science-fiction, ...</td>\n",
       "    </tr>\n",
       "    <tr>\n",
       "      <th>28</th>\n",
       "      <td>0345417623</td>\n",
       "      <td>Timeline</td>\n",
       "      <td>MICHAEL CRICHTON</td>\n",
       "      <td>2000</td>\n",
       "      <td>Ballantine Books</td>\n",
       "      <td>http://images.amazon.com/images/P/0345417623.0...</td>\n",
       "      <td>http://images.amazon.com/images/P/0345417623.0...</td>\n",
       "      <td>http://images.amazon.com/images/P/0345417623.0...</td>\n",
       "      <td>In an Arizona desert, a man wanders in a daze,...</td>\n",
       "      <td>[science-fiction, fiction, thriller, historica...</td>\n",
       "    </tr>\n",
       "  </tbody>\n",
       "</table>\n",
       "</div>"
      ],
      "text/plain": [
       "          ISBN                                         Book-Title  \\\n",
       "5   0399135782                             The Kitchen God's Wife   \n",
       "18  0440234743                                      The Testament   \n",
       "20  0609804618  Our Dumb Century: The Onion Presents 100 Years...   \n",
       "27  0345402871                                           Airframe   \n",
       "28  0345417623                                           Timeline   \n",
       "\n",
       "         Book-Author Year-Of-Publication           Publisher  \\\n",
       "5            Amy Tan                1991    Putnam Pub Group   \n",
       "18      John Grisham                1999                Dell   \n",
       "20         The Onion                1999  Three Rivers Press   \n",
       "27  Michael Crichton                1997    Ballantine Books   \n",
       "28  MICHAEL CRICHTON                2000    Ballantine Books   \n",
       "\n",
       "                                          Image-URL-S  \\\n",
       "5   http://images.amazon.com/images/P/0399135782.0...   \n",
       "18  http://images.amazon.com/images/P/0440234743.0...   \n",
       "20  http://images.amazon.com/images/P/0609804618.0...   \n",
       "27  http://images.amazon.com/images/P/0345402871.0...   \n",
       "28  http://images.amazon.com/images/P/0345417623.0...   \n",
       "\n",
       "                                          Image-URL-M  \\\n",
       "5   http://images.amazon.com/images/P/0399135782.0...   \n",
       "18  http://images.amazon.com/images/P/0440234743.0...   \n",
       "20  http://images.amazon.com/images/P/0609804618.0...   \n",
       "27  http://images.amazon.com/images/P/0345402871.0...   \n",
       "28  http://images.amazon.com/images/P/0345417623.0...   \n",
       "\n",
       "                                          Image-URL-L  \\\n",
       "5   http://images.amazon.com/images/P/0399135782.0...   \n",
       "18  http://images.amazon.com/images/P/0440234743.0...   \n",
       "20  http://images.amazon.com/images/P/0609804618.0...   \n",
       "27  http://images.amazon.com/images/P/0345402871.0...   \n",
       "28  http://images.amazon.com/images/P/0345417623.0...   \n",
       "\n",
       "                                          description  \\\n",
       "5   Winnie and Helen have kept each other's worst ...   \n",
       "18  In a plush Virginia office, a rich, angry old ...   \n",
       "20  The Onion has quickly become the world's most ...   \n",
       "27  The twin jet plane en route to Denver from Hon...   \n",
       "28  In an Arizona desert, a man wanders in a daze,...   \n",
       "\n",
       "                                               genres  \n",
       "5         [fiction, historical-fiction, contemporary]  \n",
       "18      [fiction, thriller, mystery, suspense, crime]  \n",
       "20                              [history, nonfiction]  \n",
       "27  [fiction, thriller, mystery, science-fiction, ...  \n",
       "28  [science-fiction, fiction, thriller, historica...  "
      ]
     },
     "execution_count": 18,
     "metadata": {},
     "output_type": "execute_result"
    }
   ],
   "source": [
    "#Display the first 5 rows of the dataframe\n",
    "books.head(5)"
   ]
  },
  {
   "cell_type": "code",
   "execution_count": 19,
   "metadata": {},
   "outputs": [],
   "source": [
    "#Format books dataframe and restart it from index 0\n",
    "books = books.reset_index(drop=True)"
   ]
  },
  {
   "cell_type": "code",
   "execution_count": 20,
   "metadata": {},
   "outputs": [
    {
     "data": {
      "text/plain": [
       "(6196, 10)"
      ]
     },
     "execution_count": 20,
     "metadata": {},
     "output_type": "execute_result"
    }
   ],
   "source": [
    "books.shape"
   ]
  },
  {
   "cell_type": "code",
   "execution_count": 21,
   "metadata": {},
   "outputs": [
    {
     "data": {
      "text/html": [
       "<div>\n",
       "<style scoped>\n",
       "    .dataframe tbody tr th:only-of-type {\n",
       "        vertical-align: middle;\n",
       "    }\n",
       "\n",
       "    .dataframe tbody tr th {\n",
       "        vertical-align: top;\n",
       "    }\n",
       "\n",
       "    .dataframe thead th {\n",
       "        text-align: right;\n",
       "    }\n",
       "</style>\n",
       "<table border=\"1\" class=\"dataframe\">\n",
       "  <thead>\n",
       "    <tr style=\"text-align: right;\">\n",
       "      <th></th>\n",
       "      <th>ISBN</th>\n",
       "      <th>Book-Title</th>\n",
       "      <th>Book-Author</th>\n",
       "      <th>Year-Of-Publication</th>\n",
       "      <th>Publisher</th>\n",
       "      <th>Image-URL-S</th>\n",
       "      <th>Image-URL-M</th>\n",
       "      <th>Image-URL-L</th>\n",
       "      <th>description</th>\n",
       "      <th>genres</th>\n",
       "    </tr>\n",
       "  </thead>\n",
       "  <tbody>\n",
       "    <tr>\n",
       "      <th>0</th>\n",
       "      <td>0399135782</td>\n",
       "      <td>The Kitchen God's Wife</td>\n",
       "      <td>Amy Tan</td>\n",
       "      <td>1991</td>\n",
       "      <td>Putnam Pub Group</td>\n",
       "      <td>http://images.amazon.com/images/P/0399135782.0...</td>\n",
       "      <td>http://images.amazon.com/images/P/0399135782.0...</td>\n",
       "      <td>http://images.amazon.com/images/P/0399135782.0...</td>\n",
       "      <td>Winnie and Helen have kept each other's worst ...</td>\n",
       "      <td>[fiction, historical-fiction, contemporary]</td>\n",
       "    </tr>\n",
       "    <tr>\n",
       "      <th>1</th>\n",
       "      <td>0440234743</td>\n",
       "      <td>The Testament</td>\n",
       "      <td>John Grisham</td>\n",
       "      <td>1999</td>\n",
       "      <td>Dell</td>\n",
       "      <td>http://images.amazon.com/images/P/0440234743.0...</td>\n",
       "      <td>http://images.amazon.com/images/P/0440234743.0...</td>\n",
       "      <td>http://images.amazon.com/images/P/0440234743.0...</td>\n",
       "      <td>In a plush Virginia office, a rich, angry old ...</td>\n",
       "      <td>[fiction, thriller, mystery, suspense, crime]</td>\n",
       "    </tr>\n",
       "    <tr>\n",
       "      <th>2</th>\n",
       "      <td>0609804618</td>\n",
       "      <td>Our Dumb Century: The Onion Presents 100 Years...</td>\n",
       "      <td>The Onion</td>\n",
       "      <td>1999</td>\n",
       "      <td>Three Rivers Press</td>\n",
       "      <td>http://images.amazon.com/images/P/0609804618.0...</td>\n",
       "      <td>http://images.amazon.com/images/P/0609804618.0...</td>\n",
       "      <td>http://images.amazon.com/images/P/0609804618.0...</td>\n",
       "      <td>The Onion has quickly become the world's most ...</td>\n",
       "      <td>[history, nonfiction]</td>\n",
       "    </tr>\n",
       "    <tr>\n",
       "      <th>3</th>\n",
       "      <td>0345402871</td>\n",
       "      <td>Airframe</td>\n",
       "      <td>Michael Crichton</td>\n",
       "      <td>1997</td>\n",
       "      <td>Ballantine Books</td>\n",
       "      <td>http://images.amazon.com/images/P/0345402871.0...</td>\n",
       "      <td>http://images.amazon.com/images/P/0345402871.0...</td>\n",
       "      <td>http://images.amazon.com/images/P/0345402871.0...</td>\n",
       "      <td>The twin jet plane en route to Denver from Hon...</td>\n",
       "      <td>[fiction, thriller, mystery, science-fiction, ...</td>\n",
       "    </tr>\n",
       "    <tr>\n",
       "      <th>4</th>\n",
       "      <td>0345417623</td>\n",
       "      <td>Timeline</td>\n",
       "      <td>MICHAEL CRICHTON</td>\n",
       "      <td>2000</td>\n",
       "      <td>Ballantine Books</td>\n",
       "      <td>http://images.amazon.com/images/P/0345417623.0...</td>\n",
       "      <td>http://images.amazon.com/images/P/0345417623.0...</td>\n",
       "      <td>http://images.amazon.com/images/P/0345417623.0...</td>\n",
       "      <td>In an Arizona desert, a man wanders in a daze,...</td>\n",
       "      <td>[science-fiction, fiction, thriller, historica...</td>\n",
       "    </tr>\n",
       "  </tbody>\n",
       "</table>\n",
       "</div>"
      ],
      "text/plain": [
       "         ISBN                                         Book-Title  \\\n",
       "0  0399135782                             The Kitchen God's Wife   \n",
       "1  0440234743                                      The Testament   \n",
       "2  0609804618  Our Dumb Century: The Onion Presents 100 Years...   \n",
       "3  0345402871                                           Airframe   \n",
       "4  0345417623                                           Timeline   \n",
       "\n",
       "        Book-Author Year-Of-Publication           Publisher  \\\n",
       "0           Amy Tan                1991    Putnam Pub Group   \n",
       "1      John Grisham                1999                Dell   \n",
       "2         The Onion                1999  Three Rivers Press   \n",
       "3  Michael Crichton                1997    Ballantine Books   \n",
       "4  MICHAEL CRICHTON                2000    Ballantine Books   \n",
       "\n",
       "                                         Image-URL-S  \\\n",
       "0  http://images.amazon.com/images/P/0399135782.0...   \n",
       "1  http://images.amazon.com/images/P/0440234743.0...   \n",
       "2  http://images.amazon.com/images/P/0609804618.0...   \n",
       "3  http://images.amazon.com/images/P/0345402871.0...   \n",
       "4  http://images.amazon.com/images/P/0345417623.0...   \n",
       "\n",
       "                                         Image-URL-M  \\\n",
       "0  http://images.amazon.com/images/P/0399135782.0...   \n",
       "1  http://images.amazon.com/images/P/0440234743.0...   \n",
       "2  http://images.amazon.com/images/P/0609804618.0...   \n",
       "3  http://images.amazon.com/images/P/0345402871.0...   \n",
       "4  http://images.amazon.com/images/P/0345417623.0...   \n",
       "\n",
       "                                         Image-URL-L  \\\n",
       "0  http://images.amazon.com/images/P/0399135782.0...   \n",
       "1  http://images.amazon.com/images/P/0440234743.0...   \n",
       "2  http://images.amazon.com/images/P/0609804618.0...   \n",
       "3  http://images.amazon.com/images/P/0345402871.0...   \n",
       "4  http://images.amazon.com/images/P/0345417623.0...   \n",
       "\n",
       "                                         description  \\\n",
       "0  Winnie and Helen have kept each other's worst ...   \n",
       "1  In a plush Virginia office, a rich, angry old ...   \n",
       "2  The Onion has quickly become the world's most ...   \n",
       "3  The twin jet plane en route to Denver from Hon...   \n",
       "4  In an Arizona desert, a man wanders in a daze,...   \n",
       "\n",
       "                                              genres  \n",
       "0        [fiction, historical-fiction, contemporary]  \n",
       "1      [fiction, thriller, mystery, suspense, crime]  \n",
       "2                              [history, nonfiction]  \n",
       "3  [fiction, thriller, mystery, science-fiction, ...  \n",
       "4  [science-fiction, fiction, thriller, historica...  "
      ]
     },
     "execution_count": 21,
     "metadata": {},
     "output_type": "execute_result"
    }
   ],
   "source": [
    "books.head(5)"
   ]
  },
  {
   "cell_type": "code",
   "execution_count": 22,
   "metadata": {},
   "outputs": [
    {
     "data": {
      "text/plain": [
       "ISBN                   0\n",
       "Book-Title             0\n",
       "Book-Author            0\n",
       "Year-Of-Publication    0\n",
       "Publisher              0\n",
       "Image-URL-S            0\n",
       "Image-URL-M            0\n",
       "Image-URL-L            0\n",
       "description            0\n",
       "genres                 0\n",
       "dtype: int64"
      ]
     },
     "execution_count": 22,
     "metadata": {},
     "output_type": "execute_result"
    }
   ],
   "source": [
    "#Let's check if there's any null values in the dataframe\n",
    "books.isnull().sum()"
   ]
  },
  {
   "cell_type": "markdown",
   "metadata": {},
   "source": [
    "### Remove all kind of duplications:"
   ]
  },
  {
   "cell_type": "code",
   "execution_count": 23,
   "metadata": {},
   "outputs": [],
   "source": [
    "#Drop all duplicates rows and keep the first occurence\n",
    "books.drop_duplicates(subset=['Book-Title'], keep='first', inplace=True)\n"
   ]
  },
  {
   "cell_type": "code",
   "execution_count": 24,
   "metadata": {},
   "outputs": [
    {
     "data": {
      "text/plain": [
       "(2276, 10)"
      ]
     },
     "execution_count": 24,
     "metadata": {},
     "output_type": "execute_result"
    }
   ],
   "source": [
    "books.shape"
   ]
  },
  {
   "cell_type": "code",
   "execution_count": 25,
   "metadata": {},
   "outputs": [
    {
     "data": {
      "text/html": [
       "<div>\n",
       "<style scoped>\n",
       "    .dataframe tbody tr th:only-of-type {\n",
       "        vertical-align: middle;\n",
       "    }\n",
       "\n",
       "    .dataframe tbody tr th {\n",
       "        vertical-align: top;\n",
       "    }\n",
       "\n",
       "    .dataframe thead th {\n",
       "        text-align: right;\n",
       "    }\n",
       "</style>\n",
       "<table border=\"1\" class=\"dataframe\">\n",
       "  <thead>\n",
       "    <tr style=\"text-align: right;\">\n",
       "      <th></th>\n",
       "      <th>ISBN</th>\n",
       "      <th>Book-Title</th>\n",
       "      <th>Book-Author</th>\n",
       "      <th>Year-Of-Publication</th>\n",
       "      <th>Publisher</th>\n",
       "      <th>Image-URL-S</th>\n",
       "      <th>Image-URL-M</th>\n",
       "      <th>Image-URL-L</th>\n",
       "      <th>description</th>\n",
       "      <th>genres</th>\n",
       "    </tr>\n",
       "  </thead>\n",
       "  <tbody>\n",
       "    <tr>\n",
       "      <th>0</th>\n",
       "      <td>0399135782</td>\n",
       "      <td>The Kitchen God's Wife</td>\n",
       "      <td>Amy Tan</td>\n",
       "      <td>1991</td>\n",
       "      <td>Putnam Pub Group</td>\n",
       "      <td>http://images.amazon.com/images/P/0399135782.0...</td>\n",
       "      <td>http://images.amazon.com/images/P/0399135782.0...</td>\n",
       "      <td>http://images.amazon.com/images/P/0399135782.0...</td>\n",
       "      <td>Winnie and Helen have kept each other's worst ...</td>\n",
       "      <td>[fiction, historical-fiction, contemporary]</td>\n",
       "    </tr>\n",
       "    <tr>\n",
       "      <th>1</th>\n",
       "      <td>0440234743</td>\n",
       "      <td>The Testament</td>\n",
       "      <td>John Grisham</td>\n",
       "      <td>1999</td>\n",
       "      <td>Dell</td>\n",
       "      <td>http://images.amazon.com/images/P/0440234743.0...</td>\n",
       "      <td>http://images.amazon.com/images/P/0440234743.0...</td>\n",
       "      <td>http://images.amazon.com/images/P/0440234743.0...</td>\n",
       "      <td>In a plush Virginia office, a rich, angry old ...</td>\n",
       "      <td>[fiction, thriller, mystery, suspense, crime]</td>\n",
       "    </tr>\n",
       "    <tr>\n",
       "      <th>2</th>\n",
       "      <td>0609804618</td>\n",
       "      <td>Our Dumb Century: The Onion Presents 100 Years...</td>\n",
       "      <td>The Onion</td>\n",
       "      <td>1999</td>\n",
       "      <td>Three Rivers Press</td>\n",
       "      <td>http://images.amazon.com/images/P/0609804618.0...</td>\n",
       "      <td>http://images.amazon.com/images/P/0609804618.0...</td>\n",
       "      <td>http://images.amazon.com/images/P/0609804618.0...</td>\n",
       "      <td>The Onion has quickly become the world's most ...</td>\n",
       "      <td>[history, nonfiction]</td>\n",
       "    </tr>\n",
       "    <tr>\n",
       "      <th>3</th>\n",
       "      <td>0345402871</td>\n",
       "      <td>Airframe</td>\n",
       "      <td>Michael Crichton</td>\n",
       "      <td>1997</td>\n",
       "      <td>Ballantine Books</td>\n",
       "      <td>http://images.amazon.com/images/P/0345402871.0...</td>\n",
       "      <td>http://images.amazon.com/images/P/0345402871.0...</td>\n",
       "      <td>http://images.amazon.com/images/P/0345402871.0...</td>\n",
       "      <td>The twin jet plane en route to Denver from Hon...</td>\n",
       "      <td>[fiction, thriller, mystery, science-fiction, ...</td>\n",
       "    </tr>\n",
       "    <tr>\n",
       "      <th>4</th>\n",
       "      <td>0345417623</td>\n",
       "      <td>Timeline</td>\n",
       "      <td>MICHAEL CRICHTON</td>\n",
       "      <td>2000</td>\n",
       "      <td>Ballantine Books</td>\n",
       "      <td>http://images.amazon.com/images/P/0345417623.0...</td>\n",
       "      <td>http://images.amazon.com/images/P/0345417623.0...</td>\n",
       "      <td>http://images.amazon.com/images/P/0345417623.0...</td>\n",
       "      <td>In an Arizona desert, a man wanders in a daze,...</td>\n",
       "      <td>[science-fiction, fiction, thriller, historica...</td>\n",
       "    </tr>\n",
       "  </tbody>\n",
       "</table>\n",
       "</div>"
      ],
      "text/plain": [
       "         ISBN                                         Book-Title  \\\n",
       "0  0399135782                             The Kitchen God's Wife   \n",
       "1  0440234743                                      The Testament   \n",
       "2  0609804618  Our Dumb Century: The Onion Presents 100 Years...   \n",
       "3  0345402871                                           Airframe   \n",
       "4  0345417623                                           Timeline   \n",
       "\n",
       "        Book-Author Year-Of-Publication           Publisher  \\\n",
       "0           Amy Tan                1991    Putnam Pub Group   \n",
       "1      John Grisham                1999                Dell   \n",
       "2         The Onion                1999  Three Rivers Press   \n",
       "3  Michael Crichton                1997    Ballantine Books   \n",
       "4  MICHAEL CRICHTON                2000    Ballantine Books   \n",
       "\n",
       "                                         Image-URL-S  \\\n",
       "0  http://images.amazon.com/images/P/0399135782.0...   \n",
       "1  http://images.amazon.com/images/P/0440234743.0...   \n",
       "2  http://images.amazon.com/images/P/0609804618.0...   \n",
       "3  http://images.amazon.com/images/P/0345402871.0...   \n",
       "4  http://images.amazon.com/images/P/0345417623.0...   \n",
       "\n",
       "                                         Image-URL-M  \\\n",
       "0  http://images.amazon.com/images/P/0399135782.0...   \n",
       "1  http://images.amazon.com/images/P/0440234743.0...   \n",
       "2  http://images.amazon.com/images/P/0609804618.0...   \n",
       "3  http://images.amazon.com/images/P/0345402871.0...   \n",
       "4  http://images.amazon.com/images/P/0345417623.0...   \n",
       "\n",
       "                                         Image-URL-L  \\\n",
       "0  http://images.amazon.com/images/P/0399135782.0...   \n",
       "1  http://images.amazon.com/images/P/0440234743.0...   \n",
       "2  http://images.amazon.com/images/P/0609804618.0...   \n",
       "3  http://images.amazon.com/images/P/0345402871.0...   \n",
       "4  http://images.amazon.com/images/P/0345417623.0...   \n",
       "\n",
       "                                         description  \\\n",
       "0  Winnie and Helen have kept each other's worst ...   \n",
       "1  In a plush Virginia office, a rich, angry old ...   \n",
       "2  The Onion has quickly become the world's most ...   \n",
       "3  The twin jet plane en route to Denver from Hon...   \n",
       "4  In an Arizona desert, a man wanders in a daze,...   \n",
       "\n",
       "                                              genres  \n",
       "0        [fiction, historical-fiction, contemporary]  \n",
       "1      [fiction, thriller, mystery, suspense, crime]  \n",
       "2                              [history, nonfiction]  \n",
       "3  [fiction, thriller, mystery, science-fiction, ...  \n",
       "4  [science-fiction, fiction, thriller, historica...  "
      ]
     },
     "execution_count": 25,
     "metadata": {},
     "output_type": "execute_result"
    }
   ],
   "source": [
    "books.head(5)"
   ]
  },
  {
   "cell_type": "code",
   "execution_count": 26,
   "metadata": {},
   "outputs": [],
   "source": [
    "#remove - in genres\n",
    "books['genres'] = books['genres'].apply(lambda x: [i.replace('-', '') for i in x])\n",
    "#Remove the \" from the start and end of the genres\n",
    "books['genres'] = books['genres'].apply(lambda x: [i.replace('\"', '') for i in x])\n",
    "#remove the \" from the start and end of the description\n",
    "books['description'] = books['description'].apply(lambda x: x.replace('\"', ''))"
   ]
  },
  {
   "cell_type": "code",
   "execution_count": 27,
   "metadata": {},
   "outputs": [],
   "source": [
    "#replace [ by { and } by ] from the genres column\n",
    "books['genres'] = books['genres'].apply(lambda x: str(x).replace('[', '{').replace(']', '}'))\n",
    "#remove ' in the genres column\n",
    "books['genres'] = books['genres'].str.replace(\"'\", \"\")"
   ]
  },
  {
   "cell_type": "code",
   "execution_count": 28,
   "metadata": {},
   "outputs": [
    {
     "data": {
      "text/html": [
       "<div>\n",
       "<style scoped>\n",
       "    .dataframe tbody tr th:only-of-type {\n",
       "        vertical-align: middle;\n",
       "    }\n",
       "\n",
       "    .dataframe tbody tr th {\n",
       "        vertical-align: top;\n",
       "    }\n",
       "\n",
       "    .dataframe thead th {\n",
       "        text-align: right;\n",
       "    }\n",
       "</style>\n",
       "<table border=\"1\" class=\"dataframe\">\n",
       "  <thead>\n",
       "    <tr style=\"text-align: right;\">\n",
       "      <th></th>\n",
       "      <th>ISBN</th>\n",
       "      <th>Book-Title</th>\n",
       "      <th>Book-Author</th>\n",
       "      <th>Year-Of-Publication</th>\n",
       "      <th>Publisher</th>\n",
       "      <th>Image-URL-S</th>\n",
       "      <th>Image-URL-M</th>\n",
       "      <th>Image-URL-L</th>\n",
       "      <th>description</th>\n",
       "      <th>genres</th>\n",
       "    </tr>\n",
       "  </thead>\n",
       "  <tbody>\n",
       "    <tr>\n",
       "      <th>0</th>\n",
       "      <td>0399135782</td>\n",
       "      <td>The Kitchen God's Wife</td>\n",
       "      <td>Amy Tan</td>\n",
       "      <td>1991</td>\n",
       "      <td>Putnam Pub Group</td>\n",
       "      <td>http://images.amazon.com/images/P/0399135782.0...</td>\n",
       "      <td>http://images.amazon.com/images/P/0399135782.0...</td>\n",
       "      <td>http://images.amazon.com/images/P/0399135782.0...</td>\n",
       "      <td>Winnie and Helen have kept each other's worst ...</td>\n",
       "      <td>{fiction, historicalfiction, contemporary}</td>\n",
       "    </tr>\n",
       "    <tr>\n",
       "      <th>1</th>\n",
       "      <td>0440234743</td>\n",
       "      <td>The Testament</td>\n",
       "      <td>John Grisham</td>\n",
       "      <td>1999</td>\n",
       "      <td>Dell</td>\n",
       "      <td>http://images.amazon.com/images/P/0440234743.0...</td>\n",
       "      <td>http://images.amazon.com/images/P/0440234743.0...</td>\n",
       "      <td>http://images.amazon.com/images/P/0440234743.0...</td>\n",
       "      <td>In a plush Virginia office, a rich, angry old ...</td>\n",
       "      <td>{fiction, thriller, mystery, suspense, crime}</td>\n",
       "    </tr>\n",
       "    <tr>\n",
       "      <th>2</th>\n",
       "      <td>0609804618</td>\n",
       "      <td>Our Dumb Century: The Onion Presents 100 Years...</td>\n",
       "      <td>The Onion</td>\n",
       "      <td>1999</td>\n",
       "      <td>Three Rivers Press</td>\n",
       "      <td>http://images.amazon.com/images/P/0609804618.0...</td>\n",
       "      <td>http://images.amazon.com/images/P/0609804618.0...</td>\n",
       "      <td>http://images.amazon.com/images/P/0609804618.0...</td>\n",
       "      <td>The Onion has quickly become the world's most ...</td>\n",
       "      <td>{history, nonfiction}</td>\n",
       "    </tr>\n",
       "    <tr>\n",
       "      <th>3</th>\n",
       "      <td>0345402871</td>\n",
       "      <td>Airframe</td>\n",
       "      <td>Michael Crichton</td>\n",
       "      <td>1997</td>\n",
       "      <td>Ballantine Books</td>\n",
       "      <td>http://images.amazon.com/images/P/0345402871.0...</td>\n",
       "      <td>http://images.amazon.com/images/P/0345402871.0...</td>\n",
       "      <td>http://images.amazon.com/images/P/0345402871.0...</td>\n",
       "      <td>The twin jet plane en route to Denver from Hon...</td>\n",
       "      <td>{fiction, thriller, mystery, sciencefiction, s...</td>\n",
       "    </tr>\n",
       "    <tr>\n",
       "      <th>4</th>\n",
       "      <td>0345417623</td>\n",
       "      <td>Timeline</td>\n",
       "      <td>MICHAEL CRICHTON</td>\n",
       "      <td>2000</td>\n",
       "      <td>Ballantine Books</td>\n",
       "      <td>http://images.amazon.com/images/P/0345417623.0...</td>\n",
       "      <td>http://images.amazon.com/images/P/0345417623.0...</td>\n",
       "      <td>http://images.amazon.com/images/P/0345417623.0...</td>\n",
       "      <td>In an Arizona desert, a man wanders in a daze,...</td>\n",
       "      <td>{sciencefiction, fiction, thriller, historical...</td>\n",
       "    </tr>\n",
       "  </tbody>\n",
       "</table>\n",
       "</div>"
      ],
      "text/plain": [
       "         ISBN                                         Book-Title  \\\n",
       "0  0399135782                             The Kitchen God's Wife   \n",
       "1  0440234743                                      The Testament   \n",
       "2  0609804618  Our Dumb Century: The Onion Presents 100 Years...   \n",
       "3  0345402871                                           Airframe   \n",
       "4  0345417623                                           Timeline   \n",
       "\n",
       "        Book-Author Year-Of-Publication           Publisher  \\\n",
       "0           Amy Tan                1991    Putnam Pub Group   \n",
       "1      John Grisham                1999                Dell   \n",
       "2         The Onion                1999  Three Rivers Press   \n",
       "3  Michael Crichton                1997    Ballantine Books   \n",
       "4  MICHAEL CRICHTON                2000    Ballantine Books   \n",
       "\n",
       "                                         Image-URL-S  \\\n",
       "0  http://images.amazon.com/images/P/0399135782.0...   \n",
       "1  http://images.amazon.com/images/P/0440234743.0...   \n",
       "2  http://images.amazon.com/images/P/0609804618.0...   \n",
       "3  http://images.amazon.com/images/P/0345402871.0...   \n",
       "4  http://images.amazon.com/images/P/0345417623.0...   \n",
       "\n",
       "                                         Image-URL-M  \\\n",
       "0  http://images.amazon.com/images/P/0399135782.0...   \n",
       "1  http://images.amazon.com/images/P/0440234743.0...   \n",
       "2  http://images.amazon.com/images/P/0609804618.0...   \n",
       "3  http://images.amazon.com/images/P/0345402871.0...   \n",
       "4  http://images.amazon.com/images/P/0345417623.0...   \n",
       "\n",
       "                                         Image-URL-L  \\\n",
       "0  http://images.amazon.com/images/P/0399135782.0...   \n",
       "1  http://images.amazon.com/images/P/0440234743.0...   \n",
       "2  http://images.amazon.com/images/P/0609804618.0...   \n",
       "3  http://images.amazon.com/images/P/0345402871.0...   \n",
       "4  http://images.amazon.com/images/P/0345417623.0...   \n",
       "\n",
       "                                         description  \\\n",
       "0  Winnie and Helen have kept each other's worst ...   \n",
       "1  In a plush Virginia office, a rich, angry old ...   \n",
       "2  The Onion has quickly become the world's most ...   \n",
       "3  The twin jet plane en route to Denver from Hon...   \n",
       "4  In an Arizona desert, a man wanders in a daze,...   \n",
       "\n",
       "                                              genres  \n",
       "0         {fiction, historicalfiction, contemporary}  \n",
       "1      {fiction, thriller, mystery, suspense, crime}  \n",
       "2                              {history, nonfiction}  \n",
       "3  {fiction, thriller, mystery, sciencefiction, s...  \n",
       "4  {sciencefiction, fiction, thriller, historical...  "
      ]
     },
     "execution_count": 28,
     "metadata": {},
     "output_type": "execute_result"
    }
   ],
   "source": [
    "books.head(5)"
   ]
  },
  {
   "cell_type": "code",
   "execution_count": 29,
   "metadata": {},
   "outputs": [],
   "source": [
    "#download the books dataframe to a csv file\n",
    "books.to_csv('dataset/books.csv', index=False)"
   ]
  },
  {
   "cell_type": "markdown",
   "metadata": {},
   "source": [
    "#### Let's format some variables of the dataset "
   ]
  },
  {
   "cell_type": "code",
   "execution_count": 30,
   "metadata": {},
   "outputs": [],
   "source": [
    "#Split the description column into words\n",
    "books['description'] = books['description'].apply(lambda x:x.split())"
   ]
  },
  {
   "cell_type": "code",
   "execution_count": 31,
   "metadata": {},
   "outputs": [
    {
     "data": {
      "text/plain": [
       "['Winnie',\n",
       " 'and',\n",
       " 'Helen',\n",
       " 'have',\n",
       " 'kept',\n",
       " 'each',\n",
       " \"other's\",\n",
       " 'worst',\n",
       " 'secrets',\n",
       " 'for',\n",
       " 'more',\n",
       " 'than',\n",
       " 'fifty',\n",
       " 'years.',\n",
       " 'Now,',\n",
       " 'because',\n",
       " 'she',\n",
       " 'believes',\n",
       " 'she',\n",
       " 'is',\n",
       " 'dying,',\n",
       " 'Helen',\n",
       " 'wants',\n",
       " 'to',\n",
       " 'expose',\n",
       " 'everything.',\n",
       " 'And',\n",
       " 'Winnie',\n",
       " 'angrily',\n",
       " 'determines',\n",
       " 'that',\n",
       " 'she',\n",
       " 'must',\n",
       " 'be',\n",
       " 'the',\n",
       " 'one',\n",
       " 'to',\n",
       " 'tell',\n",
       " 'her',\n",
       " 'daughter,',\n",
       " 'Pearl,',\n",
       " 'about',\n",
       " 'the',\n",
       " 'past—including',\n",
       " 'the',\n",
       " 'terrible',\n",
       " 'truth',\n",
       " 'even',\n",
       " 'Helen',\n",
       " 'does',\n",
       " 'not',\n",
       " 'know.',\n",
       " 'And',\n",
       " 'so',\n",
       " 'begins',\n",
       " \"Winnie's\",\n",
       " 'story',\n",
       " 'of',\n",
       " 'her',\n",
       " 'life',\n",
       " 'on',\n",
       " 'a',\n",
       " 'small',\n",
       " 'island',\n",
       " 'outside',\n",
       " 'Shanghai',\n",
       " 'in',\n",
       " 'the',\n",
       " '1920s,',\n",
       " 'and',\n",
       " 'other',\n",
       " 'places',\n",
       " 'in',\n",
       " 'China',\n",
       " 'during',\n",
       " 'World',\n",
       " 'War',\n",
       " 'II,',\n",
       " 'and',\n",
       " 'traces',\n",
       " 'the',\n",
       " 'happy',\n",
       " 'and',\n",
       " 'desperate',\n",
       " 'events',\n",
       " 'that',\n",
       " 'led',\n",
       " 'to',\n",
       " \"Winnie's\",\n",
       " 'coming',\n",
       " 'to',\n",
       " 'America',\n",
       " 'in',\n",
       " '1949.']"
      ]
     },
     "execution_count": 31,
     "metadata": {},
     "output_type": "execute_result"
    }
   ],
   "source": [
    "#Test the function\n",
    "#books.iloc[0]['description']\n",
    "books['description'][0]"
   ]
  },
  {
   "cell_type": "code",
   "execution_count": 32,
   "metadata": {},
   "outputs": [],
   "source": [
    "#Let's remove: punctuations and spaces\n",
    "#1. From genres column\n",
    "#2. From authors column\n",
    "#3. From publisher column\n",
    "\n",
    "#1. From genres column\n",
    "books['genres'] = books['genres'].apply(lambda x: [i.replace(' ', '') for i in x])\n",
    "books['genres'] = books['genres'].apply(lambda x: [i.replace('-', '') for i in x])\n",
    "\n",
    "#2. From authors column\n",
    "books['Book-Author'] = books['Book-Author'].apply(lambda x: x.replace(':', ' '))\n",
    "books['Book-Author'] = books['Book-Author'].apply(lambda x: x.replace('-', ' '))\n",
    "#convert authors column to array\n",
    "books['Book-Author'] = books['Book-Author'].apply(lambda x: x.split())\n",
    "\n",
    "\n",
    "#3. From publisher column\n",
    "books['Publisher'] = books['Publisher'].apply(lambda x: x.replace(':', ' '))\n",
    "books['Publisher'] = books['Publisher'].apply(lambda x: x.replace('-', ''))\n",
    "#convert publisher column to array\n",
    "books['Publisher'] = books['Publisher'].apply(lambda x: x.split())\n",
    "\n",
    "\n",
    "\n"
   ]
  },
  {
   "cell_type": "code",
   "execution_count": 33,
   "metadata": {},
   "outputs": [
    {
     "data": {
      "text/html": [
       "<div>\n",
       "<style scoped>\n",
       "    .dataframe tbody tr th:only-of-type {\n",
       "        vertical-align: middle;\n",
       "    }\n",
       "\n",
       "    .dataframe tbody tr th {\n",
       "        vertical-align: top;\n",
       "    }\n",
       "\n",
       "    .dataframe thead th {\n",
       "        text-align: right;\n",
       "    }\n",
       "</style>\n",
       "<table border=\"1\" class=\"dataframe\">\n",
       "  <thead>\n",
       "    <tr style=\"text-align: right;\">\n",
       "      <th></th>\n",
       "      <th>ISBN</th>\n",
       "      <th>Book-Title</th>\n",
       "      <th>Book-Author</th>\n",
       "      <th>Year-Of-Publication</th>\n",
       "      <th>Publisher</th>\n",
       "      <th>Image-URL-S</th>\n",
       "      <th>Image-URL-M</th>\n",
       "      <th>Image-URL-L</th>\n",
       "      <th>description</th>\n",
       "      <th>genres</th>\n",
       "    </tr>\n",
       "  </thead>\n",
       "  <tbody>\n",
       "    <tr>\n",
       "      <th>0</th>\n",
       "      <td>0399135782</td>\n",
       "      <td>The Kitchen God's Wife</td>\n",
       "      <td>[Amy, Tan]</td>\n",
       "      <td>1991</td>\n",
       "      <td>[Putnam, Pub, Group]</td>\n",
       "      <td>http://images.amazon.com/images/P/0399135782.0...</td>\n",
       "      <td>http://images.amazon.com/images/P/0399135782.0...</td>\n",
       "      <td>http://images.amazon.com/images/P/0399135782.0...</td>\n",
       "      <td>[Winnie, and, Helen, have, kept, each, other's...</td>\n",
       "      <td>[{, f, i, c, t, i, o, n, ,, , h, i, s, t, o, r...</td>\n",
       "    </tr>\n",
       "    <tr>\n",
       "      <th>1</th>\n",
       "      <td>0440234743</td>\n",
       "      <td>The Testament</td>\n",
       "      <td>[John, Grisham]</td>\n",
       "      <td>1999</td>\n",
       "      <td>[Dell]</td>\n",
       "      <td>http://images.amazon.com/images/P/0440234743.0...</td>\n",
       "      <td>http://images.amazon.com/images/P/0440234743.0...</td>\n",
       "      <td>http://images.amazon.com/images/P/0440234743.0...</td>\n",
       "      <td>[In, a, plush, Virginia, office,, a, rich,, an...</td>\n",
       "      <td>[{, f, i, c, t, i, o, n, ,, , t, h, r, i, l, l...</td>\n",
       "    </tr>\n",
       "  </tbody>\n",
       "</table>\n",
       "</div>"
      ],
      "text/plain": [
       "         ISBN              Book-Title      Book-Author Year-Of-Publication  \\\n",
       "0  0399135782  The Kitchen God's Wife       [Amy, Tan]                1991   \n",
       "1  0440234743           The Testament  [John, Grisham]                1999   \n",
       "\n",
       "              Publisher                                        Image-URL-S  \\\n",
       "0  [Putnam, Pub, Group]  http://images.amazon.com/images/P/0399135782.0...   \n",
       "1                [Dell]  http://images.amazon.com/images/P/0440234743.0...   \n",
       "\n",
       "                                         Image-URL-M  \\\n",
       "0  http://images.amazon.com/images/P/0399135782.0...   \n",
       "1  http://images.amazon.com/images/P/0440234743.0...   \n",
       "\n",
       "                                         Image-URL-L  \\\n",
       "0  http://images.amazon.com/images/P/0399135782.0...   \n",
       "1  http://images.amazon.com/images/P/0440234743.0...   \n",
       "\n",
       "                                         description  \\\n",
       "0  [Winnie, and, Helen, have, kept, each, other's...   \n",
       "1  [In, a, plush, Virginia, office,, a, rich,, an...   \n",
       "\n",
       "                                              genres  \n",
       "0  [{, f, i, c, t, i, o, n, ,, , h, i, s, t, o, r...  \n",
       "1  [{, f, i, c, t, i, o, n, ,, , t, h, r, i, l, l...  "
      ]
     },
     "execution_count": 33,
     "metadata": {},
     "output_type": "execute_result"
    }
   ],
   "source": [
    "books.head(2)"
   ]
  },
  {
   "cell_type": "code",
   "execution_count": 34,
   "metadata": {},
   "outputs": [
    {
     "data": {
      "text/plain": [
       "(2276, 10)"
      ]
     },
     "execution_count": 34,
     "metadata": {},
     "output_type": "execute_result"
    }
   ],
   "source": [
    "books.shape"
   ]
  },
  {
   "cell_type": "code",
   "execution_count": 35,
   "metadata": {},
   "outputs": [],
   "source": [
    "#Rename Book-Title column to title\n",
    "books.rename(columns={'Book-Title':'title'}, inplace=True)\n",
    "#Rename Book-Author column to author\n",
    "books.rename(columns={'Book-Author':'author'}, inplace=True)\n",
    "#Rename Publisher column to publisher\n",
    "books.rename(columns={'Publisher':'publisher'}, inplace=True)"
   ]
  },
  {
   "cell_type": "code",
   "execution_count": 36,
   "metadata": {},
   "outputs": [
    {
     "data": {
      "text/html": [
       "<div>\n",
       "<style scoped>\n",
       "    .dataframe tbody tr th:only-of-type {\n",
       "        vertical-align: middle;\n",
       "    }\n",
       "\n",
       "    .dataframe tbody tr th {\n",
       "        vertical-align: top;\n",
       "    }\n",
       "\n",
       "    .dataframe thead th {\n",
       "        text-align: right;\n",
       "    }\n",
       "</style>\n",
       "<table border=\"1\" class=\"dataframe\">\n",
       "  <thead>\n",
       "    <tr style=\"text-align: right;\">\n",
       "      <th></th>\n",
       "      <th>ISBN</th>\n",
       "      <th>title</th>\n",
       "      <th>author</th>\n",
       "      <th>Year-Of-Publication</th>\n",
       "      <th>publisher</th>\n",
       "      <th>Image-URL-S</th>\n",
       "      <th>Image-URL-M</th>\n",
       "      <th>Image-URL-L</th>\n",
       "      <th>description</th>\n",
       "      <th>genres</th>\n",
       "    </tr>\n",
       "  </thead>\n",
       "  <tbody>\n",
       "    <tr>\n",
       "      <th>0</th>\n",
       "      <td>0399135782</td>\n",
       "      <td>The Kitchen God's Wife</td>\n",
       "      <td>[Amy, Tan]</td>\n",
       "      <td>1991</td>\n",
       "      <td>[Putnam, Pub, Group]</td>\n",
       "      <td>http://images.amazon.com/images/P/0399135782.0...</td>\n",
       "      <td>http://images.amazon.com/images/P/0399135782.0...</td>\n",
       "      <td>http://images.amazon.com/images/P/0399135782.0...</td>\n",
       "      <td>[Winnie, and, Helen, have, kept, each, other's...</td>\n",
       "      <td>[{, f, i, c, t, i, o, n, ,, , h, i, s, t, o, r...</td>\n",
       "    </tr>\n",
       "    <tr>\n",
       "      <th>1</th>\n",
       "      <td>0440234743</td>\n",
       "      <td>The Testament</td>\n",
       "      <td>[John, Grisham]</td>\n",
       "      <td>1999</td>\n",
       "      <td>[Dell]</td>\n",
       "      <td>http://images.amazon.com/images/P/0440234743.0...</td>\n",
       "      <td>http://images.amazon.com/images/P/0440234743.0...</td>\n",
       "      <td>http://images.amazon.com/images/P/0440234743.0...</td>\n",
       "      <td>[In, a, plush, Virginia, office,, a, rich,, an...</td>\n",
       "      <td>[{, f, i, c, t, i, o, n, ,, , t, h, r, i, l, l...</td>\n",
       "    </tr>\n",
       "  </tbody>\n",
       "</table>\n",
       "</div>"
      ],
      "text/plain": [
       "         ISBN                   title           author Year-Of-Publication  \\\n",
       "0  0399135782  The Kitchen God's Wife       [Amy, Tan]                1991   \n",
       "1  0440234743           The Testament  [John, Grisham]                1999   \n",
       "\n",
       "              publisher                                        Image-URL-S  \\\n",
       "0  [Putnam, Pub, Group]  http://images.amazon.com/images/P/0399135782.0...   \n",
       "1                [Dell]  http://images.amazon.com/images/P/0440234743.0...   \n",
       "\n",
       "                                         Image-URL-M  \\\n",
       "0  http://images.amazon.com/images/P/0399135782.0...   \n",
       "1  http://images.amazon.com/images/P/0440234743.0...   \n",
       "\n",
       "                                         Image-URL-L  \\\n",
       "0  http://images.amazon.com/images/P/0399135782.0...   \n",
       "1  http://images.amazon.com/images/P/0440234743.0...   \n",
       "\n",
       "                                         description  \\\n",
       "0  [Winnie, and, Helen, have, kept, each, other's...   \n",
       "1  [In, a, plush, Virginia, office,, a, rich,, an...   \n",
       "\n",
       "                                              genres  \n",
       "0  [{, f, i, c, t, i, o, n, ,, , h, i, s, t, o, r...  \n",
       "1  [{, f, i, c, t, i, o, n, ,, , t, h, r, i, l, l...  "
      ]
     },
     "execution_count": 36,
     "metadata": {},
     "output_type": "execute_result"
    }
   ],
   "source": [
    "books.head(2)"
   ]
  },
  {
   "cell_type": "code",
   "execution_count": 37,
   "metadata": {},
   "outputs": [],
   "source": [
    "#Filter the books dataframe: add image_url_s, image_url_m, image_url_l columns\n",
    "#books = books[['ISBN','title', 'author', 'publisher', 'description', 'genres', 'Image-URL-S', 'Image-URL-M', 'Image-URL-L']]\n",
    "final_books = books[['ISBN','title', 'author', 'publisher', 'description', 'genres', 'Image-URL-S', 'Image-URL-M', 'Image-URL-L']]"
   ]
  },
  {
   "cell_type": "markdown",
   "metadata": {},
   "source": [
    "#### I'll create tags for each movie to faciliate the recommendation"
   ]
  },
  {
   "cell_type": "code",
   "execution_count": 38,
   "metadata": {},
   "outputs": [],
   "source": [
    "#Let's create the tags for the books from \"title\", \"author\", \"publisher\", \"description\" and  \"genres\" columns\n",
    "final_books['tags'] = books['author'] + books['publisher'] + books['description'] + books['genres']"
   ]
  },
  {
   "cell_type": "code",
   "execution_count": 39,
   "metadata": {},
   "outputs": [
    {
     "data": {
      "text/html": [
       "<div>\n",
       "<style scoped>\n",
       "    .dataframe tbody tr th:only-of-type {\n",
       "        vertical-align: middle;\n",
       "    }\n",
       "\n",
       "    .dataframe tbody tr th {\n",
       "        vertical-align: top;\n",
       "    }\n",
       "\n",
       "    .dataframe thead th {\n",
       "        text-align: right;\n",
       "    }\n",
       "</style>\n",
       "<table border=\"1\" class=\"dataframe\">\n",
       "  <thead>\n",
       "    <tr style=\"text-align: right;\">\n",
       "      <th></th>\n",
       "      <th>ISBN</th>\n",
       "      <th>title</th>\n",
       "      <th>author</th>\n",
       "      <th>publisher</th>\n",
       "      <th>description</th>\n",
       "      <th>genres</th>\n",
       "      <th>Image-URL-S</th>\n",
       "      <th>Image-URL-M</th>\n",
       "      <th>Image-URL-L</th>\n",
       "      <th>tags</th>\n",
       "    </tr>\n",
       "  </thead>\n",
       "  <tbody>\n",
       "    <tr>\n",
       "      <th>0</th>\n",
       "      <td>0399135782</td>\n",
       "      <td>The Kitchen God's Wife</td>\n",
       "      <td>[Amy, Tan]</td>\n",
       "      <td>[Putnam, Pub, Group]</td>\n",
       "      <td>[Winnie, and, Helen, have, kept, each, other's...</td>\n",
       "      <td>[{, f, i, c, t, i, o, n, ,, , h, i, s, t, o, r...</td>\n",
       "      <td>http://images.amazon.com/images/P/0399135782.0...</td>\n",
       "      <td>http://images.amazon.com/images/P/0399135782.0...</td>\n",
       "      <td>http://images.amazon.com/images/P/0399135782.0...</td>\n",
       "      <td>[Amy, Tan, Putnam, Pub, Group, Winnie, and, He...</td>\n",
       "    </tr>\n",
       "    <tr>\n",
       "      <th>1</th>\n",
       "      <td>0440234743</td>\n",
       "      <td>The Testament</td>\n",
       "      <td>[John, Grisham]</td>\n",
       "      <td>[Dell]</td>\n",
       "      <td>[In, a, plush, Virginia, office,, a, rich,, an...</td>\n",
       "      <td>[{, f, i, c, t, i, o, n, ,, , t, h, r, i, l, l...</td>\n",
       "      <td>http://images.amazon.com/images/P/0440234743.0...</td>\n",
       "      <td>http://images.amazon.com/images/P/0440234743.0...</td>\n",
       "      <td>http://images.amazon.com/images/P/0440234743.0...</td>\n",
       "      <td>[John, Grisham, Dell, In, a, plush, Virginia, ...</td>\n",
       "    </tr>\n",
       "  </tbody>\n",
       "</table>\n",
       "</div>"
      ],
      "text/plain": [
       "         ISBN                   title           author             publisher  \\\n",
       "0  0399135782  The Kitchen God's Wife       [Amy, Tan]  [Putnam, Pub, Group]   \n",
       "1  0440234743           The Testament  [John, Grisham]                [Dell]   \n",
       "\n",
       "                                         description  \\\n",
       "0  [Winnie, and, Helen, have, kept, each, other's...   \n",
       "1  [In, a, plush, Virginia, office,, a, rich,, an...   \n",
       "\n",
       "                                              genres  \\\n",
       "0  [{, f, i, c, t, i, o, n, ,, , h, i, s, t, o, r...   \n",
       "1  [{, f, i, c, t, i, o, n, ,, , t, h, r, i, l, l...   \n",
       "\n",
       "                                         Image-URL-S  \\\n",
       "0  http://images.amazon.com/images/P/0399135782.0...   \n",
       "1  http://images.amazon.com/images/P/0440234743.0...   \n",
       "\n",
       "                                         Image-URL-M  \\\n",
       "0  http://images.amazon.com/images/P/0399135782.0...   \n",
       "1  http://images.amazon.com/images/P/0440234743.0...   \n",
       "\n",
       "                                         Image-URL-L  \\\n",
       "0  http://images.amazon.com/images/P/0399135782.0...   \n",
       "1  http://images.amazon.com/images/P/0440234743.0...   \n",
       "\n",
       "                                                tags  \n",
       "0  [Amy, Tan, Putnam, Pub, Group, Winnie, and, He...  \n",
       "1  [John, Grisham, Dell, In, a, plush, Virginia, ...  "
      ]
     },
     "execution_count": 39,
     "metadata": {},
     "output_type": "execute_result"
    }
   ],
   "source": [
    "final_books.head(2)"
   ]
  },
  {
   "cell_type": "code",
   "execution_count": 40,
   "metadata": {},
   "outputs": [],
   "source": [
    "#Convert the tags column to string\n",
    "final_books['tags'] = final_books['tags'].apply(lambda x: ' '.join(x))"
   ]
  },
  {
   "cell_type": "code",
   "execution_count": 41,
   "metadata": {},
   "outputs": [
    {
     "data": {
      "text/plain": [
       "\"Amy Tan Putnam Pub Group Winnie and Helen have kept each other's worst secrets for more than fifty years. Now, because she believes she is dying, Helen wants to expose everything. And Winnie angrily determines that she must be the one to tell her daughter, Pearl, about the past—including the terrible truth even Helen does not know. And so begins Winnie's story of her life on a small island outside Shanghai in the 1920s, and other places in China during World War II, and traces the happy and desperate events that led to Winnie's coming to America in 1949. { f i c t i o n ,  h i s t o r i c a l f i c t i o n ,  c o n t e m p o r a r y }\""
      ]
     },
     "execution_count": 41,
     "metadata": {},
     "output_type": "execute_result"
    }
   ],
   "source": [
    "#first book tags\n",
    "final_books['tags'][0]"
   ]
  },
  {
   "cell_type": "code",
   "execution_count": 42,
   "metadata": {},
   "outputs": [],
   "source": [
    "#Convert the tags column to lowercase\n",
    "final_books['tags'] = final_books['tags'].apply(lambda x: x.lower())"
   ]
  },
  {
   "cell_type": "code",
   "execution_count": 43,
   "metadata": {},
   "outputs": [
    {
     "name": "stderr",
     "output_type": "stream",
     "text": [
      "C:\\Users\\almud\\AppData\\Local\\Temp\\ipykernel_2400\\1215373354.py:2: FutureWarning: The default value of regex will change from True to False in a future version.\n",
      "  final_books['tags'] = final_books['tags'].str.replace('[^\\w\\s]','')\n"
     ]
    }
   ],
   "source": [
    "#Remove the punctuation from the tags column\n",
    "final_books['tags'] = final_books['tags'].str.replace('[^\\w\\s]','')"
   ]
  },
  {
   "cell_type": "code",
   "execution_count": 44,
   "metadata": {},
   "outputs": [
    {
     "data": {
      "text/plain": [
       "'amy tan putnam pub group winnie and helen have kept each others worst secrets for more than fifty years now because she believes she is dying helen wants to expose everything and winnie angrily determines that she must be the one to tell her daughter pearl about the pastincluding the terrible truth even helen does not know and so begins winnies story of her life on a small island outside shanghai in the 1920s and other places in china during world war ii and traces the happy and desperate events that led to winnies coming to america in 1949  f i c t i o n   h i s t o r i c a l f i c t i o n   c o n t e m p o r a r y '"
      ]
     },
     "execution_count": 44,
     "metadata": {},
     "output_type": "execute_result"
    }
   ],
   "source": [
    "#first book tags\n",
    "final_books['tags'][0]"
   ]
  },
  {
   "cell_type": "markdown",
   "metadata": {},
   "source": [
    "### Let's use the NLK Toolkit to process the tags"
   ]
  },
  {
   "cell_type": "code",
   "execution_count": 45,
   "metadata": {},
   "outputs": [],
   "source": [
    "import nltk"
   ]
  },
  {
   "cell_type": "code",
   "execution_count": 46,
   "metadata": {},
   "outputs": [],
   "source": [
    "from nltk.stem.porter import PorterStemmer\n",
    "ps = PorterStemmer()"
   ]
  },
  {
   "cell_type": "code",
   "execution_count": 47,
   "metadata": {},
   "outputs": [],
   "source": [
    "def stem(text):\n",
    "    y = []\n",
    "    for i in text.split():\n",
    "        y.append(ps.stem(i))\n",
    "    return \" \".join(y)"
   ]
  },
  {
   "cell_type": "code",
   "execution_count": 48,
   "metadata": {},
   "outputs": [
    {
     "data": {
      "text/plain": [
       "'sahr'"
      ]
     },
     "execution_count": 48,
     "metadata": {},
     "output_type": "execute_result"
    }
   ],
   "source": [
    "ps.stem('sahring')"
   ]
  },
  {
   "cell_type": "code",
   "execution_count": 49,
   "metadata": {},
   "outputs": [
    {
     "data": {
      "text/plain": [
       "'share'"
      ]
     },
     "execution_count": 49,
     "metadata": {},
     "output_type": "execute_result"
    }
   ],
   "source": [
    "ps.stem('shared')"
   ]
  },
  {
   "cell_type": "code",
   "execution_count": 50,
   "metadata": {},
   "outputs": [
    {
     "data": {
      "text/plain": [
       "'share'"
      ]
     },
     "execution_count": 50,
     "metadata": {},
     "output_type": "execute_result"
    }
   ],
   "source": [
    "ps.stem('shares')"
   ]
  },
  {
   "cell_type": "markdown",
   "metadata": {},
   "source": [
    "##### Lets convert a collection of text documents to a matrix of token counts. Using the Count Vectorization - scikit-learn (One Hot-Encoding)"
   ]
  },
  {
   "cell_type": "code",
   "execution_count": 51,
   "metadata": {},
   "outputs": [],
   "source": [
    "import sklearn\n",
    "\n",
    "#sklearn is a machine learning library that provides \n",
    "# a range of supervised and unsupervised learning algorithms via a consistent interface in Python."
   ]
  },
  {
   "cell_type": "code",
   "execution_count": 52,
   "metadata": {},
   "outputs": [
    {
     "name": "stdout",
     "output_type": "stream",
     "text": [
      "1.1.3\n"
     ]
    }
   ],
   "source": [
    "#Testing purpose\n",
    "#sklearn.__version__\n",
    "print(sklearn.__version__)"
   ]
  },
  {
   "cell_type": "code",
   "execution_count": 53,
   "metadata": {},
   "outputs": [],
   "source": [
    "from sklearn.feature_extraction.text import CountVectorizer\n",
    "\n",
    "cv = CountVectorizer(max_features=6000, stop_words='english')"
   ]
  },
  {
   "cell_type": "markdown",
   "metadata": {},
   "source": [
    "##### Convert the tags column to matrix of tokens"
   ]
  },
  {
   "cell_type": "code",
   "execution_count": 54,
   "metadata": {},
   "outputs": [],
   "source": [
    "tags_matrix = cv.fit_transform(final_books['tags']).toarray()"
   ]
  },
  {
   "cell_type": "code",
   "execution_count": 55,
   "metadata": {},
   "outputs": [
    {
     "data": {
      "text/plain": [
       "(2276, 6000)"
      ]
     },
     "execution_count": 55,
     "metadata": {},
     "output_type": "execute_result"
    }
   ],
   "source": [
    "tags_matrix.shape"
   ]
  },
  {
   "cell_type": "code",
   "execution_count": 56,
   "metadata": {},
   "outputs": [
    {
     "data": {
      "text/plain": [
       "array([0, 0, 0, ..., 0, 0, 0], dtype=int64)"
      ]
     },
     "execution_count": 56,
     "metadata": {},
     "output_type": "execute_result"
    }
   ],
   "source": [
    "tags_matrix[0]"
   ]
  },
  {
   "cell_type": "code",
   "execution_count": 57,
   "metadata": {},
   "outputs": [
    {
     "name": "stderr",
     "output_type": "stream",
     "text": [
      "C:\\Users\\almud\\AppData\\Local\\Packages\\PythonSoftwareFoundation.Python.3.10_qbz5n2kfra8p0\\LocalCache\\local-packages\\Python310\\site-packages\\sklearn\\utils\\deprecation.py:87: FutureWarning: Function get_feature_names is deprecated; get_feature_names is deprecated in 1.0 and will be removed in 1.2. Please use get_feature_names_out instead.\n",
      "  warnings.warn(msg, category=FutureWarning)\n"
     ]
    }
   ],
   "source": [
    "tags_len = len(cv.get_feature_names())"
   ]
  },
  {
   "cell_type": "code",
   "execution_count": 58,
   "metadata": {},
   "outputs": [],
   "source": [
    "from sklearn.metrics.pairwise import cosine_similarity"
   ]
  },
  {
   "cell_type": "code",
   "execution_count": 59,
   "metadata": {},
   "outputs": [],
   "source": [
    "similarity = cosine_similarity(tags_matrix)"
   ]
  },
  {
   "cell_type": "code",
   "execution_count": 60,
   "metadata": {},
   "outputs": [
    {
     "data": {
      "text/plain": [
       "(2276, 2276)"
      ]
     },
     "execution_count": 60,
     "metadata": {},
     "output_type": "execute_result"
    }
   ],
   "source": [
    "similarity.shape"
   ]
  },
  {
   "cell_type": "code",
   "execution_count": 61,
   "metadata": {},
   "outputs": [
    {
     "data": {
      "text/plain": [
       "array([1.        , 0.02990743, 0.        , ..., 0.08613795, 0.08417256,\n",
       "       0.05200314])"
      ]
     },
     "execution_count": 61,
     "metadata": {},
     "output_type": "execute_result"
    }
   ],
   "source": [
    "similarity[0]"
   ]
  },
  {
   "cell_type": "code",
   "execution_count": 62,
   "metadata": {},
   "outputs": [
    {
     "data": {
      "text/plain": [
       "[(307, 0.19531072666281962),\n",
       " (712, 0.1773271170602693),\n",
       " (746, 0.17255919256291524),\n",
       " (577, 0.16343011261515336),\n",
       " (765, 0.1494406444160154),\n",
       " (334, 0.14867525836251314),\n",
       " (2242, 0.14803422705323477),\n",
       " (244, 0.14746845304722261),\n",
       " (1869, 0.14694367167412903),\n",
       " (208, 0.14508582304931122)]"
      ]
     },
     "execution_count": 62,
     "metadata": {},
     "output_type": "execute_result"
    }
   ],
   "source": [
    "sorted(list(enumerate(similarity[0])), reverse=True, key=lambda x:x[1])[1:11]  "
   ]
  },
  {
   "cell_type": "markdown",
   "metadata": {},
   "source": [
    "#### Function to perform the recommendation:"
   ]
  },
  {
   "cell_type": "code",
   "execution_count": 63,
   "metadata": {},
   "outputs": [],
   "source": [
    "def recommend(book, number_of_books):\n",
    "    #if the book is not in the dataframe\n",
    "    if book not in final_books['title'].unique():\n",
    "        return 'Book not in the database.'\n",
    "    else:\n",
    "        #get the index of the book in the dataframe\n",
    "        book_index = final_books[final_books['title'] == book].index[0]\n",
    "        #get the list of similar books\n",
    "        distances = similarity[book_index]\n",
    "        #sort the list\n",
    "        books_list = sorted(list(enumerate(distances)), reverse=True, key=lambda x:x[1])[1:number_of_books+1]\n",
    "        \n",
    "        for i in books_list:\n",
    "            print(final_books.iloc[i[0]].title)"
   ]
  },
  {
   "cell_type": "code",
   "execution_count": 64,
   "metadata": {},
   "outputs": [],
   "source": [
    "#function to get recommended book information[title, image, description, author, publisher, genres]\n",
    "def get_book_info(book):\n",
    "    #if the book is not in the dataframe\n",
    "    if book not in final_books['title'].unique():\n",
    "        return 'Book not in the database.'\n",
    "    else:\n",
    "        #get the index of the book in the dataframe\n",
    "        book_index = final_books[final_books['title'] == book].index[0]\n",
    "        #get the book information\n",
    "        book_info = final_books.iloc[book_index]\n",
    "        return book_info"
   ]
  },
  {
   "cell_type": "code",
   "execution_count": 65,
   "metadata": {},
   "outputs": [
    {
     "data": {
      "text/plain": [
       "ISBN                                                  0440234743\n",
       "title                                              The Testament\n",
       "author                                           [John, Grisham]\n",
       "publisher                                                 [Dell]\n",
       "description    [In, a, plush, Virginia, office,, a, rich,, an...\n",
       "genres         [{, f, i, c, t, i, o, n, ,, , t, h, r, i, l, l...\n",
       "Image-URL-S    http://images.amazon.com/images/P/0440234743.0...\n",
       "Image-URL-M    http://images.amazon.com/images/P/0440234743.0...\n",
       "Image-URL-L    http://images.amazon.com/images/P/0440234743.0...\n",
       "tags           john grisham dell in a plush virginia office a...\n",
       "Name: 1, dtype: object"
      ]
     },
     "execution_count": 65,
     "metadata": {},
     "output_type": "execute_result"
    }
   ],
   "source": [
    "get_book_info('The Testament')"
   ]
  },
  {
   "cell_type": "code",
   "execution_count": 66,
   "metadata": {},
   "outputs": [
    {
     "name": "stdout",
     "output_type": "stream",
     "text": [
      "The Power of Now: A Guide to Spiritual Enlightenment\n",
      "Void Moon\n",
      "Kindred\n",
      "Moonlight Becomes You\n",
      "Bloodline\n",
      "Wasted: A Memoir of Anorexia and Bulimia\n",
      "Good Omens: The Nice and Accurate Prophecies of Agnes Nutter, Witch\n",
      "Disclosure\n",
      "Millions of Cats\n",
      "The King of Torts\n"
     ]
    }
   ],
   "source": [
    "#Let's test the function\n",
    "recommend('The Testament', 10)"
   ]
  },
  {
   "cell_type": "code",
   "execution_count": 67,
   "metadata": {},
   "outputs": [
    {
     "name": "stdout",
     "output_type": "stream",
     "text": [
      "The Power of Now: A Guide to Spiritual Enlightenment\n",
      "Void Moon\n",
      "Kindred\n",
      "Moonlight Becomes You\n",
      "Bloodline\n",
      "Wasted: A Memoir of Anorexia and Bulimia\n",
      "Good Omens: The Nice and Accurate Prophecies of Agnes Nutter, Witch\n",
      "Disclosure\n",
      "Millions of Cats\n",
      "The King of Torts\n",
      "I Am Legend\n",
      "Escape\n",
      "Night School\n",
      "Birds of America\n",
      "The Confession\n",
      "My Cousin Rachel\n",
      "One Summer\n",
      "Moloka'i\n",
      "Shadow Fires\n",
      "Back Roads\n"
     ]
    }
   ],
   "source": [
    "book_name = input(\"Enter the name of the book: \")\n",
    "recommendation_count = int(input(\"Enter the number of recommendations you want: \"))\n",
    "recommend(book_name, recommendation_count)"
   ]
  },
  {
   "cell_type": "code",
   "execution_count": 85,
   "metadata": {},
   "outputs": [],
   "source": [
    "import pickle"
   ]
  },
  {
   "cell_type": "code",
   "execution_count": 86,
   "metadata": {},
   "outputs": [],
   "source": [
    "#pickle.dump(final_books, open('interface/app/model/final_books.pkl', 'wb'))"
   ]
  },
  {
   "cell_type": "code",
   "execution_count": 88,
   "metadata": {},
   "outputs": [],
   "source": [
    "pickle.dump(final_books.to_dict(), open('interface/app/model/final_books.pkl', 'wb'))"
   ]
  },
  {
   "cell_type": "code",
   "execution_count": null,
   "metadata": {},
   "outputs": [],
   "source": [
    "final_books.to_dict()"
   ]
  },
  {
   "cell_type": "code",
   "execution_count": null,
   "metadata": {},
   "outputs": [],
   "source": [
    "pickle.dump(similarity, open('interface/app/model/similarity-0.1.0.pkl', 'wb'))"
   ]
  }
 ],
 "metadata": {
  "kernelspec": {
   "display_name": "Python 3",
   "language": "python",
   "name": "python3"
  },
  "language_info": {
   "codemirror_mode": {
    "name": "ipython",
    "version": 3
   },
   "file_extension": ".py",
   "mimetype": "text/x-python",
   "name": "python",
   "nbconvert_exporter": "python",
   "pygments_lexer": "ipython3",
   "version": "3.10.9 (tags/v3.10.9:1dd9be6, Dec  6 2022, 20:01:21) [MSC v.1934 64 bit (AMD64)]"
  },
  "orig_nbformat": 4,
  "vscode": {
   "interpreter": {
    "hash": "92f2f9d40fe351ffe2d812abb5d1b74348355f8c449db015a40d3e59a266b265"
   }
  }
 },
 "nbformat": 4,
 "nbformat_minor": 2
}
