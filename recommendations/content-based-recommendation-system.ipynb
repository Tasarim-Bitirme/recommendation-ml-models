{
 "cells": [
  {
   "attachments": {},
   "cell_type": "markdown",
   "metadata": {},
   "source": [
    "## Content-Based Fitering Recommendation System"
   ]
  },
  {
   "attachments": {},
   "cell_type": "markdown",
   "metadata": {},
   "source": [
    "\n",
    "#### In this type of recommendation system I'll be merging 2 datasets and forming a new one that's suitable for the required algorithms"
   ]
  },
  {
   "cell_type": "code",
   "execution_count": 6,
   "metadata": {},
   "outputs": [],
   "source": [
    "#import pandas and numpy libraries\n",
    "import pandas as pd\n",
    "import numpy as np\n",
    "from ast import literal_eval\n"
   ]
  },
  {
   "cell_type": "code",
   "execution_count": 7,
   "metadata": {},
   "outputs": [
    {
     "name": "stderr",
     "output_type": "stream",
     "text": [
      "C:\\Users\\almud\\AppData\\Local\\Temp\\ipykernel_22692\\177235090.py:2: FutureWarning: The error_bad_lines argument has been deprecated and will be removed in a future version. Use on_bad_lines in the future.\n",
      "\n",
      "\n",
      "  books_original = pd.read_csv('dataset/bx_271380_books.csv', sep=';', error_bad_lines=False, encoding=\"latin-1\")\n",
      "b'Skipping line 6452: expected 8 fields, saw 9\\nSkipping line 43667: expected 8 fields, saw 10\\nSkipping line 51751: expected 8 fields, saw 9\\n'\n",
      "b'Skipping line 92038: expected 8 fields, saw 9\\nSkipping line 104319: expected 8 fields, saw 9\\nSkipping line 121768: expected 8 fields, saw 9\\n'\n",
      "b'Skipping line 144058: expected 8 fields, saw 9\\nSkipping line 150789: expected 8 fields, saw 9\\nSkipping line 157128: expected 8 fields, saw 9\\nSkipping line 180189: expected 8 fields, saw 9\\nSkipping line 185738: expected 8 fields, saw 9\\n'\n",
      "b'Skipping line 209388: expected 8 fields, saw 9\\nSkipping line 220626: expected 8 fields, saw 9\\nSkipping line 227933: expected 8 fields, saw 11\\nSkipping line 228957: expected 8 fields, saw 10\\nSkipping line 245933: expected 8 fields, saw 9\\nSkipping line 251296: expected 8 fields, saw 9\\nSkipping line 259941: expected 8 fields, saw 9\\nSkipping line 261529: expected 8 fields, saw 9\\n'\n",
      "C:\\Users\\almud\\AppData\\Local\\Temp\\ipykernel_22692\\177235090.py:2: DtypeWarning: Columns (3) have mixed types. Specify dtype option on import or set low_memory=False.\n",
      "  books_original = pd.read_csv('dataset/bx_271380_books.csv', sep=';', error_bad_lines=False, encoding=\"latin-1\")\n"
     ]
    }
   ],
   "source": [
    "# Read the csv file\n",
    "books_original = pd.read_csv('dataset/bx_271380_books.csv', sep=';', error_bad_lines=False, encoding=\"latin-1\")"
   ]
  },
  {
   "cell_type": "code",
   "execution_count": 8,
   "metadata": {},
   "outputs": [
    {
     "data": {
      "text/html": [
       "<div>\n",
       "<style scoped>\n",
       "    .dataframe tbody tr th:only-of-type {\n",
       "        vertical-align: middle;\n",
       "    }\n",
       "\n",
       "    .dataframe tbody tr th {\n",
       "        vertical-align: top;\n",
       "    }\n",
       "\n",
       "    .dataframe thead th {\n",
       "        text-align: right;\n",
       "    }\n",
       "</style>\n",
       "<table border=\"1\" class=\"dataframe\">\n",
       "  <thead>\n",
       "    <tr style=\"text-align: right;\">\n",
       "      <th></th>\n",
       "      <th>ISBN</th>\n",
       "      <th>Book-Title</th>\n",
       "      <th>Book-Author</th>\n",
       "      <th>Year-Of-Publication</th>\n",
       "      <th>Publisher</th>\n",
       "      <th>Image-URL-S</th>\n",
       "      <th>Image-URL-M</th>\n",
       "      <th>Image-URL-L</th>\n",
       "    </tr>\n",
       "  </thead>\n",
       "  <tbody>\n",
       "    <tr>\n",
       "      <th>0</th>\n",
       "      <td>0195153448</td>\n",
       "      <td>Classical Mythology</td>\n",
       "      <td>Mark P. O. Morford</td>\n",
       "      <td>2002</td>\n",
       "      <td>Oxford University Press</td>\n",
       "      <td>http://images.amazon.com/images/P/0195153448.0...</td>\n",
       "      <td>http://images.amazon.com/images/P/0195153448.0...</td>\n",
       "      <td>http://images.amazon.com/images/P/0195153448.0...</td>\n",
       "    </tr>\n",
       "    <tr>\n",
       "      <th>1</th>\n",
       "      <td>0002005018</td>\n",
       "      <td>Clara Callan</td>\n",
       "      <td>Richard Bruce Wright</td>\n",
       "      <td>2001</td>\n",
       "      <td>HarperFlamingo Canada</td>\n",
       "      <td>http://images.amazon.com/images/P/0002005018.0...</td>\n",
       "      <td>http://images.amazon.com/images/P/0002005018.0...</td>\n",
       "      <td>http://images.amazon.com/images/P/0002005018.0...</td>\n",
       "    </tr>\n",
       "  </tbody>\n",
       "</table>\n",
       "</div>"
      ],
      "text/plain": [
       "         ISBN           Book-Title           Book-Author Year-Of-Publication  \\\n",
       "0  0195153448  Classical Mythology    Mark P. O. Morford                2002   \n",
       "1  0002005018         Clara Callan  Richard Bruce Wright                2001   \n",
       "\n",
       "                 Publisher                                        Image-URL-S  \\\n",
       "0  Oxford University Press  http://images.amazon.com/images/P/0195153448.0...   \n",
       "1    HarperFlamingo Canada  http://images.amazon.com/images/P/0002005018.0...   \n",
       "\n",
       "                                         Image-URL-M  \\\n",
       "0  http://images.amazon.com/images/P/0195153448.0...   \n",
       "1  http://images.amazon.com/images/P/0002005018.0...   \n",
       "\n",
       "                                         Image-URL-L  \n",
       "0  http://images.amazon.com/images/P/0195153448.0...  \n",
       "1  http://images.amazon.com/images/P/0002005018.0...  "
      ]
     },
     "execution_count": 8,
     "metadata": {},
     "output_type": "execute_result"
    }
   ],
   "source": [
    "#display the first 5 rows of the dataframe\n",
    "books_original.head(2)"
   ]
  },
  {
   "attachments": {},
   "cell_type": "markdown",
   "metadata": {},
   "source": [
    "#### 3. Extracting the data github link:"
   ]
  },
  {
   "cell_type": "code",
   "execution_count": 9,
   "metadata": {},
   "outputs": [],
   "source": [
    "#extract data from csv file\n",
    "books_df = pd.read_csv('https://raw.githubusercontent.com/malcolmosh/goodbooks-10k/master/books_enriched.csv', index_col=[0], converters={\"genres\": literal_eval})"
   ]
  },
  {
   "cell_type": "code",
   "execution_count": 10,
   "metadata": {},
   "outputs": [
    {
     "data": {
      "text/html": [
       "<div>\n",
       "<style scoped>\n",
       "    .dataframe tbody tr th:only-of-type {\n",
       "        vertical-align: middle;\n",
       "    }\n",
       "\n",
       "    .dataframe tbody tr th {\n",
       "        vertical-align: top;\n",
       "    }\n",
       "\n",
       "    .dataframe thead th {\n",
       "        text-align: right;\n",
       "    }\n",
       "</style>\n",
       "<table border=\"1\" class=\"dataframe\">\n",
       "  <thead>\n",
       "    <tr style=\"text-align: right;\">\n",
       "      <th></th>\n",
       "      <th>index</th>\n",
       "      <th>authors</th>\n",
       "      <th>average_rating</th>\n",
       "      <th>best_book_id</th>\n",
       "      <th>book_id</th>\n",
       "      <th>books_count</th>\n",
       "      <th>description</th>\n",
       "      <th>genres</th>\n",
       "      <th>goodreads_book_id</th>\n",
       "      <th>image_url</th>\n",
       "      <th>...</th>\n",
       "      <th>ratings_3</th>\n",
       "      <th>ratings_4</th>\n",
       "      <th>ratings_5</th>\n",
       "      <th>ratings_count</th>\n",
       "      <th>small_image_url</th>\n",
       "      <th>title</th>\n",
       "      <th>work_id</th>\n",
       "      <th>work_ratings_count</th>\n",
       "      <th>work_text_reviews_count</th>\n",
       "      <th>authors_2</th>\n",
       "    </tr>\n",
       "  </thead>\n",
       "  <tbody>\n",
       "    <tr>\n",
       "      <th>0</th>\n",
       "      <td>0</td>\n",
       "      <td>['Suzanne Collins']</td>\n",
       "      <td>4.34</td>\n",
       "      <td>2767052</td>\n",
       "      <td>1</td>\n",
       "      <td>272</td>\n",
       "      <td>WINNING MEANS FAME AND FORTUNE.LOSING MEANS CE...</td>\n",
       "      <td>[young-adult, fiction, fantasy, science-fictio...</td>\n",
       "      <td>2767052</td>\n",
       "      <td>https://images.gr-assets.com/books/1447303603m...</td>\n",
       "      <td>...</td>\n",
       "      <td>560092</td>\n",
       "      <td>1481305</td>\n",
       "      <td>2706317</td>\n",
       "      <td>4780653</td>\n",
       "      <td>https://images.gr-assets.com/books/1447303603s...</td>\n",
       "      <td>The Hunger Games (The Hunger Games, #1)</td>\n",
       "      <td>2792775</td>\n",
       "      <td>4942365</td>\n",
       "      <td>155254</td>\n",
       "      <td>['Suzanne Collins']</td>\n",
       "    </tr>\n",
       "  </tbody>\n",
       "</table>\n",
       "<p>1 rows × 29 columns</p>\n",
       "</div>"
      ],
      "text/plain": [
       "   index              authors  average_rating  best_book_id  book_id  \\\n",
       "0      0  ['Suzanne Collins']            4.34       2767052        1   \n",
       "\n",
       "   books_count                                        description  \\\n",
       "0          272  WINNING MEANS FAME AND FORTUNE.LOSING MEANS CE...   \n",
       "\n",
       "                                              genres  goodreads_book_id  \\\n",
       "0  [young-adult, fiction, fantasy, science-fictio...            2767052   \n",
       "\n",
       "                                           image_url  ... ratings_3  \\\n",
       "0  https://images.gr-assets.com/books/1447303603m...  ...    560092   \n",
       "\n",
       "   ratings_4 ratings_5  ratings_count  \\\n",
       "0    1481305   2706317        4780653   \n",
       "\n",
       "                                     small_image_url  \\\n",
       "0  https://images.gr-assets.com/books/1447303603s...   \n",
       "\n",
       "                                     title  work_id  work_ratings_count  \\\n",
       "0  The Hunger Games (The Hunger Games, #1)  2792775             4942365   \n",
       "\n",
       "   work_text_reviews_count            authors_2  \n",
       "0                   155254  ['Suzanne Collins']  \n",
       "\n",
       "[1 rows x 29 columns]"
      ]
     },
     "execution_count": 10,
     "metadata": {},
     "output_type": "execute_result"
    }
   ],
   "source": [
    "books_df.head(1)"
   ]
  },
  {
   "cell_type": "code",
   "execution_count": 11,
   "metadata": {},
   "outputs": [
    {
     "data": {
      "text/plain": [
       "\"WINNING MEANS FAME AND FORTUNE.LOSING MEANS CERTAIN DEATH.THE HUNGER GAMES HAVE BEGUN. . . .In the ruins of a place once known as North America lies the nation of Panem, a shining Capitol surrounded by twelve outlying districts. The Capitol is harsh and cruel and keeps the districts in line by forcing them all to send one boy and once girl between the ages of twelve and eighteen to participate in the annual Hunger Games, a fight to the death on live TV.Sixteen-year-old Katniss Everdeen regards it as a death sentence when she steps forward to take her sister's place in the Games. But Katniss has been close to dead before—and survival, for her, is second nature. Without really meaning to, she becomes a contender. But if she is to win, she will have to start making choices that weight survival against humanity and life against love.\""
      ]
     },
     "execution_count": 11,
     "metadata": {},
     "output_type": "execute_result"
    }
   ],
   "source": [
    "#Display the first book's description of the first book\n",
    "books_df['description'][0]"
   ]
  },
  {
   "cell_type": "code",
   "execution_count": 12,
   "metadata": {},
   "outputs": [
    {
     "data": {
      "text/plain": [
       "['young-adult', 'fiction', 'fantasy', 'science-fiction', 'romance']"
      ]
     },
     "execution_count": 12,
     "metadata": {},
     "output_type": "execute_result"
    }
   ],
   "source": [
    "#Display the first book's genres\n",
    "books_df['genres'][0]"
   ]
  },
  {
   "cell_type": "code",
   "execution_count": 13,
   "metadata": {},
   "outputs": [
    {
     "data": {
      "text/plain": [
       "False    265124\n",
       "True       6236\n",
       "Name: Book-Title, dtype: int64"
      ]
     },
     "execution_count": 13,
     "metadata": {},
     "output_type": "execute_result"
    }
   ],
   "source": [
    "#Compare the 2 dataframes by Book-Title from the \"books_original\" dataframe and  title from the \"books_df\" dataframe\n",
    "books_original['Book-Title'].isin(books_df['title']).value_counts()"
   ]
  },
  {
   "cell_type": "code",
   "execution_count": 14,
   "metadata": {},
   "outputs": [
    {
     "data": {
      "text/plain": [
       "(0, 29)"
      ]
     },
     "execution_count": 14,
     "metadata": {},
     "output_type": "execute_result"
    }
   ],
   "source": [
    "#Display rows count with null genres\n",
    "books_df[books_df['genres'].isnull()].shape"
   ]
  },
  {
   "cell_type": "code",
   "execution_count": 15,
   "metadata": {},
   "outputs": [
    {
     "data": {
      "text/plain": [
       "(57, 29)"
      ]
     },
     "execution_count": 15,
     "metadata": {},
     "output_type": "execute_result"
    }
   ],
   "source": [
    "#Display rows count with null description\n",
    "books_df[books_df['description'].isnull()].shape"
   ]
  },
  {
   "cell_type": "code",
   "execution_count": 16,
   "metadata": {},
   "outputs": [],
   "source": [
    "#Drop all rows with null genres or description\n",
    "books_df.dropna(subset=['genres', 'description'], inplace=True)"
   ]
  },
  {
   "cell_type": "code",
   "execution_count": 17,
   "metadata": {},
   "outputs": [
    {
     "data": {
      "text/plain": [
       "(9943, 29)"
      ]
     },
     "execution_count": 17,
     "metadata": {},
     "output_type": "execute_result"
    }
   ],
   "source": [
    "#Shape of the dataframe after dropping rows with null genres or description\n",
    "books_df.shape"
   ]
  },
  {
   "cell_type": "code",
   "execution_count": 18,
   "metadata": {},
   "outputs": [],
   "source": [
    "#drop the rows that are not in the \"books_df\" dataframe\n",
    "books = books_original[books_original['Book-Title'].isin(books_df['title'])]"
   ]
  },
  {
   "cell_type": "code",
   "execution_count": 19,
   "metadata": {},
   "outputs": [
    {
     "data": {
      "text/plain": [
       "6196"
      ]
     },
     "execution_count": 19,
     "metadata": {},
     "output_type": "execute_result"
    }
   ],
   "source": [
    "#display the length of the dataframe\n",
    "len(books)"
   ]
  },
  {
   "cell_type": "code",
   "execution_count": 20,
   "metadata": {},
   "outputs": [
    {
     "name": "stderr",
     "output_type": "stream",
     "text": [
      "C:\\Users\\almud\\AppData\\Local\\Temp\\ipykernel_22692\\629608149.py:3: SettingWithCopyWarning: \n",
      "A value is trying to be set on a copy of a slice from a DataFrame.\n",
      "Try using .loc[row_indexer,col_indexer] = value instead\n",
      "\n",
      "See the caveats in the documentation: https://pandas.pydata.org/pandas-docs/stable/user_guide/indexing.html#returning-a-view-versus-a-copy\n",
      "  books['description'] = books.apply(lambda row: books_df[books_df['title'] == row['Book-Title']]['description'].values[0], axis=1)\n",
      "C:\\Users\\almud\\AppData\\Local\\Temp\\ipykernel_22692\\629608149.py:5: SettingWithCopyWarning: \n",
      "A value is trying to be set on a copy of a slice from a DataFrame.\n",
      "Try using .loc[row_indexer,col_indexer] = value instead\n",
      "\n",
      "See the caveats in the documentation: https://pandas.pydata.org/pandas-docs/stable/user_guide/indexing.html#returning-a-view-versus-a-copy\n",
      "  books['genres'] = books.apply(lambda row: books_df[books_df['title'] == row['Book-Title']]['genres'].values[0], axis=1)\n"
     ]
    }
   ],
   "source": [
    "#Add the columns \"description\" and \"genres\" from the \"books_df\" dataframe to the \"books\" dataframe \n",
    "#if the \"Book-Title\" from the \"books\" dataframe is equal to the \"title\" from the \"books_df\" dataframe\n",
    "books['description'] = books.apply(lambda row: books_df[books_df['title'] == row['Book-Title']]['description'].values[0], axis=1)\n",
    "#Do the same for the \"genres\" column\n",
    "books['genres'] = books.apply(lambda row: books_df[books_df['title'] == row['Book-Title']]['genres'].values[0], axis=1)"
   ]
  },
  {
   "cell_type": "code",
   "execution_count": 21,
   "metadata": {},
   "outputs": [
    {
     "data": {
      "text/plain": [
       "6196"
      ]
     },
     "execution_count": 21,
     "metadata": {},
     "output_type": "execute_result"
    }
   ],
   "source": [
    "len(books)"
   ]
  },
  {
   "cell_type": "code",
   "execution_count": 22,
   "metadata": {},
   "outputs": [
    {
     "data": {
      "text/html": [
       "<div>\n",
       "<style scoped>\n",
       "    .dataframe tbody tr th:only-of-type {\n",
       "        vertical-align: middle;\n",
       "    }\n",
       "\n",
       "    .dataframe tbody tr th {\n",
       "        vertical-align: top;\n",
       "    }\n",
       "\n",
       "    .dataframe thead th {\n",
       "        text-align: right;\n",
       "    }\n",
       "</style>\n",
       "<table border=\"1\" class=\"dataframe\">\n",
       "  <thead>\n",
       "    <tr style=\"text-align: right;\">\n",
       "      <th></th>\n",
       "      <th>ISBN</th>\n",
       "      <th>Book-Title</th>\n",
       "      <th>Book-Author</th>\n",
       "      <th>Year-Of-Publication</th>\n",
       "      <th>Publisher</th>\n",
       "      <th>Image-URL-S</th>\n",
       "      <th>Image-URL-M</th>\n",
       "      <th>Image-URL-L</th>\n",
       "      <th>description</th>\n",
       "      <th>genres</th>\n",
       "    </tr>\n",
       "  </thead>\n",
       "  <tbody>\n",
       "    <tr>\n",
       "      <th>5</th>\n",
       "      <td>0399135782</td>\n",
       "      <td>The Kitchen God's Wife</td>\n",
       "      <td>Amy Tan</td>\n",
       "      <td>1991</td>\n",
       "      <td>Putnam Pub Group</td>\n",
       "      <td>http://images.amazon.com/images/P/0399135782.0...</td>\n",
       "      <td>http://images.amazon.com/images/P/0399135782.0...</td>\n",
       "      <td>http://images.amazon.com/images/P/0399135782.0...</td>\n",
       "      <td>Winnie and Helen have kept each other's worst ...</td>\n",
       "      <td>[fiction, historical-fiction, contemporary]</td>\n",
       "    </tr>\n",
       "    <tr>\n",
       "      <th>18</th>\n",
       "      <td>0440234743</td>\n",
       "      <td>The Testament</td>\n",
       "      <td>John Grisham</td>\n",
       "      <td>1999</td>\n",
       "      <td>Dell</td>\n",
       "      <td>http://images.amazon.com/images/P/0440234743.0...</td>\n",
       "      <td>http://images.amazon.com/images/P/0440234743.0...</td>\n",
       "      <td>http://images.amazon.com/images/P/0440234743.0...</td>\n",
       "      <td>In a plush Virginia office, a rich, angry old ...</td>\n",
       "      <td>[fiction, thriller, mystery, suspense, crime]</td>\n",
       "    </tr>\n",
       "    <tr>\n",
       "      <th>20</th>\n",
       "      <td>0609804618</td>\n",
       "      <td>Our Dumb Century: The Onion Presents 100 Years...</td>\n",
       "      <td>The Onion</td>\n",
       "      <td>1999</td>\n",
       "      <td>Three Rivers Press</td>\n",
       "      <td>http://images.amazon.com/images/P/0609804618.0...</td>\n",
       "      <td>http://images.amazon.com/images/P/0609804618.0...</td>\n",
       "      <td>http://images.amazon.com/images/P/0609804618.0...</td>\n",
       "      <td>The Onion has quickly become the world's most ...</td>\n",
       "      <td>[history, nonfiction]</td>\n",
       "    </tr>\n",
       "    <tr>\n",
       "      <th>27</th>\n",
       "      <td>0345402871</td>\n",
       "      <td>Airframe</td>\n",
       "      <td>Michael Crichton</td>\n",
       "      <td>1997</td>\n",
       "      <td>Ballantine Books</td>\n",
       "      <td>http://images.amazon.com/images/P/0345402871.0...</td>\n",
       "      <td>http://images.amazon.com/images/P/0345402871.0...</td>\n",
       "      <td>http://images.amazon.com/images/P/0345402871.0...</td>\n",
       "      <td>The twin jet plane en route to Denver from Hon...</td>\n",
       "      <td>[fiction, thriller, mystery, science-fiction, ...</td>\n",
       "    </tr>\n",
       "    <tr>\n",
       "      <th>28</th>\n",
       "      <td>0345417623</td>\n",
       "      <td>Timeline</td>\n",
       "      <td>MICHAEL CRICHTON</td>\n",
       "      <td>2000</td>\n",
       "      <td>Ballantine Books</td>\n",
       "      <td>http://images.amazon.com/images/P/0345417623.0...</td>\n",
       "      <td>http://images.amazon.com/images/P/0345417623.0...</td>\n",
       "      <td>http://images.amazon.com/images/P/0345417623.0...</td>\n",
       "      <td>In an Arizona desert, a man wanders in a daze,...</td>\n",
       "      <td>[science-fiction, fiction, thriller, historica...</td>\n",
       "    </tr>\n",
       "  </tbody>\n",
       "</table>\n",
       "</div>"
      ],
      "text/plain": [
       "          ISBN                                         Book-Title  \\\n",
       "5   0399135782                             The Kitchen God's Wife   \n",
       "18  0440234743                                      The Testament   \n",
       "20  0609804618  Our Dumb Century: The Onion Presents 100 Years...   \n",
       "27  0345402871                                           Airframe   \n",
       "28  0345417623                                           Timeline   \n",
       "\n",
       "         Book-Author Year-Of-Publication           Publisher  \\\n",
       "5            Amy Tan                1991    Putnam Pub Group   \n",
       "18      John Grisham                1999                Dell   \n",
       "20         The Onion                1999  Three Rivers Press   \n",
       "27  Michael Crichton                1997    Ballantine Books   \n",
       "28  MICHAEL CRICHTON                2000    Ballantine Books   \n",
       "\n",
       "                                          Image-URL-S  \\\n",
       "5   http://images.amazon.com/images/P/0399135782.0...   \n",
       "18  http://images.amazon.com/images/P/0440234743.0...   \n",
       "20  http://images.amazon.com/images/P/0609804618.0...   \n",
       "27  http://images.amazon.com/images/P/0345402871.0...   \n",
       "28  http://images.amazon.com/images/P/0345417623.0...   \n",
       "\n",
       "                                          Image-URL-M  \\\n",
       "5   http://images.amazon.com/images/P/0399135782.0...   \n",
       "18  http://images.amazon.com/images/P/0440234743.0...   \n",
       "20  http://images.amazon.com/images/P/0609804618.0...   \n",
       "27  http://images.amazon.com/images/P/0345402871.0...   \n",
       "28  http://images.amazon.com/images/P/0345417623.0...   \n",
       "\n",
       "                                          Image-URL-L  \\\n",
       "5   http://images.amazon.com/images/P/0399135782.0...   \n",
       "18  http://images.amazon.com/images/P/0440234743.0...   \n",
       "20  http://images.amazon.com/images/P/0609804618.0...   \n",
       "27  http://images.amazon.com/images/P/0345402871.0...   \n",
       "28  http://images.amazon.com/images/P/0345417623.0...   \n",
       "\n",
       "                                          description  \\\n",
       "5   Winnie and Helen have kept each other's worst ...   \n",
       "18  In a plush Virginia office, a rich, angry old ...   \n",
       "20  The Onion has quickly become the world's most ...   \n",
       "27  The twin jet plane en route to Denver from Hon...   \n",
       "28  In an Arizona desert, a man wanders in a daze,...   \n",
       "\n",
       "                                               genres  \n",
       "5         [fiction, historical-fiction, contemporary]  \n",
       "18      [fiction, thriller, mystery, suspense, crime]  \n",
       "20                              [history, nonfiction]  \n",
       "27  [fiction, thriller, mystery, science-fiction, ...  \n",
       "28  [science-fiction, fiction, thriller, historica...  "
      ]
     },
     "execution_count": 22,
     "metadata": {},
     "output_type": "execute_result"
    }
   ],
   "source": [
    "#Display the first 5 rows of the dataframe\n",
    "books.head(5)"
   ]
  },
  {
   "cell_type": "code",
   "execution_count": 23,
   "metadata": {},
   "outputs": [],
   "source": [
    "#Format books dataframe and restart it from index 0\n",
    "books = books.reset_index(drop=True)"
   ]
  },
  {
   "cell_type": "code",
   "execution_count": 24,
   "metadata": {},
   "outputs": [
    {
     "data": {
      "text/plain": [
       "(6196, 10)"
      ]
     },
     "execution_count": 24,
     "metadata": {},
     "output_type": "execute_result"
    }
   ],
   "source": [
    "books.shape"
   ]
  },
  {
   "cell_type": "code",
   "execution_count": 25,
   "metadata": {},
   "outputs": [
    {
     "data": {
      "text/html": [
       "<div>\n",
       "<style scoped>\n",
       "    .dataframe tbody tr th:only-of-type {\n",
       "        vertical-align: middle;\n",
       "    }\n",
       "\n",
       "    .dataframe tbody tr th {\n",
       "        vertical-align: top;\n",
       "    }\n",
       "\n",
       "    .dataframe thead th {\n",
       "        text-align: right;\n",
       "    }\n",
       "</style>\n",
       "<table border=\"1\" class=\"dataframe\">\n",
       "  <thead>\n",
       "    <tr style=\"text-align: right;\">\n",
       "      <th></th>\n",
       "      <th>ISBN</th>\n",
       "      <th>Book-Title</th>\n",
       "      <th>Book-Author</th>\n",
       "      <th>Year-Of-Publication</th>\n",
       "      <th>Publisher</th>\n",
       "      <th>Image-URL-S</th>\n",
       "      <th>Image-URL-M</th>\n",
       "      <th>Image-URL-L</th>\n",
       "      <th>description</th>\n",
       "      <th>genres</th>\n",
       "    </tr>\n",
       "  </thead>\n",
       "  <tbody>\n",
       "  </tbody>\n",
       "</table>\n",
       "</div>"
      ],
      "text/plain": [
       "Empty DataFrame\n",
       "Columns: [ISBN, Book-Title, Book-Author, Year-Of-Publication, Publisher, Image-URL-S, Image-URL-M, Image-URL-L, description, genres]\n",
       "Index: []"
      ]
     },
     "execution_count": 25,
     "metadata": {},
     "output_type": "execute_result"
    }
   ],
   "source": [
    "books.head(0)"
   ]
  },
  {
   "cell_type": "code",
   "execution_count": 26,
   "metadata": {},
   "outputs": [
    {
     "data": {
      "text/plain": [
       "ISBN                   0\n",
       "Book-Title             0\n",
       "Book-Author            0\n",
       "Year-Of-Publication    0\n",
       "Publisher              0\n",
       "Image-URL-S            0\n",
       "Image-URL-M            0\n",
       "Image-URL-L            0\n",
       "description            0\n",
       "genres                 0\n",
       "dtype: int64"
      ]
     },
     "execution_count": 26,
     "metadata": {},
     "output_type": "execute_result"
    }
   ],
   "source": [
    "#Let's check if there's any null values in the dataframe\n",
    "books.isnull().sum()"
   ]
  },
  {
   "attachments": {},
   "cell_type": "markdown",
   "metadata": {},
   "source": [
    "### Remove all kind of duplications:"
   ]
  },
  {
   "cell_type": "code",
   "execution_count": 27,
   "metadata": {},
   "outputs": [],
   "source": [
    "#Drop all duplicates rows and keep the first occurence\n",
    "books.drop_duplicates(subset=['Book-Title'], keep='first', inplace=True)\n"
   ]
  },
  {
   "cell_type": "code",
   "execution_count": 28,
   "metadata": {},
   "outputs": [
    {
     "data": {
      "text/plain": [
       "(2276, 10)"
      ]
     },
     "execution_count": 28,
     "metadata": {},
     "output_type": "execute_result"
    }
   ],
   "source": [
    "books.shape"
   ]
  },
  {
   "cell_type": "code",
   "execution_count": 29,
   "metadata": {},
   "outputs": [],
   "source": [
    "#Save the dataframe to a csv file\n",
    "books.to_csv('dataset/final_books_dataset.csv', index=False)"
   ]
  },
  {
   "cell_type": "code",
   "execution_count": 30,
   "metadata": {},
   "outputs": [
    {
     "data": {
      "text/html": [
       "<div>\n",
       "<style scoped>\n",
       "    .dataframe tbody tr th:only-of-type {\n",
       "        vertical-align: middle;\n",
       "    }\n",
       "\n",
       "    .dataframe tbody tr th {\n",
       "        vertical-align: top;\n",
       "    }\n",
       "\n",
       "    .dataframe thead th {\n",
       "        text-align: right;\n",
       "    }\n",
       "</style>\n",
       "<table border=\"1\" class=\"dataframe\">\n",
       "  <thead>\n",
       "    <tr style=\"text-align: right;\">\n",
       "      <th></th>\n",
       "      <th>ISBN</th>\n",
       "      <th>Book-Title</th>\n",
       "      <th>Book-Author</th>\n",
       "      <th>Year-Of-Publication</th>\n",
       "      <th>Publisher</th>\n",
       "      <th>Image-URL-S</th>\n",
       "      <th>Image-URL-M</th>\n",
       "      <th>Image-URL-L</th>\n",
       "      <th>description</th>\n",
       "      <th>genres</th>\n",
       "    </tr>\n",
       "  </thead>\n",
       "  <tbody>\n",
       "    <tr>\n",
       "      <th>0</th>\n",
       "      <td>0399135782</td>\n",
       "      <td>The Kitchen God's Wife</td>\n",
       "      <td>Amy Tan</td>\n",
       "      <td>1991</td>\n",
       "      <td>Putnam Pub Group</td>\n",
       "      <td>http://images.amazon.com/images/P/0399135782.0...</td>\n",
       "      <td>http://images.amazon.com/images/P/0399135782.0...</td>\n",
       "      <td>http://images.amazon.com/images/P/0399135782.0...</td>\n",
       "      <td>Winnie and Helen have kept each other's worst ...</td>\n",
       "      <td>[fiction, historical-fiction, contemporary]</td>\n",
       "    </tr>\n",
       "    <tr>\n",
       "      <th>1</th>\n",
       "      <td>0440234743</td>\n",
       "      <td>The Testament</td>\n",
       "      <td>John Grisham</td>\n",
       "      <td>1999</td>\n",
       "      <td>Dell</td>\n",
       "      <td>http://images.amazon.com/images/P/0440234743.0...</td>\n",
       "      <td>http://images.amazon.com/images/P/0440234743.0...</td>\n",
       "      <td>http://images.amazon.com/images/P/0440234743.0...</td>\n",
       "      <td>In a plush Virginia office, a rich, angry old ...</td>\n",
       "      <td>[fiction, thriller, mystery, suspense, crime]</td>\n",
       "    </tr>\n",
       "    <tr>\n",
       "      <th>2</th>\n",
       "      <td>0609804618</td>\n",
       "      <td>Our Dumb Century: The Onion Presents 100 Years...</td>\n",
       "      <td>The Onion</td>\n",
       "      <td>1999</td>\n",
       "      <td>Three Rivers Press</td>\n",
       "      <td>http://images.amazon.com/images/P/0609804618.0...</td>\n",
       "      <td>http://images.amazon.com/images/P/0609804618.0...</td>\n",
       "      <td>http://images.amazon.com/images/P/0609804618.0...</td>\n",
       "      <td>The Onion has quickly become the world's most ...</td>\n",
       "      <td>[history, nonfiction]</td>\n",
       "    </tr>\n",
       "    <tr>\n",
       "      <th>3</th>\n",
       "      <td>0345402871</td>\n",
       "      <td>Airframe</td>\n",
       "      <td>Michael Crichton</td>\n",
       "      <td>1997</td>\n",
       "      <td>Ballantine Books</td>\n",
       "      <td>http://images.amazon.com/images/P/0345402871.0...</td>\n",
       "      <td>http://images.amazon.com/images/P/0345402871.0...</td>\n",
       "      <td>http://images.amazon.com/images/P/0345402871.0...</td>\n",
       "      <td>The twin jet plane en route to Denver from Hon...</td>\n",
       "      <td>[fiction, thriller, mystery, science-fiction, ...</td>\n",
       "    </tr>\n",
       "    <tr>\n",
       "      <th>4</th>\n",
       "      <td>0345417623</td>\n",
       "      <td>Timeline</td>\n",
       "      <td>MICHAEL CRICHTON</td>\n",
       "      <td>2000</td>\n",
       "      <td>Ballantine Books</td>\n",
       "      <td>http://images.amazon.com/images/P/0345417623.0...</td>\n",
       "      <td>http://images.amazon.com/images/P/0345417623.0...</td>\n",
       "      <td>http://images.amazon.com/images/P/0345417623.0...</td>\n",
       "      <td>In an Arizona desert, a man wanders in a daze,...</td>\n",
       "      <td>[science-fiction, fiction, thriller, historica...</td>\n",
       "    </tr>\n",
       "  </tbody>\n",
       "</table>\n",
       "</div>"
      ],
      "text/plain": [
       "         ISBN                                         Book-Title  \\\n",
       "0  0399135782                             The Kitchen God's Wife   \n",
       "1  0440234743                                      The Testament   \n",
       "2  0609804618  Our Dumb Century: The Onion Presents 100 Years...   \n",
       "3  0345402871                                           Airframe   \n",
       "4  0345417623                                           Timeline   \n",
       "\n",
       "        Book-Author Year-Of-Publication           Publisher  \\\n",
       "0           Amy Tan                1991    Putnam Pub Group   \n",
       "1      John Grisham                1999                Dell   \n",
       "2         The Onion                1999  Three Rivers Press   \n",
       "3  Michael Crichton                1997    Ballantine Books   \n",
       "4  MICHAEL CRICHTON                2000    Ballantine Books   \n",
       "\n",
       "                                         Image-URL-S  \\\n",
       "0  http://images.amazon.com/images/P/0399135782.0...   \n",
       "1  http://images.amazon.com/images/P/0440234743.0...   \n",
       "2  http://images.amazon.com/images/P/0609804618.0...   \n",
       "3  http://images.amazon.com/images/P/0345402871.0...   \n",
       "4  http://images.amazon.com/images/P/0345417623.0...   \n",
       "\n",
       "                                         Image-URL-M  \\\n",
       "0  http://images.amazon.com/images/P/0399135782.0...   \n",
       "1  http://images.amazon.com/images/P/0440234743.0...   \n",
       "2  http://images.amazon.com/images/P/0609804618.0...   \n",
       "3  http://images.amazon.com/images/P/0345402871.0...   \n",
       "4  http://images.amazon.com/images/P/0345417623.0...   \n",
       "\n",
       "                                         Image-URL-L  \\\n",
       "0  http://images.amazon.com/images/P/0399135782.0...   \n",
       "1  http://images.amazon.com/images/P/0440234743.0...   \n",
       "2  http://images.amazon.com/images/P/0609804618.0...   \n",
       "3  http://images.amazon.com/images/P/0345402871.0...   \n",
       "4  http://images.amazon.com/images/P/0345417623.0...   \n",
       "\n",
       "                                         description  \\\n",
       "0  Winnie and Helen have kept each other's worst ...   \n",
       "1  In a plush Virginia office, a rich, angry old ...   \n",
       "2  The Onion has quickly become the world's most ...   \n",
       "3  The twin jet plane en route to Denver from Hon...   \n",
       "4  In an Arizona desert, a man wanders in a daze,...   \n",
       "\n",
       "                                              genres  \n",
       "0        [fiction, historical-fiction, contemporary]  \n",
       "1      [fiction, thriller, mystery, suspense, crime]  \n",
       "2                              [history, nonfiction]  \n",
       "3  [fiction, thriller, mystery, science-fiction, ...  \n",
       "4  [science-fiction, fiction, thriller, historica...  "
      ]
     },
     "execution_count": 30,
     "metadata": {},
     "output_type": "execute_result"
    }
   ],
   "source": [
    "books.head(5)"
   ]
  },
  {
   "cell_type": "code",
   "execution_count": 31,
   "metadata": {},
   "outputs": [],
   "source": [
    "#save the dataframe to a csv file\n",
    "books.to_csv('dataset/final_books_dataset.csv', index=False)"
   ]
  },
  {
   "cell_type": "code",
   "execution_count": 32,
   "metadata": {},
   "outputs": [],
   "source": [
    "#remove - in genres\n",
    "books['genres'] = books['genres'].apply(lambda x: [i.replace('-', '') for i in x])\n",
    "#Remove the \" from the start and end of the genres\n",
    "books['genres'] = books['genres'].apply(lambda x: [i.replace('\"', '') for i in x])\n",
    "#remove the \" from the start and end of the description\n",
    "books['description'] = books['description'].apply(lambda x: x.replace('\"', ''))"
   ]
  },
  {
   "cell_type": "code",
   "execution_count": 33,
   "metadata": {},
   "outputs": [],
   "source": [
    "#replace [ by { and } by ] from the genres column\n",
    "books['genres'] = books['genres'].apply(lambda x: str(x).replace('[', '{').replace(']', '}'))\n",
    "#remove ' in the genres column\n",
    "books['genres'] = books['genres'].str.replace(\"'\", \"\")"
   ]
  },
  {
   "cell_type": "code",
   "execution_count": 34,
   "metadata": {},
   "outputs": [
    {
     "data": {
      "text/html": [
       "<div>\n",
       "<style scoped>\n",
       "    .dataframe tbody tr th:only-of-type {\n",
       "        vertical-align: middle;\n",
       "    }\n",
       "\n",
       "    .dataframe tbody tr th {\n",
       "        vertical-align: top;\n",
       "    }\n",
       "\n",
       "    .dataframe thead th {\n",
       "        text-align: right;\n",
       "    }\n",
       "</style>\n",
       "<table border=\"1\" class=\"dataframe\">\n",
       "  <thead>\n",
       "    <tr style=\"text-align: right;\">\n",
       "      <th></th>\n",
       "      <th>ISBN</th>\n",
       "      <th>Book-Title</th>\n",
       "      <th>Book-Author</th>\n",
       "      <th>Year-Of-Publication</th>\n",
       "      <th>Publisher</th>\n",
       "      <th>Image-URL-S</th>\n",
       "      <th>Image-URL-M</th>\n",
       "      <th>Image-URL-L</th>\n",
       "      <th>description</th>\n",
       "      <th>genres</th>\n",
       "    </tr>\n",
       "  </thead>\n",
       "  <tbody>\n",
       "    <tr>\n",
       "      <th>0</th>\n",
       "      <td>0399135782</td>\n",
       "      <td>The Kitchen God's Wife</td>\n",
       "      <td>Amy Tan</td>\n",
       "      <td>1991</td>\n",
       "      <td>Putnam Pub Group</td>\n",
       "      <td>http://images.amazon.com/images/P/0399135782.0...</td>\n",
       "      <td>http://images.amazon.com/images/P/0399135782.0...</td>\n",
       "      <td>http://images.amazon.com/images/P/0399135782.0...</td>\n",
       "      <td>Winnie and Helen have kept each other's worst ...</td>\n",
       "      <td>{fiction, historicalfiction, contemporary}</td>\n",
       "    </tr>\n",
       "    <tr>\n",
       "      <th>1</th>\n",
       "      <td>0440234743</td>\n",
       "      <td>The Testament</td>\n",
       "      <td>John Grisham</td>\n",
       "      <td>1999</td>\n",
       "      <td>Dell</td>\n",
       "      <td>http://images.amazon.com/images/P/0440234743.0...</td>\n",
       "      <td>http://images.amazon.com/images/P/0440234743.0...</td>\n",
       "      <td>http://images.amazon.com/images/P/0440234743.0...</td>\n",
       "      <td>In a plush Virginia office, a rich, angry old ...</td>\n",
       "      <td>{fiction, thriller, mystery, suspense, crime}</td>\n",
       "    </tr>\n",
       "    <tr>\n",
       "      <th>2</th>\n",
       "      <td>0609804618</td>\n",
       "      <td>Our Dumb Century: The Onion Presents 100 Years...</td>\n",
       "      <td>The Onion</td>\n",
       "      <td>1999</td>\n",
       "      <td>Three Rivers Press</td>\n",
       "      <td>http://images.amazon.com/images/P/0609804618.0...</td>\n",
       "      <td>http://images.amazon.com/images/P/0609804618.0...</td>\n",
       "      <td>http://images.amazon.com/images/P/0609804618.0...</td>\n",
       "      <td>The Onion has quickly become the world's most ...</td>\n",
       "      <td>{history, nonfiction}</td>\n",
       "    </tr>\n",
       "    <tr>\n",
       "      <th>3</th>\n",
       "      <td>0345402871</td>\n",
       "      <td>Airframe</td>\n",
       "      <td>Michael Crichton</td>\n",
       "      <td>1997</td>\n",
       "      <td>Ballantine Books</td>\n",
       "      <td>http://images.amazon.com/images/P/0345402871.0...</td>\n",
       "      <td>http://images.amazon.com/images/P/0345402871.0...</td>\n",
       "      <td>http://images.amazon.com/images/P/0345402871.0...</td>\n",
       "      <td>The twin jet plane en route to Denver from Hon...</td>\n",
       "      <td>{fiction, thriller, mystery, sciencefiction, s...</td>\n",
       "    </tr>\n",
       "    <tr>\n",
       "      <th>4</th>\n",
       "      <td>0345417623</td>\n",
       "      <td>Timeline</td>\n",
       "      <td>MICHAEL CRICHTON</td>\n",
       "      <td>2000</td>\n",
       "      <td>Ballantine Books</td>\n",
       "      <td>http://images.amazon.com/images/P/0345417623.0...</td>\n",
       "      <td>http://images.amazon.com/images/P/0345417623.0...</td>\n",
       "      <td>http://images.amazon.com/images/P/0345417623.0...</td>\n",
       "      <td>In an Arizona desert, a man wanders in a daze,...</td>\n",
       "      <td>{sciencefiction, fiction, thriller, historical...</td>\n",
       "    </tr>\n",
       "  </tbody>\n",
       "</table>\n",
       "</div>"
      ],
      "text/plain": [
       "         ISBN                                         Book-Title  \\\n",
       "0  0399135782                             The Kitchen God's Wife   \n",
       "1  0440234743                                      The Testament   \n",
       "2  0609804618  Our Dumb Century: The Onion Presents 100 Years...   \n",
       "3  0345402871                                           Airframe   \n",
       "4  0345417623                                           Timeline   \n",
       "\n",
       "        Book-Author Year-Of-Publication           Publisher  \\\n",
       "0           Amy Tan                1991    Putnam Pub Group   \n",
       "1      John Grisham                1999                Dell   \n",
       "2         The Onion                1999  Three Rivers Press   \n",
       "3  Michael Crichton                1997    Ballantine Books   \n",
       "4  MICHAEL CRICHTON                2000    Ballantine Books   \n",
       "\n",
       "                                         Image-URL-S  \\\n",
       "0  http://images.amazon.com/images/P/0399135782.0...   \n",
       "1  http://images.amazon.com/images/P/0440234743.0...   \n",
       "2  http://images.amazon.com/images/P/0609804618.0...   \n",
       "3  http://images.amazon.com/images/P/0345402871.0...   \n",
       "4  http://images.amazon.com/images/P/0345417623.0...   \n",
       "\n",
       "                                         Image-URL-M  \\\n",
       "0  http://images.amazon.com/images/P/0399135782.0...   \n",
       "1  http://images.amazon.com/images/P/0440234743.0...   \n",
       "2  http://images.amazon.com/images/P/0609804618.0...   \n",
       "3  http://images.amazon.com/images/P/0345402871.0...   \n",
       "4  http://images.amazon.com/images/P/0345417623.0...   \n",
       "\n",
       "                                         Image-URL-L  \\\n",
       "0  http://images.amazon.com/images/P/0399135782.0...   \n",
       "1  http://images.amazon.com/images/P/0440234743.0...   \n",
       "2  http://images.amazon.com/images/P/0609804618.0...   \n",
       "3  http://images.amazon.com/images/P/0345402871.0...   \n",
       "4  http://images.amazon.com/images/P/0345417623.0...   \n",
       "\n",
       "                                         description  \\\n",
       "0  Winnie and Helen have kept each other's worst ...   \n",
       "1  In a plush Virginia office, a rich, angry old ...   \n",
       "2  The Onion has quickly become the world's most ...   \n",
       "3  The twin jet plane en route to Denver from Hon...   \n",
       "4  In an Arizona desert, a man wanders in a daze,...   \n",
       "\n",
       "                                              genres  \n",
       "0         {fiction, historicalfiction, contemporary}  \n",
       "1      {fiction, thriller, mystery, suspense, crime}  \n",
       "2                              {history, nonfiction}  \n",
       "3  {fiction, thriller, mystery, sciencefiction, s...  \n",
       "4  {sciencefiction, fiction, thriller, historical...  "
      ]
     },
     "execution_count": 34,
     "metadata": {},
     "output_type": "execute_result"
    }
   ],
   "source": [
    "books.head(5)"
   ]
  },
  {
   "cell_type": "code",
   "execution_count": 35,
   "metadata": {},
   "outputs": [],
   "source": [
    "#download the books dataframe to a csv file\n",
    "books.to_csv('dataset/books.csv', index=False)"
   ]
  },
  {
   "attachments": {},
   "cell_type": "markdown",
   "metadata": {},
   "source": [
    "#### Let's format some variables of the dataset "
   ]
  },
  {
   "cell_type": "code",
   "execution_count": 36,
   "metadata": {},
   "outputs": [],
   "source": [
    "#Split the description column into words\n",
    "books['description'] = books['description'].apply(lambda x:x.split())"
   ]
  },
  {
   "cell_type": "code",
   "execution_count": 37,
   "metadata": {},
   "outputs": [
    {
     "data": {
      "text/plain": [
       "['Winnie',\n",
       " 'and',\n",
       " 'Helen',\n",
       " 'have',\n",
       " 'kept',\n",
       " 'each',\n",
       " \"other's\",\n",
       " 'worst',\n",
       " 'secrets',\n",
       " 'for',\n",
       " 'more',\n",
       " 'than',\n",
       " 'fifty',\n",
       " 'years.',\n",
       " 'Now,',\n",
       " 'because',\n",
       " 'she',\n",
       " 'believes',\n",
       " 'she',\n",
       " 'is',\n",
       " 'dying,',\n",
       " 'Helen',\n",
       " 'wants',\n",
       " 'to',\n",
       " 'expose',\n",
       " 'everything.',\n",
       " 'And',\n",
       " 'Winnie',\n",
       " 'angrily',\n",
       " 'determines',\n",
       " 'that',\n",
       " 'she',\n",
       " 'must',\n",
       " 'be',\n",
       " 'the',\n",
       " 'one',\n",
       " 'to',\n",
       " 'tell',\n",
       " 'her',\n",
       " 'daughter,',\n",
       " 'Pearl,',\n",
       " 'about',\n",
       " 'the',\n",
       " 'past—including',\n",
       " 'the',\n",
       " 'terrible',\n",
       " 'truth',\n",
       " 'even',\n",
       " 'Helen',\n",
       " 'does',\n",
       " 'not',\n",
       " 'know.',\n",
       " 'And',\n",
       " 'so',\n",
       " 'begins',\n",
       " \"Winnie's\",\n",
       " 'story',\n",
       " 'of',\n",
       " 'her',\n",
       " 'life',\n",
       " 'on',\n",
       " 'a',\n",
       " 'small',\n",
       " 'island',\n",
       " 'outside',\n",
       " 'Shanghai',\n",
       " 'in',\n",
       " 'the',\n",
       " '1920s,',\n",
       " 'and',\n",
       " 'other',\n",
       " 'places',\n",
       " 'in',\n",
       " 'China',\n",
       " 'during',\n",
       " 'World',\n",
       " 'War',\n",
       " 'II,',\n",
       " 'and',\n",
       " 'traces',\n",
       " 'the',\n",
       " 'happy',\n",
       " 'and',\n",
       " 'desperate',\n",
       " 'events',\n",
       " 'that',\n",
       " 'led',\n",
       " 'to',\n",
       " \"Winnie's\",\n",
       " 'coming',\n",
       " 'to',\n",
       " 'America',\n",
       " 'in',\n",
       " '1949.']"
      ]
     },
     "execution_count": 37,
     "metadata": {},
     "output_type": "execute_result"
    }
   ],
   "source": [
    "#Test the function\n",
    "#books.iloc[0]['description']\n",
    "books['description'][0]"
   ]
  },
  {
   "cell_type": "code",
   "execution_count": 38,
   "metadata": {},
   "outputs": [],
   "source": [
    "#Let's remove: punctuations and spaces\n",
    "#1. From genres column\n",
    "#2. From authors column\n",
    "#3. From publisher column\n",
    "\n",
    "#1. From genres column\n",
    "books['genres'] = books['genres'].apply(lambda x: [i.replace(' ', '') for i in x])\n",
    "books['genres'] = books['genres'].apply(lambda x: [i.replace('-', '') for i in x])\n",
    "\n",
    "#2. From authors column\n",
    "books['Book-Author'] = books['Book-Author'].apply(lambda x: x.replace(':', ' '))\n",
    "books['Book-Author'] = books['Book-Author'].apply(lambda x: x.replace('-', ' '))\n",
    "#convert authors column to array\n",
    "books['Book-Author'] = books['Book-Author'].apply(lambda x: x.split())\n",
    "\n",
    "\n",
    "#3. From publisher column\n",
    "books['Publisher'] = books['Publisher'].apply(lambda x: x.replace(':', ' '))\n",
    "books['Publisher'] = books['Publisher'].apply(lambda x: x.replace('-', ''))\n",
    "#convert publisher column to array\n",
    "books['Publisher'] = books['Publisher'].apply(lambda x: x.split())\n",
    "\n",
    "\n",
    "\n"
   ]
  },
  {
   "cell_type": "code",
   "execution_count": 39,
   "metadata": {},
   "outputs": [
    {
     "data": {
      "text/html": [
       "<div>\n",
       "<style scoped>\n",
       "    .dataframe tbody tr th:only-of-type {\n",
       "        vertical-align: middle;\n",
       "    }\n",
       "\n",
       "    .dataframe tbody tr th {\n",
       "        vertical-align: top;\n",
       "    }\n",
       "\n",
       "    .dataframe thead th {\n",
       "        text-align: right;\n",
       "    }\n",
       "</style>\n",
       "<table border=\"1\" class=\"dataframe\">\n",
       "  <thead>\n",
       "    <tr style=\"text-align: right;\">\n",
       "      <th></th>\n",
       "      <th>ISBN</th>\n",
       "      <th>Book-Title</th>\n",
       "      <th>Book-Author</th>\n",
       "      <th>Year-Of-Publication</th>\n",
       "      <th>Publisher</th>\n",
       "      <th>Image-URL-S</th>\n",
       "      <th>Image-URL-M</th>\n",
       "      <th>Image-URL-L</th>\n",
       "      <th>description</th>\n",
       "      <th>genres</th>\n",
       "    </tr>\n",
       "  </thead>\n",
       "  <tbody>\n",
       "    <tr>\n",
       "      <th>0</th>\n",
       "      <td>0399135782</td>\n",
       "      <td>The Kitchen God's Wife</td>\n",
       "      <td>[Amy, Tan]</td>\n",
       "      <td>1991</td>\n",
       "      <td>[Putnam, Pub, Group]</td>\n",
       "      <td>http://images.amazon.com/images/P/0399135782.0...</td>\n",
       "      <td>http://images.amazon.com/images/P/0399135782.0...</td>\n",
       "      <td>http://images.amazon.com/images/P/0399135782.0...</td>\n",
       "      <td>[Winnie, and, Helen, have, kept, each, other's...</td>\n",
       "      <td>[{, f, i, c, t, i, o, n, ,, , h, i, s, t, o, r...</td>\n",
       "    </tr>\n",
       "    <tr>\n",
       "      <th>1</th>\n",
       "      <td>0440234743</td>\n",
       "      <td>The Testament</td>\n",
       "      <td>[John, Grisham]</td>\n",
       "      <td>1999</td>\n",
       "      <td>[Dell]</td>\n",
       "      <td>http://images.amazon.com/images/P/0440234743.0...</td>\n",
       "      <td>http://images.amazon.com/images/P/0440234743.0...</td>\n",
       "      <td>http://images.amazon.com/images/P/0440234743.0...</td>\n",
       "      <td>[In, a, plush, Virginia, office,, a, rich,, an...</td>\n",
       "      <td>[{, f, i, c, t, i, o, n, ,, , t, h, r, i, l, l...</td>\n",
       "    </tr>\n",
       "  </tbody>\n",
       "</table>\n",
       "</div>"
      ],
      "text/plain": [
       "         ISBN              Book-Title      Book-Author Year-Of-Publication  \\\n",
       "0  0399135782  The Kitchen God's Wife       [Amy, Tan]                1991   \n",
       "1  0440234743           The Testament  [John, Grisham]                1999   \n",
       "\n",
       "              Publisher                                        Image-URL-S  \\\n",
       "0  [Putnam, Pub, Group]  http://images.amazon.com/images/P/0399135782.0...   \n",
       "1                [Dell]  http://images.amazon.com/images/P/0440234743.0...   \n",
       "\n",
       "                                         Image-URL-M  \\\n",
       "0  http://images.amazon.com/images/P/0399135782.0...   \n",
       "1  http://images.amazon.com/images/P/0440234743.0...   \n",
       "\n",
       "                                         Image-URL-L  \\\n",
       "0  http://images.amazon.com/images/P/0399135782.0...   \n",
       "1  http://images.amazon.com/images/P/0440234743.0...   \n",
       "\n",
       "                                         description  \\\n",
       "0  [Winnie, and, Helen, have, kept, each, other's...   \n",
       "1  [In, a, plush, Virginia, office,, a, rich,, an...   \n",
       "\n",
       "                                              genres  \n",
       "0  [{, f, i, c, t, i, o, n, ,, , h, i, s, t, o, r...  \n",
       "1  [{, f, i, c, t, i, o, n, ,, , t, h, r, i, l, l...  "
      ]
     },
     "execution_count": 39,
     "metadata": {},
     "output_type": "execute_result"
    }
   ],
   "source": [
    "books.head(2)"
   ]
  },
  {
   "cell_type": "code",
   "execution_count": 40,
   "metadata": {},
   "outputs": [
    {
     "data": {
      "text/plain": [
       "(2276, 10)"
      ]
     },
     "execution_count": 40,
     "metadata": {},
     "output_type": "execute_result"
    }
   ],
   "source": [
    "books.shape"
   ]
  },
  {
   "cell_type": "code",
   "execution_count": 41,
   "metadata": {},
   "outputs": [],
   "source": [
    "#Rename Book-Title column to title\n",
    "books.rename(columns={'Book-Title':'title'}, inplace=True)\n",
    "#Rename Book-Author column to author\n",
    "books.rename(columns={'Book-Author':'author'}, inplace=True)\n",
    "#Rename Publisher column to publisher\n",
    "books.rename(columns={'Publisher':'publisher'}, inplace=True)"
   ]
  },
  {
   "cell_type": "code",
   "execution_count": 42,
   "metadata": {},
   "outputs": [
    {
     "data": {
      "text/html": [
       "<div>\n",
       "<style scoped>\n",
       "    .dataframe tbody tr th:only-of-type {\n",
       "        vertical-align: middle;\n",
       "    }\n",
       "\n",
       "    .dataframe tbody tr th {\n",
       "        vertical-align: top;\n",
       "    }\n",
       "\n",
       "    .dataframe thead th {\n",
       "        text-align: right;\n",
       "    }\n",
       "</style>\n",
       "<table border=\"1\" class=\"dataframe\">\n",
       "  <thead>\n",
       "    <tr style=\"text-align: right;\">\n",
       "      <th></th>\n",
       "      <th>ISBN</th>\n",
       "      <th>title</th>\n",
       "      <th>author</th>\n",
       "      <th>Year-Of-Publication</th>\n",
       "      <th>publisher</th>\n",
       "      <th>Image-URL-S</th>\n",
       "      <th>Image-URL-M</th>\n",
       "      <th>Image-URL-L</th>\n",
       "      <th>description</th>\n",
       "      <th>genres</th>\n",
       "    </tr>\n",
       "  </thead>\n",
       "  <tbody>\n",
       "    <tr>\n",
       "      <th>0</th>\n",
       "      <td>0399135782</td>\n",
       "      <td>The Kitchen God's Wife</td>\n",
       "      <td>[Amy, Tan]</td>\n",
       "      <td>1991</td>\n",
       "      <td>[Putnam, Pub, Group]</td>\n",
       "      <td>http://images.amazon.com/images/P/0399135782.0...</td>\n",
       "      <td>http://images.amazon.com/images/P/0399135782.0...</td>\n",
       "      <td>http://images.amazon.com/images/P/0399135782.0...</td>\n",
       "      <td>[Winnie, and, Helen, have, kept, each, other's...</td>\n",
       "      <td>[{, f, i, c, t, i, o, n, ,, , h, i, s, t, o, r...</td>\n",
       "    </tr>\n",
       "    <tr>\n",
       "      <th>1</th>\n",
       "      <td>0440234743</td>\n",
       "      <td>The Testament</td>\n",
       "      <td>[John, Grisham]</td>\n",
       "      <td>1999</td>\n",
       "      <td>[Dell]</td>\n",
       "      <td>http://images.amazon.com/images/P/0440234743.0...</td>\n",
       "      <td>http://images.amazon.com/images/P/0440234743.0...</td>\n",
       "      <td>http://images.amazon.com/images/P/0440234743.0...</td>\n",
       "      <td>[In, a, plush, Virginia, office,, a, rich,, an...</td>\n",
       "      <td>[{, f, i, c, t, i, o, n, ,, , t, h, r, i, l, l...</td>\n",
       "    </tr>\n",
       "  </tbody>\n",
       "</table>\n",
       "</div>"
      ],
      "text/plain": [
       "         ISBN                   title           author Year-Of-Publication  \\\n",
       "0  0399135782  The Kitchen God's Wife       [Amy, Tan]                1991   \n",
       "1  0440234743           The Testament  [John, Grisham]                1999   \n",
       "\n",
       "              publisher                                        Image-URL-S  \\\n",
       "0  [Putnam, Pub, Group]  http://images.amazon.com/images/P/0399135782.0...   \n",
       "1                [Dell]  http://images.amazon.com/images/P/0440234743.0...   \n",
       "\n",
       "                                         Image-URL-M  \\\n",
       "0  http://images.amazon.com/images/P/0399135782.0...   \n",
       "1  http://images.amazon.com/images/P/0440234743.0...   \n",
       "\n",
       "                                         Image-URL-L  \\\n",
       "0  http://images.amazon.com/images/P/0399135782.0...   \n",
       "1  http://images.amazon.com/images/P/0440234743.0...   \n",
       "\n",
       "                                         description  \\\n",
       "0  [Winnie, and, Helen, have, kept, each, other's...   \n",
       "1  [In, a, plush, Virginia, office,, a, rich,, an...   \n",
       "\n",
       "                                              genres  \n",
       "0  [{, f, i, c, t, i, o, n, ,, , h, i, s, t, o, r...  \n",
       "1  [{, f, i, c, t, i, o, n, ,, , t, h, r, i, l, l...  "
      ]
     },
     "execution_count": 42,
     "metadata": {},
     "output_type": "execute_result"
    }
   ],
   "source": [
    "books.head(2)"
   ]
  },
  {
   "cell_type": "code",
   "execution_count": 43,
   "metadata": {},
   "outputs": [],
   "source": [
    "#Filter the books dataframe: add image_url_s, image_url_m, image_url_l columns\n",
    "#books = books[['ISBN','title', 'author', 'publisher', 'description', 'genres', 'Image-URL-S', 'Image-URL-M', 'Image-URL-L']]\n",
    "final_books = books[['ISBN','title', 'author', 'publisher', 'description', 'genres', 'Image-URL-S', 'Image-URL-M', 'Image-URL-L']]"
   ]
  },
  {
   "attachments": {},
   "cell_type": "markdown",
   "metadata": {},
   "source": [
    "#### I'll create tags for each movie to faciliate the recommendation"
   ]
  },
  {
   "cell_type": "code",
   "execution_count": 44,
   "metadata": {},
   "outputs": [],
   "source": [
    "#Let's create the tags for the books from \"title\", \"author\", \"publisher\", \"description\" and  \"genres\" columns\n",
    "final_books['tags'] = books['author'] + books['publisher'] + books['description'] + books['genres']"
   ]
  },
  {
   "cell_type": "code",
   "execution_count": 45,
   "metadata": {},
   "outputs": [
    {
     "data": {
      "text/html": [
       "<div>\n",
       "<style scoped>\n",
       "    .dataframe tbody tr th:only-of-type {\n",
       "        vertical-align: middle;\n",
       "    }\n",
       "\n",
       "    .dataframe tbody tr th {\n",
       "        vertical-align: top;\n",
       "    }\n",
       "\n",
       "    .dataframe thead th {\n",
       "        text-align: right;\n",
       "    }\n",
       "</style>\n",
       "<table border=\"1\" class=\"dataframe\">\n",
       "  <thead>\n",
       "    <tr style=\"text-align: right;\">\n",
       "      <th></th>\n",
       "      <th>ISBN</th>\n",
       "      <th>title</th>\n",
       "      <th>author</th>\n",
       "      <th>publisher</th>\n",
       "      <th>description</th>\n",
       "      <th>genres</th>\n",
       "      <th>Image-URL-S</th>\n",
       "      <th>Image-URL-M</th>\n",
       "      <th>Image-URL-L</th>\n",
       "      <th>tags</th>\n",
       "    </tr>\n",
       "  </thead>\n",
       "  <tbody>\n",
       "    <tr>\n",
       "      <th>0</th>\n",
       "      <td>0399135782</td>\n",
       "      <td>The Kitchen God's Wife</td>\n",
       "      <td>[Amy, Tan]</td>\n",
       "      <td>[Putnam, Pub, Group]</td>\n",
       "      <td>[Winnie, and, Helen, have, kept, each, other's...</td>\n",
       "      <td>[{, f, i, c, t, i, o, n, ,, , h, i, s, t, o, r...</td>\n",
       "      <td>http://images.amazon.com/images/P/0399135782.0...</td>\n",
       "      <td>http://images.amazon.com/images/P/0399135782.0...</td>\n",
       "      <td>http://images.amazon.com/images/P/0399135782.0...</td>\n",
       "      <td>[Amy, Tan, Putnam, Pub, Group, Winnie, and, He...</td>\n",
       "    </tr>\n",
       "    <tr>\n",
       "      <th>1</th>\n",
       "      <td>0440234743</td>\n",
       "      <td>The Testament</td>\n",
       "      <td>[John, Grisham]</td>\n",
       "      <td>[Dell]</td>\n",
       "      <td>[In, a, plush, Virginia, office,, a, rich,, an...</td>\n",
       "      <td>[{, f, i, c, t, i, o, n, ,, , t, h, r, i, l, l...</td>\n",
       "      <td>http://images.amazon.com/images/P/0440234743.0...</td>\n",
       "      <td>http://images.amazon.com/images/P/0440234743.0...</td>\n",
       "      <td>http://images.amazon.com/images/P/0440234743.0...</td>\n",
       "      <td>[John, Grisham, Dell, In, a, plush, Virginia, ...</td>\n",
       "    </tr>\n",
       "  </tbody>\n",
       "</table>\n",
       "</div>"
      ],
      "text/plain": [
       "         ISBN                   title           author             publisher  \\\n",
       "0  0399135782  The Kitchen God's Wife       [Amy, Tan]  [Putnam, Pub, Group]   \n",
       "1  0440234743           The Testament  [John, Grisham]                [Dell]   \n",
       "\n",
       "                                         description  \\\n",
       "0  [Winnie, and, Helen, have, kept, each, other's...   \n",
       "1  [In, a, plush, Virginia, office,, a, rich,, an...   \n",
       "\n",
       "                                              genres  \\\n",
       "0  [{, f, i, c, t, i, o, n, ,, , h, i, s, t, o, r...   \n",
       "1  [{, f, i, c, t, i, o, n, ,, , t, h, r, i, l, l...   \n",
       "\n",
       "                                         Image-URL-S  \\\n",
       "0  http://images.amazon.com/images/P/0399135782.0...   \n",
       "1  http://images.amazon.com/images/P/0440234743.0...   \n",
       "\n",
       "                                         Image-URL-M  \\\n",
       "0  http://images.amazon.com/images/P/0399135782.0...   \n",
       "1  http://images.amazon.com/images/P/0440234743.0...   \n",
       "\n",
       "                                         Image-URL-L  \\\n",
       "0  http://images.amazon.com/images/P/0399135782.0...   \n",
       "1  http://images.amazon.com/images/P/0440234743.0...   \n",
       "\n",
       "                                                tags  \n",
       "0  [Amy, Tan, Putnam, Pub, Group, Winnie, and, He...  \n",
       "1  [John, Grisham, Dell, In, a, plush, Virginia, ...  "
      ]
     },
     "execution_count": 45,
     "metadata": {},
     "output_type": "execute_result"
    }
   ],
   "source": [
    "final_books.head(2)"
   ]
  },
  {
   "cell_type": "code",
   "execution_count": 46,
   "metadata": {},
   "outputs": [],
   "source": [
    "#Convert the tags column to string\n",
    "final_books['tags'] = final_books['tags'].apply(lambda x: ' '.join(x))"
   ]
  },
  {
   "cell_type": "code",
   "execution_count": 47,
   "metadata": {},
   "outputs": [
    {
     "data": {
      "text/plain": [
       "\"Amy Tan Putnam Pub Group Winnie and Helen have kept each other's worst secrets for more than fifty years. Now, because she believes she is dying, Helen wants to expose everything. And Winnie angrily determines that she must be the one to tell her daughter, Pearl, about the past—including the terrible truth even Helen does not know. And so begins Winnie's story of her life on a small island outside Shanghai in the 1920s, and other places in China during World War II, and traces the happy and desperate events that led to Winnie's coming to America in 1949. { f i c t i o n ,  h i s t o r i c a l f i c t i o n ,  c o n t e m p o r a r y }\""
      ]
     },
     "execution_count": 47,
     "metadata": {},
     "output_type": "execute_result"
    }
   ],
   "source": [
    "#first book tags\n",
    "final_books['tags'][0]"
   ]
  },
  {
   "cell_type": "code",
   "execution_count": 48,
   "metadata": {},
   "outputs": [],
   "source": [
    "#Convert the tags column to lowercase\n",
    "final_books['tags'] = final_books['tags'].apply(lambda x: x.lower())"
   ]
  },
  {
   "cell_type": "code",
   "execution_count": 49,
   "metadata": {},
   "outputs": [
    {
     "name": "stderr",
     "output_type": "stream",
     "text": [
      "C:\\Users\\almud\\AppData\\Local\\Temp\\ipykernel_22692\\1215373354.py:2: FutureWarning: The default value of regex will change from True to False in a future version.\n",
      "  final_books['tags'] = final_books['tags'].str.replace('[^\\w\\s]','')\n"
     ]
    }
   ],
   "source": [
    "#Remove the punctuation from the tags column\n",
    "final_books['tags'] = final_books['tags'].str.replace('[^\\w\\s]','')"
   ]
  },
  {
   "cell_type": "code",
   "execution_count": 50,
   "metadata": {},
   "outputs": [
    {
     "data": {
      "text/plain": [
       "'amy tan putnam pub group winnie and helen have kept each others worst secrets for more than fifty years now because she believes she is dying helen wants to expose everything and winnie angrily determines that she must be the one to tell her daughter pearl about the pastincluding the terrible truth even helen does not know and so begins winnies story of her life on a small island outside shanghai in the 1920s and other places in china during world war ii and traces the happy and desperate events that led to winnies coming to america in 1949  f i c t i o n   h i s t o r i c a l f i c t i o n   c o n t e m p o r a r y '"
      ]
     },
     "execution_count": 50,
     "metadata": {},
     "output_type": "execute_result"
    }
   ],
   "source": [
    "#first book tags\n",
    "final_books['tags'][0]"
   ]
  },
  {
   "attachments": {},
   "cell_type": "markdown",
   "metadata": {},
   "source": [
    "### Let's use the NLK Toolkit to process the tags"
   ]
  },
  {
   "cell_type": "code",
   "execution_count": 51,
   "metadata": {},
   "outputs": [],
   "source": [
    "import nltk"
   ]
  },
  {
   "cell_type": "code",
   "execution_count": 52,
   "metadata": {},
   "outputs": [],
   "source": [
    "from nltk.stem.porter import PorterStemmer\n",
    "ps = PorterStemmer()"
   ]
  },
  {
   "cell_type": "code",
   "execution_count": 53,
   "metadata": {},
   "outputs": [],
   "source": [
    "def stem(text):\n",
    "    y = []\n",
    "    for i in text.split():\n",
    "        y.append(ps.stem(i))\n",
    "    return \" \".join(y)"
   ]
  },
  {
   "cell_type": "code",
   "execution_count": 54,
   "metadata": {},
   "outputs": [
    {
     "data": {
      "text/plain": [
       "'sahr'"
      ]
     },
     "execution_count": 54,
     "metadata": {},
     "output_type": "execute_result"
    }
   ],
   "source": [
    "ps.stem('sahring')"
   ]
  },
  {
   "cell_type": "code",
   "execution_count": 55,
   "metadata": {},
   "outputs": [
    {
     "data": {
      "text/plain": [
       "'share'"
      ]
     },
     "execution_count": 55,
     "metadata": {},
     "output_type": "execute_result"
    }
   ],
   "source": [
    "ps.stem('shared')"
   ]
  },
  {
   "cell_type": "code",
   "execution_count": 56,
   "metadata": {},
   "outputs": [
    {
     "data": {
      "text/plain": [
       "'share'"
      ]
     },
     "execution_count": 56,
     "metadata": {},
     "output_type": "execute_result"
    }
   ],
   "source": [
    "ps.stem('shares')"
   ]
  },
  {
   "attachments": {},
   "cell_type": "markdown",
   "metadata": {},
   "source": [
    "##### Lets convert a collection of text documents to a matrix of token counts. Using the Count Vectorization - scikit-learn (One Hot-Encoding)"
   ]
  },
  {
   "cell_type": "code",
   "execution_count": 57,
   "metadata": {},
   "outputs": [],
   "source": [
    "import sklearn\n",
    "\n",
    "#sklearn is a machine learning library that provides \n",
    "# a range of supervised and unsupervised learning algorithms via a consistent interface in Python."
   ]
  },
  {
   "cell_type": "code",
   "execution_count": 58,
   "metadata": {},
   "outputs": [
    {
     "name": "stdout",
     "output_type": "stream",
     "text": [
      "1.1.3\n"
     ]
    }
   ],
   "source": [
    "#Testing purpose\n",
    "#sklearn.__version__\n",
    "print(sklearn.__version__)"
   ]
  },
  {
   "cell_type": "code",
   "execution_count": 59,
   "metadata": {},
   "outputs": [],
   "source": [
    "from sklearn.feature_extraction.text import CountVectorizer\n",
    "\n",
    "cv = CountVectorizer(max_features=6000, stop_words='english')"
   ]
  },
  {
   "attachments": {},
   "cell_type": "markdown",
   "metadata": {},
   "source": [
    "##### Convert the tags column to matrix of tokens"
   ]
  },
  {
   "cell_type": "code",
   "execution_count": 60,
   "metadata": {},
   "outputs": [],
   "source": [
    "tags_matrix = cv.fit_transform(final_books['tags']).toarray()"
   ]
  },
  {
   "cell_type": "code",
   "execution_count": 61,
   "metadata": {},
   "outputs": [
    {
     "data": {
      "text/plain": [
       "(2276, 6000)"
      ]
     },
     "execution_count": 61,
     "metadata": {},
     "output_type": "execute_result"
    }
   ],
   "source": [
    "tags_matrix.shape"
   ]
  },
  {
   "cell_type": "code",
   "execution_count": 62,
   "metadata": {},
   "outputs": [
    {
     "data": {
      "text/plain": [
       "array([[0, 0, 0, ..., 0, 0, 0],\n",
       "       [0, 0, 0, ..., 0, 0, 0],\n",
       "       [0, 0, 0, ..., 0, 0, 0],\n",
       "       ...,\n",
       "       [0, 0, 0, ..., 0, 0, 0],\n",
       "       [0, 0, 0, ..., 0, 0, 0],\n",
       "       [0, 0, 0, ..., 0, 0, 0]], dtype=int64)"
      ]
     },
     "execution_count": 62,
     "metadata": {},
     "output_type": "execute_result"
    }
   ],
   "source": [
    "tags_matrix"
   ]
  },
  {
   "cell_type": "code",
   "execution_count": 63,
   "metadata": {},
   "outputs": [
    {
     "name": "stderr",
     "output_type": "stream",
     "text": [
      "C:\\Users\\almud\\AppData\\Local\\Packages\\PythonSoftwareFoundation.Python.3.10_qbz5n2kfra8p0\\LocalCache\\local-packages\\Python310\\site-packages\\sklearn\\utils\\deprecation.py:87: FutureWarning: Function get_feature_names is deprecated; get_feature_names is deprecated in 1.0 and will be removed in 1.2. Please use get_feature_names_out instead.\n",
      "  warnings.warn(msg, category=FutureWarning)\n"
     ]
    }
   ],
   "source": [
    "tags_len = len(cv.get_feature_names())"
   ]
  },
  {
   "cell_type": "code",
   "execution_count": 64,
   "metadata": {},
   "outputs": [],
   "source": [
    "from sklearn.metrics.pairwise import cosine_similarity"
   ]
  },
  {
   "cell_type": "code",
   "execution_count": 65,
   "metadata": {},
   "outputs": [],
   "source": [
    "similarity = cosine_similarity(tags_matrix)"
   ]
  },
  {
   "cell_type": "code",
   "execution_count": 66,
   "metadata": {},
   "outputs": [
    {
     "data": {
      "text/plain": [
       "(2276, 2276)"
      ]
     },
     "execution_count": 66,
     "metadata": {},
     "output_type": "execute_result"
    }
   ],
   "source": [
    "similarity.shape"
   ]
  },
  {
   "cell_type": "code",
   "execution_count": 67,
   "metadata": {},
   "outputs": [
    {
     "data": {
      "text/plain": [
       "array([1.        , 0.02990743, 0.        , ..., 0.08613795, 0.08417256,\n",
       "       0.05200314])"
      ]
     },
     "execution_count": 67,
     "metadata": {},
     "output_type": "execute_result"
    }
   ],
   "source": [
    "similarity[0]"
   ]
  },
  {
   "cell_type": "code",
   "execution_count": 68,
   "metadata": {},
   "outputs": [],
   "source": [
    "import sys"
   ]
  },
  {
   "cell_type": "code",
   "execution_count": 69,
   "metadata": {},
   "outputs": [],
   "source": [
    "#show the full array table without truncating\n",
    "np.set_printoptions(threshold=sys.maxsize)"
   ]
  },
  {
   "cell_type": "code",
   "execution_count": 70,
   "metadata": {},
   "outputs": [
    {
     "data": {
      "text/plain": [
       "array([1.        , 0.02990743, 0.        , 0.        , 0.05769231,\n",
       "       0.03081668, 0.06088626, 0.02973505, 0.        , 0.        ,\n",
       "       0.05783149, 0.06081303, 0.02681245, 0.05661385, 0.07221581,\n",
       "       0.11516336, 0.02249606, 0.0541332 , 0.06271815, 0.11894021,\n",
       "       0.03443049, 0.02990743, 0.06201737, 0.        , 0.        ,\n",
       "       0.        , 0.02830693, 0.02719641, 0.02220578, 0.        ,\n",
       "       0.01694185, 0.01540834, 0.        , 0.03846154, 0.04566469,\n",
       "       0.02249606, 0.01805395, 0.01681682, 0.01790287, 0.05595168,\n",
       "       0.0216574 , 0.05120916, 0.02923527, 0.02830693, 0.        ,\n",
       "       0.02668803, 0.04680649, 0.01761175, 0.09478247, 0.        ,\n",
       "       0.06329621, 0.03634829, 0.        , 0.08146146, 0.03268602,\n",
       "       0.03494283, 0.        , 0.09361297, 0.05714545, 0.06016568,\n",
       "       0.04361129, 0.        , 0.05883484, 0.06419407, 0.01493203,\n",
       "       0.01225726, 0.        , 0.        , 0.01904848, 0.06419407,\n",
       "       0.09656091, 0.06201737, 0.03246137, 0.05337605, 0.08320503,\n",
       "       0.03721042, 0.03846154, 0.03388371, 0.10127394, 0.06957954,\n",
       "       0.01887128, 0.        , 0.05200314, 0.03413944, 0.05661385,\n",
       "       0.03100868, 0.        , 0.02990743, 0.07548514, 0.04045567,\n",
       "       0.0418121 , 0.05097796, 0.09709195, 0.04883863, 0.02759737,\n",
       "       0.06362848, 0.        , 0.03774257, 0.04268328, 0.0518253 ,\n",
       "       0.07695963, 0.06880209, 0.04139605, 0.        , 0.03314968,\n",
       "       0.03626189, 0.03050444, 0.05721296, 0.        , 0.06661734,\n",
       "       0.05337605, 0.1152039 , 0.01820893, 0.        , 0.05913124,\n",
       "       0.070447  , 0.03922323, 0.04566469, 0.05283525, 0.00968549,\n",
       "       0.01869894, 0.        , 0.07308817, 0.01904848, 0.05241424,\n",
       "       0.06677806, 0.0555937 , 0.        , 0.04772136, 0.04559608,\n",
       "       0.07347184, 0.02891575, 0.03274292, 0.05510388, 0.0594701 ,\n",
       "       0.12116095, 0.02923527, 0.01580349, 0.01623069, 0.03774257,\n",
       "       0.05714545, 0.07901744, 0.0996271 , 0.03813696, 0.02311251,\n",
       "       0.11689298, 0.07383252, 0.03706247, 0.01981072, 0.07533029,\n",
       "       0.05283525, 0.06004806, 0.01904848, 0.07692308, 0.        ,\n",
       "       0.02114775, 0.05478938, 0.01601282, 0.03739788, 0.0658308 ,\n",
       "       0.03610791, 0.        , 0.02668803, 0.01720052, 0.        ,\n",
       "       0.03160698, 0.06726728, 0.10407268, 0.01623069, 0.03100868,\n",
       "       0.03363364, 0.        , 0.        , 0.04337362, 0.0587981 ,\n",
       "       0.09805807, 0.01869894, 0.        , 0.05825517, 0.        ,\n",
       "       0.06827887, 0.03202563, 0.        , 0.03440105, 0.07161149,\n",
       "       0.01706972, 0.02067246, 0.06933752, 0.07057358, 0.07308817,\n",
       "       0.06307757, 0.        , 0.0855921 , 0.0438529 , 0.        ,\n",
       "       0.03641785, 0.01981072, 0.05283525, 0.        , 0.        ,\n",
       "       0.02139802, 0.        , 0.09265616, 0.06677806, 0.04121688,\n",
       "       0.05691104, 0.04566469, 0.05416186, 0.14508582, 0.        ,\n",
       "       0.02451452, 0.        , 0.01590712, 0.07472032, 0.03363364,\n",
       "       0.        , 0.05718863, 0.03494283, 0.0549235 , 0.07564094,\n",
       "       0.01225726, 0.05574947, 0.        , 0.09544271, 0.03809697,\n",
       "       0.05200314, 0.04772136, 0.01540834, 0.09119215, 0.05943216,\n",
       "       0.04268328, 0.0711388 , 0.07767356, 0.07792865, 0.01775552,\n",
       "       0.10065953, 0.10175967, 0.02620712, 0.01634301, 0.        ,\n",
       "       0.02220578, 0.02875987, 0.04089304, 0.0145371 , 0.14746845,\n",
       "       0.06329621, 0.02242243, 0.03580574, 0.03440105, 0.01981072,\n",
       "       0.02490677, 0.08882312, 0.00904616, 0.0951303 , 0.04902903,\n",
       "       0.06880209, 0.02220578, 0.04193139, 0.03883678, 0.        ,\n",
       "       0.03181424, 0.02311251, 0.03363364, 0.        , 0.03883678,\n",
       "       0.04202489, 0.04331481, 0.04981355, 0.01669451, 0.06362848,\n",
       "       0.03883678, 0.02816064, 0.06321395, 0.        , 0.02414023,\n",
       "       0.03100868, 0.02891575, 0.        , 0.01575243, 0.07354355,\n",
       "       0.        , 0.06164112, 0.04111711, 0.0549235 , 0.06088626,\n",
       "       0.01853123, 0.02693862, 0.0418121 , 0.10127394, 0.03809697,\n",
       "       0.        , 0.04756515, 0.02139802, 0.02090605, 0.02044652,\n",
       "       0.04756515, 0.        , 0.03100868, 0.06448259, 0.05822024,\n",
       "       0.06497221, 0.        , 0.04680649, 0.03100868, 0.        ,\n",
       "       0.07827271, 0.05082556, 0.19531073, 0.01836796, 0.        ,\n",
       "       0.02773501, 0.13162453, 0.04828045, 0.06280743, 0.09482093,\n",
       "       0.02531848, 0.02044652, 0.01904848, 0.05241424, 0.08006408,\n",
       "       0.02139802, 0.06776741, 0.03809697, 0.10719868, 0.        ,\n",
       "       0.        , 0.07595545, 0.09091676, 0.04828045, 0.        ,\n",
       "       0.07134772, 0.02378257, 0.01193525, 0.01887128, 0.14867526,\n",
       "       0.02114775, 0.        , 0.04123054, 0.01887128, 0.01720052,\n",
       "       0.06271815, 0.04651303, 0.01941839, 0.02114775, 0.03466876,\n",
       "       0.04229549, 0.08951436, 0.05241424, 0.02192645, 0.        ,\n",
       "       0.01681682, 0.04331481, 0.02344036, 0.01437993, 0.        ,\n",
       "       0.04981355, 0.09709195, 0.06726728, 0.03673592, 0.05200314,\n",
       "       0.06303411, 0.0493731 , 0.04279605, 0.11651035, 0.        ,\n",
       "       0.02521365, 0.061444  , 0.02114775, 0.02067246, 0.        ,\n",
       "       0.05883484, 0.02553215, 0.02249606, 0.01836796, 0.03984798,\n",
       "       0.        , 0.        , 0.02311251, 0.10400629, 0.05337605,\n",
       "       0.05120916, 0.        , 0.03673592, 0.04981355, 0.04331481,\n",
       "       0.01904848, 0.02022783, 0.02668803, 0.06748819, 0.08119979,\n",
       "       0.02114775, 0.03224129, 0.08006408, 0.01657484, 0.        ,\n",
       "       0.04651303, 0.05416186, 0.03140371, 0.01486753, 0.02801659,\n",
       "       0.01733438, 0.02531848, 0.04559608, 0.01461763, 0.06410256,\n",
       "       0.03774257, 0.03739788, 0.07032108, 0.01961161, 0.04559608,\n",
       "       0.0418121 , 0.04331481, 0.04160251, 0.02956562, 0.10090092,\n",
       "       0.03100868, 0.04622502, 0.05943216, 0.01733438, 0.06799104,\n",
       "       0.03610791, 0.06799104, 0.01853123, 0.08674724, 0.02990743,\n",
       "       0.06016568, 0.        , 0.03100868, 0.02990743, 0.05200314,\n",
       "       0.        , 0.05783149, 0.03962144, 0.01706972, 0.06201737,\n",
       "       0.10853039, 0.        , 0.        , 0.05738414, 0.02044652,\n",
       "       0.03314968, 0.        , 0.07221581, 0.06201737, 0.04229549,\n",
       "       0.01408032, 0.05462678, 0.02344036, 0.        , 0.01857274,\n",
       "       0.04902903, 0.04275535, 0.06004806, 0.05587377, 0.02090605,\n",
       "       0.        , 0.09805807, 0.12857571, 0.04559608, 0.        ,\n",
       "       0.06362848, 0.        , 0.01601282, 0.01904848, 0.        ,\n",
       "       0.0164577 , 0.06405126, 0.09805807, 0.        , 0.06448259,\n",
       "       0.02860648, 0.05218181, 0.03962144, 0.01415346, 0.01623069,\n",
       "       0.        , 0.04972452, 0.03044313, 0.        , 0.01560216,\n",
       "       0.02414023, 0.        , 0.02139802, 0.07252377, 0.        ,\n",
       "       0.01207011, 0.03160698, 0.08600261, 0.05326656, 0.09629111,\n",
       "       0.        , 0.03551104, 0.        , 0.02470831, 0.02090605,\n",
       "       0.02139802, 0.01805395, 0.05082556, 0.04040793, 0.01163735,\n",
       "       0.09078413, 0.01522156, 0.05547002, 0.07850929, 0.02656532,\n",
       "       0.04134491, 0.        , 0.03922323, 0.08178608, 0.02139802,\n",
       "       0.        , 0.08006408, 0.02414023, 0.0555937 , 0.07758909,\n",
       "       0.01393737, 0.0635616 , 0.07758909, 0.05337605, 0.03396831,\n",
       "       0.04241898, 0.14204416, 0.03673592, 0.        , 0.02575131,\n",
       "       0.        , 0.02044652, 0.02378257, 0.05510388, 0.08600261,\n",
       "       0.04045567, 0.01923077, 0.05721296, 0.01869894, 0.05337605,\n",
       "       0.03385565, 0.02773501, 0.01322215, 0.        , 0.07325794,\n",
       "       0.03209704, 0.02220578, 0.05045046, 0.02378257, 0.11020775,\n",
       "       0.05045046, 0.03181424, 0.01580349, 0.        , 0.08722257,\n",
       "       0.1132277 , 0.05439283, 0.        , 0.04539206, 0.01747141,\n",
       "       0.03491205, 0.0664133 , 0.01981072, 0.07844645, 0.06362848,\n",
       "       0.        , 0.09078413, 0.06839411, 0.01282051, 0.        ,\n",
       "       0.03494283, 0.06016568, 0.09615385, 0.03706247, 0.08910918,\n",
       "       0.01623069, 0.        , 0.        , 0.01260682, 0.08882312,\n",
       "       0.02249606, 0.06133956, 0.16343011, 0.1134614 , 0.        ,\n",
       "       0.        , 0.02787473, 0.02620712, 0.0934947 , 0.        ,\n",
       "       0.06832029, 0.0855921 , 0.        , 0.        , 0.        ,\n",
       "       0.06448259, 0.07595545, 0.06088626, 0.03922323, 0.        ,\n",
       "       0.        , 0.03062819, 0.        , 0.01293152, 0.01096323,\n",
       "       0.06321395, 0.        , 0.04460258, 0.02022783, 0.01393737,\n",
       "       0.        , 0.03782047, 0.05462678, 0.05769231, 0.04089304,\n",
       "       0.05439283, 0.10087126, 0.02668803, 0.01904848, 0.10573873,\n",
       "       0.0711388 , 0.05226513, 0.05241424, 0.03120432, 0.        ,\n",
       "       0.04089304, 0.04045567, 0.09544271, 0.04229549, 0.03026138,\n",
       "       0.03440105, 0.05362489, 0.06839411, 0.01590712, 0.04828045,\n",
       "       0.        , 0.02830693, 0.        , 0.06410256, 0.09126832,\n",
       "       0.01550434, 0.10140924, 0.06497221, 0.        , 0.03268602,\n",
       "       0.01657484, 0.05326656, 0.04460258, 0.02192645, 0.0887776 ,\n",
       "       0.06125639, 0.02242243, 0.07884165, 0.02620712, 0.04902903,\n",
       "       0.02311251, 0.03922323, 0.03846154, 0.04229549, 0.        ,\n",
       "       0.02067246, 0.02220578, 0.06640484, 0.01761175, 0.10529963,\n",
       "       0.04877565, 0.05370862, 0.03691626, 0.09564841, 0.05241424,\n",
       "       0.        , 0.0418121 , 0.05128205, 0.05150262, 0.03551104,\n",
       "       0.070447  , 0.05825517, 0.01634301, 0.10453025, 0.        ,\n",
       "       0.08410343, 0.        , 0.04512426, 0.04099218, 0.01981072,\n",
       "       0.05883484, 0.13867505, 0.10347967, 0.        , 0.01941839,\n",
       "       0.02719641, 0.        , 0.0359391 , 0.02044652, 0.04279605,\n",
       "       0.07565344, 0.        , 0.07134772, 0.03181424, 0.01820893,\n",
       "       0.02845552, 0.        , 0.02990743, 0.02114775, 0.        ,\n",
       "       0.09026977, 0.        , 0.03774257, 0.03610791, 0.0352235 ,\n",
       "       0.0606835 , 0.04337362, 0.03962144, 0.03580574, 0.        ,\n",
       "       0.        , 0.13953908, 0.17732712, 0.01669451, 0.04654941,\n",
       "       0.02192645, 0.08320503, 0.03673592, 0.03739788, 0.1067521 ,\n",
       "       0.02311251, 0.03454901, 0.04337362, 0.06661734, 0.02644429,\n",
       "       0.0260909 , 0.02220578, 0.04486115, 0.02620712, 0.        ,\n",
       "       0.04828045, 0.05847053, 0.06577935, 0.05241424, 0.01623069,\n",
       "       0.03673592, 0.        , 0.        , 0.04902903, 0.02719641,\n",
       "       0.05547002, 0.07985639, 0.02490677, 0.        , 0.        ,\n",
       "       0.13344013, 0.17255919, 0.02531848, 0.01393737, 0.0145371 ,\n",
       "       0.05120916, 0.06577935, 0.04590731, 0.01720052, 0.04756515,\n",
       "       0.07472032, 0.01694185, 0.06726728, 0.        , 0.01408032,\n",
       "       0.        , 0.09615385, 0.02719641, 0.0153141 , 0.03846154,\n",
       "       0.14944064, 0.        , 0.        , 0.08006408, 0.04290972,\n",
       "       0.0329154 , 0.03150485, 0.0606835 , 0.0329154 , 0.04003204,\n",
       "       0.02575131, 0.05337605, 0.01422776, 0.        , 0.05943216,\n",
       "       0.07565344, 0.01820893, 0.03580574, 0.02956562, 0.03922323,\n",
       "       0.03739788, 0.08006408, 0.09384356, 0.04638636, 0.05160157,\n",
       "       0.        , 0.01486753, 0.08006408, 0.03580574, 0.        ,\n",
       "       0.06128629, 0.03160698, 0.02787473, 0.07472032, 0.0606835 ,\n",
       "       0.05283525, 0.04361129, 0.        , 0.03181424, 0.01570186,\n",
       "       0.06933752, 0.        , 0.01941839, 0.13497638, 0.        ,\n",
       "       0.07479576, 0.03408211, 0.03896433, 0.05084928, 0.        ,\n",
       "       0.04680649, 0.03160698, 0.0145371 , 0.04972452, 0.09302605,\n",
       "       0.        , 0.02090605, 0.06909802, 0.03440105, 0.03931068,\n",
       "       0.08882312, 0.11440108, 0.01513069, 0.0587981 , 0.02022783,\n",
       "       0.04337362, 0.07102208, 0.06827887, 0.05883484, 0.11094004,\n",
       "       0.        , 0.03420428, 0.05349506, 0.09132938, 0.03774257,\n",
       "       0.        , 0.04622502, 0.03181424, 0.02891575, 0.04828045,\n",
       "       0.05317945, 0.        , 0.0836242 , 0.        , 0.05200314,\n",
       "       0.0594701 , 0.03008284, 0.00966195, 0.03774257, 0.06188857,\n",
       "       0.02001602, 0.06988566, 0.        , 0.02249606, 0.        ,\n",
       "       0.05241424, 0.09922779, 0.07161149, 0.        , 0.06577935,\n",
       "       0.05120916, 0.06004806, 0.03948736, 0.0199641 , 0.05241424,\n",
       "       0.09421114, 0.02378257, 0.03330867, 0.04772136, 0.        ,\n",
       "       0.04003204, 0.01614795, 0.05333656, 0.04836194, 0.06280743,\n",
       "       0.01657484, 0.06880209, 0.02923527, 0.        , 0.        ,\n",
       "       0.        , 0.02668803, 0.05241424, 0.05282859, 0.0855921 ,\n",
       "       0.02001602, 0.1159659 , 0.05387725, 0.01941839, 0.04756515,\n",
       "       0.03706247, 0.02084691, 0.02830693, 0.01590712, 0.02139802,\n",
       "       0.02773501, 0.0457509 , 0.06748819, 0.01836796, 0.05943216,\n",
       "       0.06704852, 0.02875987, 0.09078413, 0.        , 0.        ,\n",
       "       0.02249606, 0.04809861, 0.02490677, 0.05439283, 0.07308817,\n",
       "       0.12070114, 0.05008354, 0.02012109, 0.        , 0.        ,\n",
       "       0.03388371, 0.07619393, 0.        , 0.05241424, 0.        ,\n",
       "       0.        , 0.03396831, 0.03706247, 0.10165112, 0.        ,\n",
       "       0.02249606, 0.        , 0.02875987, 0.05200314, 0.07161149,\n",
       "       0.08534859, 0.01981072, 0.07354355, 0.05416186, 0.03026138,\n",
       "       0.01720052, 0.01346931, 0.09119215, 0.03338903, 0.        ,\n",
       "       0.02001602, 0.06796437, 0.        , 0.        , 0.        ,\n",
       "       0.0153141 , 0.01761175, 0.        , 0.03309718, 0.01869894,\n",
       "       0.05769231, 0.        , 0.        , 0.02956562, 0.0658308 ,\n",
       "       0.01513069, 0.        , 0.        , 0.02249606, 0.07349763,\n",
       "       0.05661385, 0.03846154, 0.10345212, 0.03026138, 0.02956562,\n",
       "       0.03092291, 0.02773501, 0.05547002, 0.        , 0.05241424,\n",
       "       0.02531848, 0.10775449, 0.03440105, 0.03610791, 0.01601282,\n",
       "       0.        , 0.03268602, 0.03268602, 0.        , 0.0438529 ,\n",
       "       0.10925356, 0.01461763, 0.04972452, 0.03862697, 0.        ,\n",
       "       0.0153141 , 0.07189966, 0.05349506, 0.02490677, 0.02044652,\n",
       "       0.03466876, 0.01887128, 0.        , 0.07844645, 0.03580574,\n",
       "       0.00566139, 0.        , 0.01805395, 0.03641785, 0.05721296,\n",
       "       0.0329154 , 0.06827887, 0.05150262, 0.05283525, 0.07850929,\n",
       "       0.01733438, 0.01207011, 0.05783149, 0.04486115, 0.        ,\n",
       "       0.08091134, 0.        , 0.02090605, 0.08805874, 0.10482848,\n",
       "       0.1065943 , 0.02875987, 0.02451452, 0.06280743, 0.04279605,\n",
       "       0.03883678, 0.04099218, 0.08951436, 0.04741047, 0.07189966,\n",
       "       0.01720052, 0.        , 0.04499213, 0.06968683, 0.03363364,\n",
       "       0.0822885 , 0.10832372, 0.06321395, 0.06321395, 0.05337605,\n",
       "       0.        , 0.09435642, 0.        , 0.07657049, 0.03268602,\n",
       "       0.        , 0.        , 0.05462678, 0.        , 0.01522156,\n",
       "       0.07797054, 0.06448259, 0.0438529 , 0.        , 0.01681682,\n",
       "       0.05200314, 0.01681682, 0.        , 0.05462678, 0.04828045,\n",
       "       0.12305421, 0.05139639, 0.        , 0.        , 0.01189129,\n",
       "       0.04079462, 0.04409858, 0.02279804, 0.06419407, 0.04134491,\n",
       "       0.06672006, 0.        , 0.        , 0.        , 0.04003204,\n",
       "       0.04836194, 0.08238526, 0.05830879, 0.07692308, 0.09615385,\n",
       "       0.05008354, 0.        , 0.        , 0.08174982, 0.01805395,\n",
       "       0.        , 0.08268982, 0.03922323, 0.13074409, 0.02311251,\n",
       "       0.04003204, 0.02531848, 0.06661734, 0.05128205, 0.03966644,\n",
       "       0.01805395, 0.        , 0.04902903, 0.02620712, 0.03246137,\n",
       "       0.03160698, 0.07933288, 0.01580349, 0.0418121 , 0.05106429,\n",
       "       0.05416186, 0.02220578, 0.06133956, 0.0418121 , 0.04756515,\n",
       "       0.01202465, 0.05902402, 0.02022783, 0.        , 0.01623069,\n",
       "       0.10719868, 0.        , 0.02451452, 0.05661385, 0.05160157,\n",
       "       0.09856223, 0.01923077, 0.05160157, 0.05008354, 0.        ,\n",
       "       0.05063697, 0.07565344, 0.0153141 , 0.05574947, 0.05943216,\n",
       "       0.02311251, 0.01981072, 0.04089304, 0.0431398 , 0.04441156,\n",
       "       0.04089304, 0.05439283, 0.04902903, 0.01820893, 0.0329154 ,\n",
       "       0.03774257, 0.        , 0.05632127, 0.04972452, 0.02956562,\n",
       "       0.02090605, 0.03922323, 0.0502202 , 0.07752171, 0.03580574,\n",
       "       0.02344036, 0.        , 0.0840841 , 0.07767356, 0.01820893,\n",
       "       0.03610791, 0.05661385, 0.05981486, 0.06419407, 0.        ,\n",
       "       0.03160698, 0.03100868, 0.01981072, 0.08667191, 0.        ,\n",
       "       0.03883678, 0.08006408, 0.09007209, 0.04217307, 0.0153141 ,\n",
       "       0.03551104, 0.03181424, 0.10156694, 0.01379868, 0.06677806,\n",
       "       0.01694185, 0.02311251, 0.0438529 , 0.03100868, 0.01580349,\n",
       "       0.01981072, 0.        , 0.        , 0.01790287, 0.0493731 ,\n",
       "       0.        , 0.1422314 , 0.        , 0.02773501, 0.03691626,\n",
       "       0.        , 0.03551104, 0.04559608, 0.05547002, 0.05337605,\n",
       "       0.0723536 , 0.02719641, 0.        , 0.02192645, 0.        ,\n",
       "       0.        , 0.08470927, 0.02067246, 0.04981355, 0.05769231,\n",
       "       0.07704169, 0.08869686, 0.        , 0.0238705 , 0.02139802,\n",
       "       0.06748819, 0.01805395, 0.03962144, 0.03466876, 0.04594229,\n",
       "       0.07595545, 0.0658308 , 0.09656091, 0.        , 0.        ,\n",
       "       0.04337362, 0.03846154, 0.03739788, 0.04119263, 0.07242068,\n",
       "       0.11219364, 0.04224095, 0.04756515, 0.02490677, 0.01836796,\n",
       "       0.03044313, 0.06448259, 0.02773501, 0.05943216, 0.06383037,\n",
       "       0.05778127, 0.        , 0.05416186, 0.01961161, 0.03466876,\n",
       "       0.01747141, 0.        , 0.02542464, 0.        , 0.05462678,\n",
       "       0.        , 0.02575131, 0.02620712, 0.0329154 , 0.02192645,\n",
       "       0.04680649, 0.        , 0.1067521 , 0.        , 0.06437828,\n",
       "       0.        , 0.06201737, 0.0352235 , 0.02830693, 0.07040159,\n",
       "       0.02956562, 0.04460258, 0.05337605, 0.07228937, 0.        ,\n",
       "       0.        , 0.        , 0.        , 0.        , 0.02249606,\n",
       "       0.04486115, 0.03922323, 0.        , 0.06909802, 0.01820893,\n",
       "       0.06344324, 0.06303411, 0.04836194, 0.0164577 , 0.08513824,\n",
       "       0.08492078, 0.        , 0.06522726, 0.04741047, 0.        ,\n",
       "       0.03314968, 0.02114775, 0.06419407, 0.0216574 , 0.05063697,\n",
       "       0.03018164, 0.01623069, 0.04739816, 0.04796177, 0.05943216,\n",
       "       0.06957954, 0.01143773, 0.05814838, 0.02891575, 0.02279804,\n",
       "       0.02344036, 0.        , 0.05721296, 0.        , 0.        ,\n",
       "       0.03809697, 0.02668803, 0.0216574 , 0.07797054, 0.05120916,\n",
       "       0.11894021, 0.06832029, 0.11720181, 0.04902903, 0.01322215,\n",
       "       0.05551445, 0.03008284, 0.05241424, 0.05510388, 0.01805395,\n",
       "       0.04246039, 0.04224095, 0.05326656, 0.06163336, 0.0676665 ,\n",
       "       0.02022783, 0.03846154, 0.01836796, 0.01775552, 0.04539206,\n",
       "       0.        , 0.        , 0.05642608, 0.03846154, 0.03388371,\n",
       "       0.01981072, 0.04981355, 0.02217421, 0.04139605, 0.02344036,\n",
       "       0.04331481, 0.04331481, 0.03846154, 0.09265616, 0.06410256,\n",
       "       0.03135551, 0.07862136, 0.07752171, 0.02923527, 0.05847053,\n",
       "       0.03466876, 0.        , 0.02090605, 0.07401711, 0.01720052,\n",
       "       0.06880209, 0.        , 0.03044313, 0.0795356 , 0.07242068,\n",
       "       0.04559608, 0.0493731 , 0.05825517, 0.04566469, 0.04268328,\n",
       "       0.        , 0.08081587, 0.01550434, 0.        , 0.05609682,\n",
       "       0.04836194, 0.03809697, 0.02990743, 0.01790287, 0.08998425,\n",
       "       0.        , 0.01151634, 0.        , 0.02001602, 0.02990743,\n",
       "       0.01045303, 0.        , 0.01648675, 0.04828045, 0.04290972,\n",
       "       0.07007128, 0.        , 0.        , 0.03962144, 0.        ,\n",
       "       0.05416186, 0.08268982, 0.05462678, 0.02490677, 0.05883484,\n",
       "       0.04981355, 0.0260909 , 0.        , 0.06497221, 0.02378257,\n",
       "       0.        , 0.        , 0.02378257, 0.        , 0.13990462,\n",
       "       0.13815792, 0.01887128, 0.01408032, 0.05519473, 0.02044652,\n",
       "       0.04290972, 0.01941839, 0.08417256, 0.02090605, 0.        ,\n",
       "       0.02620712, 0.        , 0.03673592, 0.03551104, 0.01904848,\n",
       "       0.09959432, 0.02192645, 0.02044652, 0.06240865, 0.01805395,\n",
       "       0.        , 0.07595545, 0.01623069, 0.        , 0.02344036,\n",
       "       0.0855921 , 0.06052275, 0.04622502, 0.05120916, 0.04869206,\n",
       "       0.0269669 , 0.03922323, 0.01359821, 0.        , 0.06271815,\n",
       "       0.05510388, 0.03388371, 0.0594701 , 0.        , 0.04566469,\n",
       "       0.01334401, 0.        , 0.04045567, 0.02114775, 0.03879455,\n",
       "       0.        , 0.06492275, 0.03385565, 0.        , 0.03466876,\n",
       "       0.0544767 , 0.03913635, 0.01681682, 0.03363364, 0.        ,\n",
       "       0.        , 0.02311251, 0.04003204, 0.06629935, 0.01601282,\n",
       "       0.        , 0.08869686, 0.        , 0.        , 0.        ,\n",
       "       0.03846154, 0.02801659, 0.06839411, 0.04119263, 0.02490677,\n",
       "       0.        , 0.03883678, 0.03081668, 0.05200314, 0.08988656,\n",
       "       0.04441156, 0.        , 0.04828045, 0.02414023, 0.05751973,\n",
       "       0.03846154, 0.02220578, 0.03641785, 0.        , 0.0802734 ,\n",
       "       0.04902903, 0.01836796, 0.01761175, 0.04160251, 0.05241424,\n",
       "       0.02451452, 0.04224095, 0.05883484, 0.05439283, 0.        ,\n",
       "       0.04441156, 0.02249606, 0.03320242, 0.02490677, 0.05218181,\n",
       "       0.06494054, 0.05241424, 0.        , 0.        , 0.        ,\n",
       "       0.01027928, 0.        , 0.04512426, 0.03673592, 0.04409858,\n",
       "       0.03706247, 0.07801081, 0.        , 0.03922323, 0.        ,\n",
       "       0.02001602, 0.06201737, 0.        , 0.05160157, 0.01030764,\n",
       "       0.06726728, 0.01265924, 0.03551104, 0.03466876, 0.        ,\n",
       "       0.01590712, 0.07692308, 0.        , 0.05818676, 0.02773501,\n",
       "       0.03893232, 0.        , 0.05241424, 0.01132277, 0.        ,\n",
       "       0.04756515, 0.0951303 , 0.06832029, 0.01445787, 0.02139802,\n",
       "       0.06088626, 0.07347184, 0.02875987, 0.        , 0.        ,\n",
       "       0.11629676, 0.03774257, 0.03706247, 0.03721042, 0.05519473,\n",
       "       0.05847053, 0.        , 0.06517121, 0.01408032, 0.0352235 ,\n",
       "       0.01304545, 0.04594229, 0.06240865, 0.03774257, 0.01657484,\n",
       "       0.        , 0.04089304, 0.04486115, 0.02564103, 0.01580349,\n",
       "       0.10828702, 0.        , 0.        , 0.04224095, 0.06125639,\n",
       "       0.01694185, 0.05981486, 0.0329154 , 0.02279804, 0.01720052,\n",
       "       0.05498343, 0.01887128, 0.00895144, 0.02586303, 0.08662962,\n",
       "       0.        , 0.0164577 , 0.11886433, 0.02773501, 0.09805807,\n",
       "       0.06577935, 0.        , 0.0431398 , 0.04721922, 0.0844908 ,\n",
       "       0.04559608, 0.        , 0.02845552, 0.01805395, 0.02490677,\n",
       "       0.10828702, 0.02344036, 0.        , 0.03081668, 0.04460258,\n",
       "       0.06004806, 0.05160157, 0.02773501, 0.04229549, 0.02575131,\n",
       "       0.1000801 , 0.0502202 , 0.04045567, 0.        , 0.        ,\n",
       "       0.        , 0.04981355, 0.08089378, 0.        , 0.04361129,\n",
       "       0.09223803, 0.        , 0.0854676 , 0.        , 0.04756515,\n",
       "       0.05783149, 0.04828045, 0.07725393, 0.06081303, 0.04756515,\n",
       "       0.01590712, 0.09805807, 0.0135333 , 0.05510388, 0.07412493,\n",
       "       0.03026138, 0.0431398 , 0.04741047, 0.07801424, 0.03081668,\n",
       "       0.02787473, 0.02575131, 0.06362848, 0.0493731 , 0.02044652,\n",
       "       0.02939905, 0.0352235 , 0.01287566, 0.1254363 , 0.05519473,\n",
       "       0.0118048 , 0.070447  , 0.        , 0.04331481, 0.04499213,\n",
       "       0.03314968, 0.01486753, 0.02531848, 0.        , 0.08722257,\n",
       "       0.02451452, 0.0438529 , 0.03541441, 0.03883678, 0.02192645,\n",
       "       0.03062819, 0.        , 0.06226694, 0.06629935, 0.03494283,\n",
       "       0.01941839, 0.02114775, 0.02732812, 0.05661385, 0.13537279,\n",
       "       0.03966644, 0.06438598, 0.02973505, 0.06598588, 0.03224129,\n",
       "       0.02939905, 0.        , 0.03721042, 0.05913124, 0.05241424,\n",
       "       0.07479576, 0.        , 0.05430934, 0.02746175, 0.        ,\n",
       "       0.05370862, 0.03058678, 0.        , 0.03181424, 0.11538462,\n",
       "       0.02441931, 0.        , 0.06448259, 0.04566469, 0.02249606,\n",
       "       0.02956562, 0.06537205, 0.04241898, 0.04160251, 0.03580574,\n",
       "       0.02668803, 0.08534859, 0.03992819, 0.05714545, 0.        ,\n",
       "       0.10175967, 0.07548514, 0.05699509, 0.0164577 , 0.01694185,\n",
       "       0.03017171, 0.03733007, 0.03120432, 0.01048285, 0.0431398 ,\n",
       "       0.06492275, 0.01230542, 0.        , 0.070447  , 0.06004806,\n",
       "       0.        , 0.        , 0.08060324, 0.01951428, 0.06704852,\n",
       "       0.04981355, 0.02451452, 0.11219364, 0.13397283, 0.01623069,\n",
       "       0.07161149, 0.02022783, 0.06672006, 0.        , 0.02801659,\n",
       "       0.        , 0.07412493, 0.        , 0.01513069, 0.05416186,\n",
       "       0.        , 0.        , 0.02681245, 0.        , 0.05326656,\n",
       "       0.01681682, 0.02480695, 0.07042382, 0.08459099, 0.        ,\n",
       "       0.12810252, 0.06748819, 0.05349506, 0.05337605, 0.06277525,\n",
       "       0.01820893, 0.01694185, 0.        , 0.01359821, 0.09376145,\n",
       "       0.        , 0.1222999 , 0.05063697, 0.03948736, 0.01790287,\n",
       "       0.02845552, 0.0862796 , 0.01681682, 0.02451452, 0.03338903,\n",
       "       0.04331481, 0.08951436, 0.0135333 , 0.09805807, 0.        ,\n",
       "       0.08006408, 0.        , 0.02531848, 0.05783149, 0.04902903,\n",
       "       0.03774257, 0.06604949, 0.03044313, 0.01346931, 0.05450943,\n",
       "       0.1014698 , 0.03026138, 0.05661385, 0.05195243, 0.        ,\n",
       "       0.02044652, 0.05008354, 0.        , 0.03673592, 0.02114775,\n",
       "       0.02090605, 0.03385565, 0.03610791, 0.        , 0.01869894,\n",
       "       0.05200314, 0.03508232, 0.02702374, 0.03706247, 0.04089304,\n",
       "       0.01720052, 0.03062819, 0.        , 0.        , 0.        ,\n",
       "       0.        , 0.01805395, 0.        , 0.01710214, 0.01540834,\n",
       "       0.041072  , 0.05883484, 0.        , 0.0658308 , 0.03363364,\n",
       "       0.01882775, 0.02990743, 0.        , 0.05769231, 0.03913635,\n",
       "       0.0586009 , 0.02891575, 0.01601282, 0.09738412, 0.07391405,\n",
       "       0.02490677, 0.0840841 , 0.05661385, 0.03160698, 0.02668803,\n",
       "       0.14429582, 0.05283525, 0.02067246, 0.        , 0.08323901,\n",
       "       0.        , 0.07581518, 0.        , 0.03883678, 0.02414023,\n",
       "       0.03621034, 0.05008354, 0.02279804, 0.02575131, 0.12403473,\n",
       "       0.00954678, 0.05128205, 0.        , 0.02610374, 0.04756515,\n",
       "       0.04590731, 0.05150262, 0.01923077, 0.05632127, 0.05462678,\n",
       "       0.03202563, 0.        , 0.03809697, 0.        , 0.14694367,\n",
       "       0.        , 0.06344324, 0.06537205, 0.03396831, 0.01853123,\n",
       "       0.        , 0.01805395, 0.05648325, 0.01504142, 0.00367746,\n",
       "       0.02973505, 0.03984798, 0.01634301, 0.        , 0.02139802,\n",
       "       0.01255505, 0.05632127, 0.05661385, 0.02378257, 0.        ,\n",
       "       0.14034589, 0.04590731, 0.05462678, 0.02884615, 0.        ,\n",
       "       0.03363364, 0.03110604, 0.02242243, 0.02414023, 0.03363364,\n",
       "       0.02891575, 0.03673592, 0.05928113, 0.03338903, 0.08287419,\n",
       "       0.01096323, 0.        , 0.04134491, 0.01373088, 0.        ,\n",
       "       0.        , 0.01612065, 0.        , 0.09198662, 0.01904848,\n",
       "       0.        , 0.01623069, 0.07657049, 0.        , 0.03846154,\n",
       "       0.01747141, 0.02956562, 0.05063697, 0.1067521 , 0.07924289,\n",
       "       0.03181424, 0.03809697, 0.04229549, 0.02279804, 0.07844645,\n",
       "       0.05160157, 0.03140371, 0.        , 0.01422776, 0.04972452,\n",
       "       0.06419407, 0.10241831, 0.08735707, 0.04902903, 0.01761175,\n",
       "       0.04704906, 0.0493731 , 0.05120916, 0.01820893, 0.09564841,\n",
       "       0.06933752, 0.        , 0.05587377, 0.        , 0.01540834,\n",
       "       0.08533849, 0.12971863, 0.        , 0.03181424, 0.08115343,\n",
       "       0.09805807, 0.06133956, 0.07242068, 0.07098647, 0.10680115,\n",
       "       0.        , 0.03896433, 0.        , 0.        , 0.04894413,\n",
       "       0.02279804, 0.02830693, 0.08869686, 0.02531848, 0.03883678,\n",
       "       0.04756515, 0.        , 0.02830693, 0.05450943, 0.        ,\n",
       "       0.        , 0.04079462, 0.04710557, 0.        , 0.02755194,\n",
       "       0.        , 0.04279605, 0.        , 0.03648782, 0.1315587 ,\n",
       "       0.03314968, 0.06577935, 0.04809861, 0.03466876, 0.0951303 ,\n",
       "       0.04089304, 0.03558403, 0.01853123, 0.        , 0.04688072,\n",
       "       0.02620712, 0.        , 0.02249606, 0.        , 0.04045567,\n",
       "       0.        , 0.01733438, 0.10719868, 0.08081587, 0.        ,\n",
       "       0.01216261, 0.        , 0.02192645, 0.        , 0.01820893,\n",
       "       0.        , 0.0138675 , 0.03809697, 0.07772023, 0.01706972,\n",
       "       0.02192645, 0.01504142, 0.        , 0.05661385, 0.07502345,\n",
       "       0.        , 0.01853123, 0.09659078, 0.        , 0.10058358,\n",
       "       0.03774257, 0.        , 0.09805807, 0.05326656, 0.06577935,\n",
       "       0.02090605, 0.01513069, 0.05153818, 0.04266925, 0.        ,\n",
       "       0.04361129, 0.0352235 , 0.09479631, 0.03494283, 0.02490677,\n",
       "       0.        , 0.        , 0.02378257, 0.        , 0.03610791,\n",
       "       0.01706972, 0.06620292, 0.01099765, 0.12428864, 0.        ,\n",
       "       0.        , 0.03791852, 0.04089304, 0.08158924, 0.04331481,\n",
       "       0.01904848, 0.04539206, 0.        , 0.01961161, 0.        ,\n",
       "       0.03922323, 0.09143962, 0.07117704, 0.13810554, 0.02114775,\n",
       "       0.03610791, 0.        , 0.02022783, 0.10591482, 0.05883484,\n",
       "       0.08119979, 0.10345212, 0.04089304, 0.01853123, 0.        ,\n",
       "       0.04040793, 0.        , 0.06515082, 0.06344324, 0.03202563,\n",
       "       0.05533737, 0.04622502, 0.        , 0.070447  , 0.01836796,\n",
       "       0.03673592, 0.04486115, 0.0135333 , 0.02090605, 0.        ,\n",
       "       0.05063697, 0.        , 0.04772136, 0.02773501, 0.02520115,\n",
       "       0.03413944, 0.        , 0.01669451, 0.01560216, 0.03984798,\n",
       "       0.06776741, 0.        , 0.06448259, 0.02891575, 0.08061435,\n",
       "       0.06933752, 0.03026138, 0.        , 0.05008354, 0.01669451,\n",
       "       0.06933752, 0.01513069, 0.07548514, 0.03494283, 0.03044313,\n",
       "       0.05241424, 0.08869686, 0.06437828, 0.02001602, 0.03721042,\n",
       "       0.        , 0.01590712, 0.        , 0.        , 0.0216574 ,\n",
       "       0.02973505, 0.        , 0.04559608, 0.06271815, 0.08735707,\n",
       "       0.0555937 , 0.12688648, 0.11637352, 0.01981072, 0.0836242 ,\n",
       "       0.        , 0.03739788, 0.10289668, 0.03391409, 0.03363364,\n",
       "       0.05120916, 0.01271232, 0.07844645, 0.03363364, 0.02001602,\n",
       "       0.09544271, 0.09564841, 0.        , 0.03641785, 0.01590712,\n",
       "       0.        , 0.01495372, 0.        , 0.05200314, 0.0438529 ,\n",
       "       0.01941839, 0.02719641, 0.04756515, 0.05439283, 0.02891575,\n",
       "       0.        , 0.        , 0.        , 0.        , 0.04089304,\n",
       "       0.05313064, 0.04331481, 0.01522156, 0.08158924, 0.04308424,\n",
       "       0.03026138, 0.01334401, 0.08534859, 0.        , 0.01720052,\n",
       "       0.        , 0.02719641, 0.        , 0.03172162, 0.01657484,\n",
       "       0.03062819, 0.02732812, 0.        , 0.        , 0.02414023,\n",
       "       0.04836194, 0.04664147, 0.06492275, 0.        , 0.0951303 ,\n",
       "       0.06933752, 0.02668803, 0.05798295, 0.05288859, 0.0658308 ,\n",
       "       0.05883484, 0.08662962, 0.        , 0.05120916, 0.09656091,\n",
       "       0.        , 0.0635616 , 0.03466876, 0.03846154, 0.08513824,\n",
       "       0.05362489, 0.03338903, 0.        , 0.04279605, 0.07548514,\n",
       "       0.0153141 , 0.01923077, 0.06177078, 0.02490677, 0.09672388,\n",
       "       0.06133956, 0.03706247, 0.        , 0.        , 0.02620712,\n",
       "       0.0555937 , 0.0216574 , 0.        , 0.04279605, 0.05063697,\n",
       "       0.04594229, 0.01172018, 0.05632127, 0.0594701 , 0.07134772,\n",
       "       0.04622502, 0.02830693, 0.03413944, 0.01720052, 0.        ,\n",
       "       0.01694185, 0.        , 0.02830693, 0.02044652, 0.07040159,\n",
       "       0.03466876, 0.        , 0.14803423, 0.02620712, 0.07412493,\n",
       "       0.13045451, 0.01478281, 0.        , 0.08722257, 0.0438529 ,\n",
       "       0.02830693, 0.03962144, 0.01265924, 0.06497221, 0.03120432,\n",
       "       0.        , 0.02773501, 0.        , 0.        , 0.08674724,\n",
       "       0.01430324, 0.        , 0.03026138, 0.        , 0.02090605,\n",
       "       0.07901744, 0.06537205, 0.03846154, 0.11847809, 0.05160157,\n",
       "       0.03691626, 0.        , 0.        , 0.08613795, 0.08417256,\n",
       "       0.05200314])"
      ]
     },
     "execution_count": 70,
     "metadata": {},
     "output_type": "execute_result"
    }
   ],
   "source": [
    "similarity[0]"
   ]
  },
  {
   "cell_type": "code",
   "execution_count": 71,
   "metadata": {},
   "outputs": [
    {
     "data": {
      "text/plain": [
       "[(307, 0.19531072666281962),\n",
       " (712, 0.1773271170602693),\n",
       " (746, 0.17255919256291524),\n",
       " (577, 0.16343011261515336),\n",
       " (765, 0.1494406444160154),\n",
       " (334, 0.14867525836251314),\n",
       " (2242, 0.14803422705323477),\n",
       " (244, 0.14746845304722261),\n",
       " (1869, 0.14694367167412903),\n",
       " (208, 0.14508582304931122)]"
      ]
     },
     "execution_count": 71,
     "metadata": {},
     "output_type": "execute_result"
    }
   ],
   "source": [
    "sorted(list(enumerate(similarity[0])), reverse=True, key=lambda x:x[1])[1:11]  "
   ]
  },
  {
   "attachments": {},
   "cell_type": "markdown",
   "metadata": {},
   "source": [
    "#### Function to perform the recommendation:"
   ]
  },
  {
   "cell_type": "code",
   "execution_count": 78,
   "metadata": {},
   "outputs": [],
   "source": [
    "def recommend_by_isbn(book_isbn, number_of_books):\n",
    "    book_index = final_books[final_books['ISBN'] == book_isbn].index[0]\n",
    "\n",
    "    #If the book is not in the dataset\n",
    "    if book_index not in final_books.index:\n",
    "        print('The book is not in the dataset')\n",
    "        return\n",
    "    distances = similarity[book_index]\n",
    "    books_list = sorted(list(enumerate(distances)), reverse=True, key=lambda x:x[1])[1:number_of_books+1]\n",
    "    for i in books_list:\n",
    "        print(final_books.iloc[i[0]].ISBN)"
   ]
  },
  {
   "cell_type": "code",
   "execution_count": 80,
   "metadata": {},
   "outputs": [
    {
     "name": "stdout",
     "output_type": "stream",
     "text": [
      "1577311523\n",
      "0316154067\n",
      "0515117242\n",
      "0671867113\n",
      "0446341878\n",
      "0060187395\n",
      "0441008615\n",
      "0345391055\n",
      "0590406124\n",
      "0385508042\n",
      "031286504X\n",
      "0340654163\n",
      "0590478788\n",
      "0571197272\n",
      "0399152121\n",
      "089845624X\n",
      "0385308361\n",
      "031230434X\n",
      "0505525259\n",
      "0451202341\n"
     ]
    }
   ],
   "source": [
    "book_isbn = input(\"Enter the book ISBN: \")\n",
    "recommendation_count = int(input(\"Enter the number of recommendations you want: \"))\n",
    "recommend_by_isbn(book_isbn, recommendation_count)"
   ]
  },
  {
   "cell_type": "code",
   "execution_count": 81,
   "metadata": {},
   "outputs": [],
   "source": [
    "import pickle"
   ]
  },
  {
   "cell_type": "code",
   "execution_count": null,
   "metadata": {},
   "outputs": [],
   "source": [
    "#pickle.dump(final_books, open('hybrid-2.0.0/app/model/final_books.pkl', 'wb'))"
   ]
  },
  {
   "attachments": {},
   "cell_type": "markdown",
   "metadata": {},
   "source": [
    "### This is books model"
   ]
  },
  {
   "cell_type": "code",
   "execution_count": 87,
   "metadata": {},
   "outputs": [],
   "source": [
    "pickle.dump(final_books.to_dict(), open('../app/model/final_books-dataset-2.0.0.pkl', 'wb'))"
   ]
  },
  {
   "cell_type": "code",
   "execution_count": null,
   "metadata": {},
   "outputs": [],
   "source": [
    "final_books.to_dict()"
   ]
  },
  {
   "attachments": {},
   "cell_type": "markdown",
   "metadata": {},
   "source": [
    "### This is recommendation model"
   ]
  },
  {
   "cell_type": "code",
   "execution_count": 89,
   "metadata": {},
   "outputs": [],
   "source": [
    "pickle.dump(similarity, open('../app/model/content-based-similarity-2.0.0.pkl', 'wb'))"
   ]
  },
  {
   "cell_type": "code",
   "execution_count": null,
   "metadata": {},
   "outputs": [],
   "source": [
    "similarity"
   ]
  }
 ],
 "metadata": {
  "kernelspec": {
   "display_name": "Python 3",
   "language": "python",
   "name": "python3"
  },
  "language_info": {
   "codemirror_mode": {
    "name": "ipython",
    "version": 3
   },
   "file_extension": ".py",
   "mimetype": "text/x-python",
   "name": "python",
   "nbconvert_exporter": "python",
   "pygments_lexer": "ipython3",
   "version": "3.10.11"
  },
  "orig_nbformat": 4,
  "vscode": {
   "interpreter": {
    "hash": "92f2f9d40fe351ffe2d812abb5d1b74348355f8c449db015a40d3e59a266b265"
   }
  }
 },
 "nbformat": 4,
 "nbformat_minor": 2
}
